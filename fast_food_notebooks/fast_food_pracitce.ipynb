{
 "cells": [
  {
   "cell_type": "markdown",
   "id": "4839963c",
   "metadata": {},
   "source": [
    "# Pandas Practice with Fast Food Data\n",
    "Author: JAAR\n",
    "\n",
    "Date: 07/22/2025"
   ]
  },
  {
   "cell_type": "code",
   "execution_count": 1,
   "id": "edc878a4",
   "metadata": {},
   "outputs": [],
   "source": [
    "# imports\n",
    "import pandas as pd"
   ]
  },
  {
   "cell_type": "code",
   "execution_count": 2,
   "id": "b1faa000",
   "metadata": {},
   "outputs": [],
   "source": [
    "# Load the fast food data\n",
    "df=pd.read_csv('../data/US_top_50_fast_foods.csv')"
   ]
  },
  {
   "cell_type": "markdown",
   "id": "e86f1aef",
   "metadata": {},
   "source": [
    "Get the shape and basic information for the dataset"
   ]
  },
  {
   "cell_type": "code",
   "execution_count": 3,
   "id": "7e360466",
   "metadata": {},
   "outputs": [
    {
     "data": {
      "text/plain": [
       "(50, 7)"
      ]
     },
     "execution_count": 3,
     "metadata": {},
     "output_type": "execute_result"
    }
   ],
   "source": [
    "df.shape"
   ]
  },
  {
   "cell_type": "code",
   "execution_count": 4,
   "id": "da9baa2a",
   "metadata": {},
   "outputs": [
    {
     "name": "stdout",
     "output_type": "stream",
     "text": [
      "<class 'pandas.core.frame.DataFrame'>\n",
      "RangeIndex: 50 entries, 0 to 49\n",
      "Data columns (total 7 columns):\n",
      " #   Column                                            Non-Null Count  Dtype \n",
      "---  ------                                            --------------  ----- \n",
      " 0   Fast-Food Chains                                  50 non-null     object\n",
      " 1   U.S. Systemwide Sales (Millions - U.S Dollars)    50 non-null     int64 \n",
      " 2   Average Sales per Unit (Thousands - U.S Dollars)  50 non-null     int64 \n",
      " 3   Franchised Stores                                 50 non-null     int64 \n",
      " 4   Company Stores                                    50 non-null     int64 \n",
      " 5   2021 Total Units                                  50 non-null     int64 \n",
      " 6   Total Change in Units from 2020                   50 non-null     int64 \n",
      "dtypes: int64(6), object(1)\n",
      "memory usage: 2.9+ KB\n"
     ]
    }
   ],
   "source": [
    "df.info()"
   ]
  },
  {
   "cell_type": "markdown",
   "id": "5764896c",
   "metadata": {},
   "source": [
    "What are the data types?"
   ]
  },
  {
   "cell_type": "code",
   "execution_count": 5,
   "id": "d9189458",
   "metadata": {},
   "outputs": [
    {
     "data": {
      "text/plain": [
       "Fast-Food Chains                                    object\n",
       "U.S. Systemwide Sales (Millions - U.S Dollars)       int64\n",
       "Average Sales per Unit (Thousands - U.S Dollars)     int64\n",
       "Franchised Stores                                    int64\n",
       "Company Stores                                       int64\n",
       "2021 Total Units                                     int64\n",
       "Total Change in Units from 2020                      int64\n",
       "dtype: object"
      ]
     },
     "execution_count": 5,
     "metadata": {},
     "output_type": "execute_result"
    }
   ],
   "source": [
    "df.dtypes"
   ]
  },
  {
   "cell_type": "markdown",
   "id": "9ae09e01",
   "metadata": {},
   "source": [
    "Are there any null values?"
   ]
  },
  {
   "cell_type": "code",
   "execution_count": 6,
   "id": "d943d3c9",
   "metadata": {},
   "outputs": [
    {
     "data": {
      "text/plain": [
       "Fast-Food Chains                                    0\n",
       "U.S. Systemwide Sales (Millions - U.S Dollars)      0\n",
       "Average Sales per Unit (Thousands - U.S Dollars)    0\n",
       "Franchised Stores                                   0\n",
       "Company Stores                                      0\n",
       "2021 Total Units                                    0\n",
       "Total Change in Units from 2020                     0\n",
       "dtype: int64"
      ]
     },
     "execution_count": 6,
     "metadata": {},
     "output_type": "execute_result"
    }
   ],
   "source": [
    "df.isnull().sum()"
   ]
  },
  {
   "cell_type": "markdown",
   "id": "5925ce90",
   "metadata": {},
   "source": [
    "Replace all of the columns spaces with underscores"
   ]
  },
  {
   "cell_type": "code",
   "execution_count": 7,
   "id": "e91a0fd8",
   "metadata": {},
   "outputs": [],
   "source": [
    "df.columns=df.columns.str.replace(' ', '_')"
   ]
  },
  {
   "cell_type": "markdown",
   "id": "8ab9daee",
   "metadata": {},
   "source": [
    "For the series containing the fast food chains, change it to just chain"
   ]
  },
  {
   "cell_type": "code",
   "execution_count": 8,
   "id": "98fb23b1",
   "metadata": {},
   "outputs": [
    {
     "data": {
      "text/plain": [
       "Index(['Fast-Food_Chains', 'U.S._Systemwide_Sales_(Millions_-_U.S_Dollars)',\n",
       "       'Average_Sales_per_Unit_(Thousands_-_U.S_Dollars)', 'Franchised_Stores',\n",
       "       'Company_Stores', '2021_Total_Units',\n",
       "       'Total_Change_in_Units_from_2020'],\n",
       "      dtype='object')"
      ]
     },
     "execution_count": 8,
     "metadata": {},
     "output_type": "execute_result"
    }
   ],
   "source": [
    "df.columns"
   ]
  },
  {
   "cell_type": "code",
   "execution_count": 9,
   "id": "58ba6889",
   "metadata": {},
   "outputs": [],
   "source": [
    "df=df.rename(columns={'Fast-Food_Chains':'chains'})"
   ]
  },
  {
   "cell_type": "markdown",
   "id": "02daa086",
   "metadata": {},
   "source": [
    "Get a sample of five entries"
   ]
  },
  {
   "cell_type": "code",
   "execution_count": 10,
   "id": "8b6cf013",
   "metadata": {},
   "outputs": [
    {
     "data": {
      "text/html": [
       "<div>\n",
       "<style scoped>\n",
       "    .dataframe tbody tr th:only-of-type {\n",
       "        vertical-align: middle;\n",
       "    }\n",
       "\n",
       "    .dataframe tbody tr th {\n",
       "        vertical-align: top;\n",
       "    }\n",
       "\n",
       "    .dataframe thead th {\n",
       "        text-align: right;\n",
       "    }\n",
       "</style>\n",
       "<table border=\"1\" class=\"dataframe\">\n",
       "  <thead>\n",
       "    <tr style=\"text-align: right;\">\n",
       "      <th></th>\n",
       "      <th>chains</th>\n",
       "      <th>U.S._Systemwide_Sales_(Millions_-_U.S_Dollars)</th>\n",
       "      <th>Average_Sales_per_Unit_(Thousands_-_U.S_Dollars)</th>\n",
       "      <th>Franchised_Stores</th>\n",
       "      <th>Company_Stores</th>\n",
       "      <th>2021_Total_Units</th>\n",
       "      <th>Total_Change_in_Units_from_2020</th>\n",
       "    </tr>\n",
       "  </thead>\n",
       "  <tbody>\n",
       "    <tr>\n",
       "      <th>1</th>\n",
       "      <td>Baskin-Robbins</td>\n",
       "      <td>686</td>\n",
       "      <td>296</td>\n",
       "      <td>2317</td>\n",
       "      <td>0</td>\n",
       "      <td>2317</td>\n",
       "      <td>102</td>\n",
       "    </tr>\n",
       "    <tr>\n",
       "      <th>37</th>\n",
       "      <td>Raising Cane’s</td>\n",
       "      <td>2377</td>\n",
       "      <td>4893</td>\n",
       "      <td>23</td>\n",
       "      <td>544</td>\n",
       "      <td>567</td>\n",
       "      <td>58</td>\n",
       "    </tr>\n",
       "    <tr>\n",
       "      <th>43</th>\n",
       "      <td>Tim Hortons</td>\n",
       "      <td>687</td>\n",
       "      <td>1200</td>\n",
       "      <td>637</td>\n",
       "      <td>0</td>\n",
       "      <td>637</td>\n",
       "      <td>4</td>\n",
       "    </tr>\n",
       "    <tr>\n",
       "      <th>33</th>\n",
       "      <td>Papa Murphy’s</td>\n",
       "      <td>809</td>\n",
       "      <td>643</td>\n",
       "      <td>1213</td>\n",
       "      <td>27</td>\n",
       "      <td>1240</td>\n",
       "      <td>-53</td>\n",
       "    </tr>\n",
       "    <tr>\n",
       "      <th>13</th>\n",
       "      <td>Dunkin'</td>\n",
       "      <td>10416</td>\n",
       "      <td>1127</td>\n",
       "      <td>9244</td>\n",
       "      <td>0</td>\n",
       "      <td>9244</td>\n",
       "      <td>161</td>\n",
       "    </tr>\n",
       "  </tbody>\n",
       "</table>\n",
       "</div>"
      ],
      "text/plain": [
       "            chains  U.S._Systemwide_Sales_(Millions_-_U.S_Dollars)  \\\n",
       "1   Baskin-Robbins                                             686   \n",
       "37  Raising Cane’s                                            2377   \n",
       "43     Tim Hortons                                             687   \n",
       "33   Papa Murphy’s                                             809   \n",
       "13         Dunkin'                                           10416   \n",
       "\n",
       "    Average_Sales_per_Unit_(Thousands_-_U.S_Dollars)  Franchised_Stores  \\\n",
       "1                                                296               2317   \n",
       "37                                              4893                 23   \n",
       "43                                              1200                637   \n",
       "33                                               643               1213   \n",
       "13                                              1127               9244   \n",
       "\n",
       "    Company_Stores  2021_Total_Units  Total_Change_in_Units_from_2020  \n",
       "1                0              2317                              102  \n",
       "37             544               567                               58  \n",
       "43               0               637                                4  \n",
       "33              27              1240                              -53  \n",
       "13               0              9244                              161  "
      ]
     },
     "execution_count": 10,
     "metadata": {},
     "output_type": "execute_result"
    }
   ],
   "source": [
    "df.sample(5)"
   ]
  },
  {
   "cell_type": "markdown",
   "id": "80eed0ff",
   "metadata": {},
   "source": [
    "Rename 'Franchised Stores' as'stores_franchised' and 'Company Stores' as 'company_stores'"
   ]
  },
  {
   "cell_type": "code",
   "execution_count": 11,
   "id": "a1ecd627",
   "metadata": {},
   "outputs": [],
   "source": [
    "df=df.rename(columns={\n",
    "    'Franchised_Stores': 'stores_franchised',\n",
    "    'Company_Stores': 'company_stores'\n",
    "})"
   ]
  },
  {
   "cell_type": "markdown",
   "id": "1b93975a",
   "metadata": {},
   "source": [
    "Order the companies by number of franchises descending and ascending by names"
   ]
  },
  {
   "cell_type": "code",
   "execution_count": 12,
   "id": "17d65289",
   "metadata": {},
   "outputs": [
    {
     "data": {
      "text/plain": [
       "Index(['chains', 'U.S._Systemwide_Sales_(Millions_-_U.S_Dollars)',\n",
       "       'Average_Sales_per_Unit_(Thousands_-_U.S_Dollars)', 'stores_franchised',\n",
       "       'company_stores', '2021_Total_Units',\n",
       "       'Total_Change_in_Units_from_2020'],\n",
       "      dtype='object')"
      ]
     },
     "execution_count": 12,
     "metadata": {},
     "output_type": "execute_result"
    }
   ],
   "source": [
    "df.columns"
   ]
  },
  {
   "cell_type": "code",
   "execution_count": 13,
   "id": "8d5ef0c8",
   "metadata": {},
   "outputs": [
    {
     "data": {
      "text/html": [
       "<div>\n",
       "<style scoped>\n",
       "    .dataframe tbody tr th:only-of-type {\n",
       "        vertical-align: middle;\n",
       "    }\n",
       "\n",
       "    .dataframe tbody tr th {\n",
       "        vertical-align: top;\n",
       "    }\n",
       "\n",
       "    .dataframe thead th {\n",
       "        text-align: right;\n",
       "    }\n",
       "</style>\n",
       "<table border=\"1\" class=\"dataframe\">\n",
       "  <thead>\n",
       "    <tr style=\"text-align: right;\">\n",
       "      <th></th>\n",
       "      <th>chains</th>\n",
       "      <th>U.S._Systemwide_Sales_(Millions_-_U.S_Dollars)</th>\n",
       "      <th>Average_Sales_per_Unit_(Thousands_-_U.S_Dollars)</th>\n",
       "      <th>stores_franchised</th>\n",
       "      <th>company_stores</th>\n",
       "      <th>2021_Total_Units</th>\n",
       "      <th>Total_Change_in_Units_from_2020</th>\n",
       "    </tr>\n",
       "  </thead>\n",
       "  <tbody>\n",
       "    <tr>\n",
       "      <th>41</th>\n",
       "      <td>Subway</td>\n",
       "      <td>9350</td>\n",
       "      <td>438</td>\n",
       "      <td>21147</td>\n",
       "      <td>0</td>\n",
       "      <td>21147</td>\n",
       "      <td>-1043</td>\n",
       "    </tr>\n",
       "    <tr>\n",
       "      <th>28</th>\n",
       "      <td>McDonald’s</td>\n",
       "      <td>45960</td>\n",
       "      <td>3420</td>\n",
       "      <td>12775</td>\n",
       "      <td>663</td>\n",
       "      <td>13438</td>\n",
       "      <td>244</td>\n",
       "    </tr>\n",
       "    <tr>\n",
       "      <th>13</th>\n",
       "      <td>Dunkin'</td>\n",
       "      <td>10416</td>\n",
       "      <td>1127</td>\n",
       "      <td>9244</td>\n",
       "      <td>0</td>\n",
       "      <td>9244</td>\n",
       "      <td>161</td>\n",
       "    </tr>\n",
       "    <tr>\n",
       "      <th>3</th>\n",
       "      <td>Burger King</td>\n",
       "      <td>10033</td>\n",
       "      <td>1470</td>\n",
       "      <td>7054</td>\n",
       "      <td>51</td>\n",
       "      <td>7105</td>\n",
       "      <td>24</td>\n",
       "    </tr>\n",
       "    <tr>\n",
       "      <th>42</th>\n",
       "      <td>Taco Bell</td>\n",
       "      <td>12600</td>\n",
       "      <td>1823</td>\n",
       "      <td>6540</td>\n",
       "      <td>462</td>\n",
       "      <td>7002</td>\n",
       "      <td>203</td>\n",
       "    </tr>\n",
       "  </tbody>\n",
       "</table>\n",
       "</div>"
      ],
      "text/plain": [
       "         chains  U.S._Systemwide_Sales_(Millions_-_U.S_Dollars)  \\\n",
       "41       Subway                                            9350   \n",
       "28   McDonald’s                                           45960   \n",
       "13      Dunkin'                                           10416   \n",
       "3   Burger King                                           10033   \n",
       "42    Taco Bell                                           12600   \n",
       "\n",
       "    Average_Sales_per_Unit_(Thousands_-_U.S_Dollars)  stores_franchised  \\\n",
       "41                                               438              21147   \n",
       "28                                              3420              12775   \n",
       "13                                              1127               9244   \n",
       "3                                               1470               7054   \n",
       "42                                              1823               6540   \n",
       "\n",
       "    company_stores  2021_Total_Units  Total_Change_in_Units_from_2020  \n",
       "41               0             21147                            -1043  \n",
       "28             663             13438                              244  \n",
       "13               0              9244                              161  \n",
       "3               51              7105                               24  \n",
       "42             462              7002                              203  "
      ]
     },
     "execution_count": 13,
     "metadata": {},
     "output_type": "execute_result"
    }
   ],
   "source": [
    "df.sort_values(by=['stores_franchised', 'chains'], ascending=[False, True]).head()"
   ]
  },
  {
   "cell_type": "markdown",
   "id": "965bdc35",
   "metadata": {},
   "source": [
    "Retrieve the first three columns"
   ]
  },
  {
   "cell_type": "code",
   "execution_count": 14,
   "id": "634af637",
   "metadata": {},
   "outputs": [
    {
     "data": {
      "text/html": [
       "<div>\n",
       "<style scoped>\n",
       "    .dataframe tbody tr th:only-of-type {\n",
       "        vertical-align: middle;\n",
       "    }\n",
       "\n",
       "    .dataframe tbody tr th {\n",
       "        vertical-align: top;\n",
       "    }\n",
       "\n",
       "    .dataframe thead th {\n",
       "        text-align: right;\n",
       "    }\n",
       "</style>\n",
       "<table border=\"1\" class=\"dataframe\">\n",
       "  <thead>\n",
       "    <tr style=\"text-align: right;\">\n",
       "      <th></th>\n",
       "      <th>chains</th>\n",
       "      <th>U.S._Systemwide_Sales_(Millions_-_U.S_Dollars)</th>\n",
       "      <th>Average_Sales_per_Unit_(Thousands_-_U.S_Dollars)</th>\n",
       "    </tr>\n",
       "  </thead>\n",
       "  <tbody>\n",
       "    <tr>\n",
       "      <th>0</th>\n",
       "      <td>Arby’s</td>\n",
       "      <td>4462</td>\n",
       "      <td>1309</td>\n",
       "    </tr>\n",
       "    <tr>\n",
       "      <th>1</th>\n",
       "      <td>Baskin-Robbins</td>\n",
       "      <td>686</td>\n",
       "      <td>296</td>\n",
       "    </tr>\n",
       "    <tr>\n",
       "      <th>2</th>\n",
       "      <td>Bojangles</td>\n",
       "      <td>1485</td>\n",
       "      <td>1924</td>\n",
       "    </tr>\n",
       "    <tr>\n",
       "      <th>3</th>\n",
       "      <td>Burger King</td>\n",
       "      <td>10033</td>\n",
       "      <td>1470</td>\n",
       "    </tr>\n",
       "    <tr>\n",
       "      <th>4</th>\n",
       "      <td>Carl’s Jr.</td>\n",
       "      <td>1560</td>\n",
       "      <td>1400</td>\n",
       "    </tr>\n",
       "  </tbody>\n",
       "</table>\n",
       "</div>"
      ],
      "text/plain": [
       "           chains  U.S._Systemwide_Sales_(Millions_-_U.S_Dollars)  \\\n",
       "0          Arby’s                                            4462   \n",
       "1  Baskin-Robbins                                             686   \n",
       "2       Bojangles                                            1485   \n",
       "3     Burger King                                           10033   \n",
       "4      Carl’s Jr.                                            1560   \n",
       "\n",
       "   Average_Sales_per_Unit_(Thousands_-_U.S_Dollars)  \n",
       "0                                              1309  \n",
       "1                                               296  \n",
       "2                                              1924  \n",
       "3                                              1470  \n",
       "4                                              1400  "
      ]
     },
     "execution_count": 14,
     "metadata": {},
     "output_type": "execute_result"
    }
   ],
   "source": [
    "df.iloc[:, 0:3].head()"
   ]
  },
  {
   "cell_type": "markdown",
   "id": "7e951487",
   "metadata": {},
   "source": [
    "Get every other row"
   ]
  },
  {
   "cell_type": "code",
   "execution_count": 15,
   "id": "f162e90b",
   "metadata": {},
   "outputs": [
    {
     "data": {
      "text/html": [
       "<div>\n",
       "<style scoped>\n",
       "    .dataframe tbody tr th:only-of-type {\n",
       "        vertical-align: middle;\n",
       "    }\n",
       "\n",
       "    .dataframe tbody tr th {\n",
       "        vertical-align: top;\n",
       "    }\n",
       "\n",
       "    .dataframe thead th {\n",
       "        text-align: right;\n",
       "    }\n",
       "</style>\n",
       "<table border=\"1\" class=\"dataframe\">\n",
       "  <thead>\n",
       "    <tr style=\"text-align: right;\">\n",
       "      <th></th>\n",
       "      <th>chains</th>\n",
       "      <th>U.S._Systemwide_Sales_(Millions_-_U.S_Dollars)</th>\n",
       "      <th>Average_Sales_per_Unit_(Thousands_-_U.S_Dollars)</th>\n",
       "      <th>stores_franchised</th>\n",
       "      <th>company_stores</th>\n",
       "      <th>2021_Total_Units</th>\n",
       "      <th>Total_Change_in_Units_from_2020</th>\n",
       "    </tr>\n",
       "  </thead>\n",
       "  <tbody>\n",
       "    <tr>\n",
       "      <th>0</th>\n",
       "      <td>Arby’s</td>\n",
       "      <td>4462</td>\n",
       "      <td>1309</td>\n",
       "      <td>2293</td>\n",
       "      <td>1116</td>\n",
       "      <td>3409</td>\n",
       "      <td>40</td>\n",
       "    </tr>\n",
       "    <tr>\n",
       "      <th>2</th>\n",
       "      <td>Bojangles</td>\n",
       "      <td>1485</td>\n",
       "      <td>1924</td>\n",
       "      <td>496</td>\n",
       "      <td>277</td>\n",
       "      <td>773</td>\n",
       "      <td>15</td>\n",
       "    </tr>\n",
       "    <tr>\n",
       "      <th>4</th>\n",
       "      <td>Carl’s Jr.</td>\n",
       "      <td>1560</td>\n",
       "      <td>1400</td>\n",
       "      <td>1011</td>\n",
       "      <td>47</td>\n",
       "      <td>1058</td>\n",
       "      <td>-21</td>\n",
       "    </tr>\n",
       "    <tr>\n",
       "      <th>6</th>\n",
       "      <td>Chick-fil-A</td>\n",
       "      <td>16700</td>\n",
       "      <td>6100</td>\n",
       "      <td>2650</td>\n",
       "      <td>82</td>\n",
       "      <td>2732</td>\n",
       "      <td>155</td>\n",
       "    </tr>\n",
       "    <tr>\n",
       "      <th>8</th>\n",
       "      <td>Church’s Chicken</td>\n",
       "      <td>776</td>\n",
       "      <td>870</td>\n",
       "      <td>731</td>\n",
       "      <td>161</td>\n",
       "      <td>892</td>\n",
       "      <td>-13</td>\n",
       "    </tr>\n",
       "  </tbody>\n",
       "</table>\n",
       "</div>"
      ],
      "text/plain": [
       "             chains  U.S._Systemwide_Sales_(Millions_-_U.S_Dollars)  \\\n",
       "0            Arby’s                                            4462   \n",
       "2         Bojangles                                            1485   \n",
       "4        Carl’s Jr.                                            1560   \n",
       "6       Chick-fil-A                                           16700   \n",
       "8  Church’s Chicken                                             776   \n",
       "\n",
       "   Average_Sales_per_Unit_(Thousands_-_U.S_Dollars)  stores_franchised  \\\n",
       "0                                              1309               2293   \n",
       "2                                              1924                496   \n",
       "4                                              1400               1011   \n",
       "6                                              6100               2650   \n",
       "8                                               870                731   \n",
       "\n",
       "   company_stores  2021_Total_Units  Total_Change_in_Units_from_2020  \n",
       "0            1116              3409                               40  \n",
       "2             277               773                               15  \n",
       "4              47              1058                              -21  \n",
       "6              82              2732                              155  \n",
       "8             161               892                              -13  "
      ]
     },
     "execution_count": 15,
     "metadata": {},
     "output_type": "execute_result"
    }
   ],
   "source": [
    "df.iloc[::2].head()"
   ]
  },
  {
   "cell_type": "markdown",
   "id": "7b77584a",
   "metadata": {},
   "source": [
    "What companies have 2616, 831, and 2293 stores franchised?"
   ]
  },
  {
   "cell_type": "code",
   "execution_count": 16,
   "id": "6e1b3b44",
   "metadata": {},
   "outputs": [],
   "source": [
    "franchised_store=[2616, 831, 2293]"
   ]
  },
  {
   "cell_type": "code",
   "execution_count": 17,
   "id": "e5844783",
   "metadata": {},
   "outputs": [
    {
     "data": {
      "text/html": [
       "<div>\n",
       "<style scoped>\n",
       "    .dataframe tbody tr th:only-of-type {\n",
       "        vertical-align: middle;\n",
       "    }\n",
       "\n",
       "    .dataframe tbody tr th {\n",
       "        vertical-align: top;\n",
       "    }\n",
       "\n",
       "    .dataframe thead th {\n",
       "        text-align: right;\n",
       "    }\n",
       "</style>\n",
       "<table border=\"1\" class=\"dataframe\">\n",
       "  <thead>\n",
       "    <tr style=\"text-align: right;\">\n",
       "      <th></th>\n",
       "      <th>chains</th>\n",
       "      <th>U.S._Systemwide_Sales_(Millions_-_U.S_Dollars)</th>\n",
       "      <th>Average_Sales_per_Unit_(Thousands_-_U.S_Dollars)</th>\n",
       "      <th>stores_franchised</th>\n",
       "      <th>company_stores</th>\n",
       "      <th>2021_Total_Units</th>\n",
       "      <th>Total_Change_in_Units_from_2020</th>\n",
       "    </tr>\n",
       "  </thead>\n",
       "  <tbody>\n",
       "    <tr>\n",
       "      <th>0</th>\n",
       "      <td>Arby’s</td>\n",
       "      <td>4462</td>\n",
       "      <td>1309</td>\n",
       "      <td>2293</td>\n",
       "      <td>1116</td>\n",
       "      <td>3409</td>\n",
       "      <td>40</td>\n",
       "    </tr>\n",
       "    <tr>\n",
       "      <th>9</th>\n",
       "      <td>Culver’s</td>\n",
       "      <td>2489</td>\n",
       "      <td>3099</td>\n",
       "      <td>831</td>\n",
       "      <td>6</td>\n",
       "      <td>837</td>\n",
       "      <td>55</td>\n",
       "    </tr>\n",
       "    <tr>\n",
       "      <th>22</th>\n",
       "      <td>Jimmy John’s</td>\n",
       "      <td>2301</td>\n",
       "      <td>866</td>\n",
       "      <td>2616</td>\n",
       "      <td>41</td>\n",
       "      <td>2657</td>\n",
       "      <td>48</td>\n",
       "    </tr>\n",
       "  </tbody>\n",
       "</table>\n",
       "</div>"
      ],
      "text/plain": [
       "          chains  U.S._Systemwide_Sales_(Millions_-_U.S_Dollars)  \\\n",
       "0         Arby’s                                            4462   \n",
       "9       Culver’s                                            2489   \n",
       "22  Jimmy John’s                                            2301   \n",
       "\n",
       "    Average_Sales_per_Unit_(Thousands_-_U.S_Dollars)  stores_franchised  \\\n",
       "0                                               1309               2293   \n",
       "9                                               3099                831   \n",
       "22                                               866               2616   \n",
       "\n",
       "    company_stores  2021_Total_Units  Total_Change_in_Units_from_2020  \n",
       "0             1116              3409                               40  \n",
       "9                6               837                               55  \n",
       "22              41              2657                               48  "
      ]
     },
     "execution_count": 17,
     "metadata": {},
     "output_type": "execute_result"
    }
   ],
   "source": [
    "df.loc[df.stores_franchised.isin(franchised_store)]"
   ]
  },
  {
   "cell_type": "markdown",
   "id": "420ee3df",
   "metadata": {},
   "source": [
    "Assign the chain column as the index column"
   ]
  },
  {
   "cell_type": "code",
   "execution_count": 18,
   "id": "ca5b7840",
   "metadata": {},
   "outputs": [],
   "source": [
    "df=df.set_index('chains')"
   ]
  },
  {
   "cell_type": "markdown",
   "id": "191fb529",
   "metadata": {},
   "source": [
    "Which company has the most franchised stores?"
   ]
  },
  {
   "cell_type": "code",
   "execution_count": 19,
   "id": "73059363",
   "metadata": {},
   "outputs": [
    {
     "data": {
      "text/plain": [
       "'Subway'"
      ]
     },
     "execution_count": 19,
     "metadata": {},
     "output_type": "execute_result"
    }
   ],
   "source": [
    "df.stores_franchised.idxmax()"
   ]
  },
  {
   "cell_type": "markdown",
   "id": "1428c272",
   "metadata": {},
   "source": [
    "Which company has the highest percentage of franchised stores?"
   ]
  },
  {
   "cell_type": "code",
   "execution_count": 20,
   "id": "59c3fd43",
   "metadata": {},
   "outputs": [],
   "source": [
    "df['percent_franchised']=df.stores_franchised / (df.stores_franchised + df.company_stores)"
   ]
  },
  {
   "cell_type": "code",
   "execution_count": 21,
   "id": "e1fb4659",
   "metadata": {},
   "outputs": [
    {
     "data": {
      "text/plain": [
       "chains\n",
       "Baskin-Robbins    1.000000\n",
       "Dunkin'           1.000000\n",
       "Subway            1.000000\n",
       "Tim Hortons       1.000000\n",
       "Dairy Queen       0.999539\n",
       "Name: percent_franchised, dtype: float64"
      ]
     },
     "execution_count": 21,
     "metadata": {},
     "output_type": "execute_result"
    }
   ],
   "source": [
    "df.percent_franchised.sort_values(ascending=False).head()"
   ]
  },
  {
   "cell_type": "markdown",
   "id": "686897f5",
   "metadata": {},
   "source": [
    "Of the companies with 100% franchising, which has the most stores?"
   ]
  },
  {
   "cell_type": "code",
   "execution_count": 22,
   "id": "1910a970",
   "metadata": {},
   "outputs": [
    {
     "data": {
      "text/plain": [
       "chains\n",
       "Subway            21147\n",
       "Dunkin'            9244\n",
       "Baskin-Robbins     2317\n",
       "Tim Hortons         637\n",
       "Name: stores_franchised, dtype: int64"
      ]
     },
     "execution_count": 22,
     "metadata": {},
     "output_type": "execute_result"
    }
   ],
   "source": [
    "df[df.percent_franchised==1].stores_franchised.sort_values(ascending=False)"
   ]
  },
  {
   "cell_type": "markdown",
   "id": "2a036946",
   "metadata": {},
   "source": [
    "Rename the 2021 units column to store_count, 2020 unit change column to store_count_change, us sustemwide sales to sales_in_millions and average sales per unit to store_sales_thousands"
   ]
  },
  {
   "cell_type": "code",
   "execution_count": 23,
   "id": "b6dafec3",
   "metadata": {},
   "outputs": [
    {
     "data": {
      "text/plain": [
       "Index(['U.S._Systemwide_Sales_(Millions_-_U.S_Dollars)',\n",
       "       'Average_Sales_per_Unit_(Thousands_-_U.S_Dollars)', 'stores_franchised',\n",
       "       'company_stores', '2021_Total_Units', 'Total_Change_in_Units_from_2020',\n",
       "       'percent_franchised'],\n",
       "      dtype='object')"
      ]
     },
     "execution_count": 23,
     "metadata": {},
     "output_type": "execute_result"
    }
   ],
   "source": [
    "df.columns"
   ]
  },
  {
   "cell_type": "code",
   "execution_count": 25,
   "id": "53ed7af9",
   "metadata": {},
   "outputs": [],
   "source": [
    "df=df.rename(columns={\n",
    "    '2021_Total_Units': 'store_count',\n",
    "    'Total_Change_in_Units_from_2020': 'store_count_change',\n",
    "    'U.S._Systemwide_Sales_(Millions_-_U.S_Dollars)': 'sales_in_millions',\n",
    "    'Average_Sales_per_Unit_(Thousands_-_U.S_Dollars)': 'store_sales_thousands'\n",
    "})"
   ]
  },
  {
   "cell_type": "markdown",
   "id": "0300cc7f",
   "metadata": {},
   "source": [
    "Create a column that has bool that reflects positive changes in store counts as True and negative as False"
   ]
  },
  {
   "cell_type": "code",
   "execution_count": 26,
   "id": "82285255",
   "metadata": {},
   "outputs": [],
   "source": [
    "df['positive_store_count']=df.store_count_change > 0"
   ]
  },
  {
   "cell_type": "markdown",
   "id": "14cd8a2b",
   "metadata": {},
   "source": [
    "Get both the first and last chains?"
   ]
  },
  {
   "cell_type": "code",
   "execution_count": 27,
   "id": "6e2b0390",
   "metadata": {},
   "outputs": [
    {
     "data": {
      "text/html": [
       "<div>\n",
       "<style scoped>\n",
       "    .dataframe tbody tr th:only-of-type {\n",
       "        vertical-align: middle;\n",
       "    }\n",
       "\n",
       "    .dataframe tbody tr th {\n",
       "        vertical-align: top;\n",
       "    }\n",
       "\n",
       "    .dataframe thead th {\n",
       "        text-align: right;\n",
       "    }\n",
       "</style>\n",
       "<table border=\"1\" class=\"dataframe\">\n",
       "  <thead>\n",
       "    <tr style=\"text-align: right;\">\n",
       "      <th></th>\n",
       "      <th>sales_in_millions</th>\n",
       "      <th>store_sales_thousands</th>\n",
       "      <th>stores_franchised</th>\n",
       "      <th>company_stores</th>\n",
       "      <th>store_count</th>\n",
       "      <th>store_count_change</th>\n",
       "      <th>percent_franchised</th>\n",
       "      <th>positive_store_count</th>\n",
       "    </tr>\n",
       "    <tr>\n",
       "      <th>chains</th>\n",
       "      <th></th>\n",
       "      <th></th>\n",
       "      <th></th>\n",
       "      <th></th>\n",
       "      <th></th>\n",
       "      <th></th>\n",
       "      <th></th>\n",
       "      <th></th>\n",
       "    </tr>\n",
       "  </thead>\n",
       "  <tbody>\n",
       "    <tr>\n",
       "      <th>Arby’s</th>\n",
       "      <td>4462</td>\n",
       "      <td>1309</td>\n",
       "      <td>2293</td>\n",
       "      <td>1116</td>\n",
       "      <td>3409</td>\n",
       "      <td>40</td>\n",
       "      <td>0.672631</td>\n",
       "      <td>True</td>\n",
       "    </tr>\n",
       "    <tr>\n",
       "      <th>Zaxby’s</th>\n",
       "      <td>2233</td>\n",
       "      <td>2484</td>\n",
       "      <td>761</td>\n",
       "      <td>147</td>\n",
       "      <td>908</td>\n",
       "      <td>3</td>\n",
       "      <td>0.838106</td>\n",
       "      <td>True</td>\n",
       "    </tr>\n",
       "  </tbody>\n",
       "</table>\n",
       "</div>"
      ],
      "text/plain": [
       "         sales_in_millions  store_sales_thousands  stores_franchised  \\\n",
       "chains                                                                 \n",
       "Arby’s                4462                   1309               2293   \n",
       "Zaxby’s               2233                   2484                761   \n",
       "\n",
       "         company_stores  store_count  store_count_change  percent_franchised  \\\n",
       "chains                                                                         \n",
       "Arby’s             1116         3409                  40            0.672631   \n",
       "Zaxby’s             147          908                   3            0.838106   \n",
       "\n",
       "         positive_store_count  \n",
       "chains                         \n",
       "Arby’s                   True  \n",
       "Zaxby’s                  True  "
      ]
     },
     "execution_count": 27,
     "metadata": {},
     "output_type": "execute_result"
    }
   ],
   "source": [
    "df.iloc[[0,-1]]"
   ]
  },
  {
   "cell_type": "markdown",
   "id": "ccc9bf49",
   "metadata": {},
   "source": [
    "Drop the Total Changes column and store this as a new df"
   ]
  },
  {
   "cell_type": "code",
   "execution_count": 28,
   "id": "024e44cf",
   "metadata": {},
   "outputs": [],
   "source": [
    "temp_df=df.drop('store_count_change', axis=1)"
   ]
  },
  {
   "cell_type": "markdown",
   "id": "cd612a3d",
   "metadata": {},
   "source": [
    "Create a new column called positive growth where chains that opened stores have a 1 and chains that don't have a 0"
   ]
  },
  {
   "cell_type": "code",
   "execution_count": 29,
   "id": "580084dd",
   "metadata": {},
   "outputs": [],
   "source": [
    "df['positive_growth']=df.positive_store_count.astype(int)"
   ]
  },
  {
   "cell_type": "code",
   "execution_count": 30,
   "id": "5089dbcd",
   "metadata": {},
   "outputs": [
    {
     "data": {
      "text/plain": [
       "chains\n",
       "Arby’s            1\n",
       "Baskin-Robbins    1\n",
       "Bojangles         1\n",
       "Burger King       1\n",
       "Carl’s Jr.        0\n",
       "Name: positive_growth, dtype: int64"
      ]
     },
     "execution_count": 30,
     "metadata": {},
     "output_type": "execute_result"
    }
   ],
   "source": [
    "df.positive_growth.head()"
   ]
  },
  {
   "cell_type": "markdown",
   "id": "621c86dd",
   "metadata": {},
   "source": [
    "Convert systemwide sales to thousands and store the value as a new column then drop the old column"
   ]
  },
  {
   "cell_type": "code",
   "execution_count": 31,
   "id": "f8f8ded9",
   "metadata": {},
   "outputs": [
    {
     "data": {
      "text/plain": [
       "Index(['sales_in_millions', 'store_sales_thousands', 'stores_franchised',\n",
       "       'company_stores', 'store_count', 'store_count_change',\n",
       "       'percent_franchised', 'positive_store_count', 'positive_growth'],\n",
       "      dtype='object')"
      ]
     },
     "execution_count": 31,
     "metadata": {},
     "output_type": "execute_result"
    }
   ],
   "source": [
    "df.columns"
   ]
  },
  {
   "cell_type": "code",
   "execution_count": 33,
   "id": "a2dd6f33",
   "metadata": {},
   "outputs": [],
   "source": [
    "df['sales_in_thousands']=df['sales_in_millions']*1000"
   ]
  },
  {
   "cell_type": "code",
   "execution_count": null,
   "id": "c53e42bf",
   "metadata": {},
   "outputs": [],
   "source": [
    "df=df.drop('sales_in_millions', axis=1)"
   ]
  },
  {
   "cell_type": "markdown",
   "id": "5ef88ead",
   "metadata": {},
   "source": [
    "Sort chains by sales per store descending and name ascending"
   ]
  },
  {
   "cell_type": "code",
   "execution_count": 37,
   "id": "13f68ef0",
   "metadata": {},
   "outputs": [
    {
     "data": {
      "text/plain": [
       "Index(['store_sales_thousands', 'stores_franchised', 'company_stores',\n",
       "       'store_count', 'store_count_change', 'percent_franchised',\n",
       "       'positive_store_count', 'positive_growth', 'sales_in_thousands'],\n",
       "      dtype='object')"
      ]
     },
     "execution_count": 37,
     "metadata": {},
     "output_type": "execute_result"
    }
   ],
   "source": [
    "df.columns"
   ]
  },
  {
   "cell_type": "code",
   "execution_count": null,
   "id": "c43d737c",
   "metadata": {},
   "outputs": [
    {
     "data": {
      "text/html": [
       "<div>\n",
       "<style scoped>\n",
       "    .dataframe tbody tr th:only-of-type {\n",
       "        vertical-align: middle;\n",
       "    }\n",
       "\n",
       "    .dataframe tbody tr th {\n",
       "        vertical-align: top;\n",
       "    }\n",
       "\n",
       "    .dataframe thead th {\n",
       "        text-align: right;\n",
       "    }\n",
       "</style>\n",
       "<table border=\"1\" class=\"dataframe\">\n",
       "  <thead>\n",
       "    <tr style=\"text-align: right;\">\n",
       "      <th></th>\n",
       "      <th>store_sales_thousands</th>\n",
       "      <th>stores_franchised</th>\n",
       "      <th>company_stores</th>\n",
       "      <th>store_count</th>\n",
       "      <th>store_count_change</th>\n",
       "      <th>percent_franchised</th>\n",
       "      <th>positive_store_count</th>\n",
       "      <th>positive_growth</th>\n",
       "      <th>sales_in_thousands</th>\n",
       "    </tr>\n",
       "    <tr>\n",
       "      <th>chains</th>\n",
       "      <th></th>\n",
       "      <th></th>\n",
       "      <th></th>\n",
       "      <th></th>\n",
       "      <th></th>\n",
       "      <th></th>\n",
       "      <th></th>\n",
       "      <th></th>\n",
       "      <th></th>\n",
       "    </tr>\n",
       "  </thead>\n",
       "  <tbody>\n",
       "    <tr>\n",
       "      <th>Arby’s</th>\n",
       "      <td>1309</td>\n",
       "      <td>2293</td>\n",
       "      <td>1116</td>\n",
       "      <td>3409</td>\n",
       "      <td>40</td>\n",
       "      <td>0.672631</td>\n",
       "      <td>True</td>\n",
       "      <td>1</td>\n",
       "      <td>4462000</td>\n",
       "    </tr>\n",
       "    <tr>\n",
       "      <th>Baskin-Robbins</th>\n",
       "      <td>296</td>\n",
       "      <td>2317</td>\n",
       "      <td>0</td>\n",
       "      <td>2317</td>\n",
       "      <td>102</td>\n",
       "      <td>1.000000</td>\n",
       "      <td>True</td>\n",
       "      <td>1</td>\n",
       "      <td>686000</td>\n",
       "    </tr>\n",
       "    <tr>\n",
       "      <th>Bojangles</th>\n",
       "      <td>1924</td>\n",
       "      <td>496</td>\n",
       "      <td>277</td>\n",
       "      <td>773</td>\n",
       "      <td>15</td>\n",
       "      <td>0.641656</td>\n",
       "      <td>True</td>\n",
       "      <td>1</td>\n",
       "      <td>1485000</td>\n",
       "    </tr>\n",
       "    <tr>\n",
       "      <th>Burger King</th>\n",
       "      <td>1470</td>\n",
       "      <td>7054</td>\n",
       "      <td>51</td>\n",
       "      <td>7105</td>\n",
       "      <td>24</td>\n",
       "      <td>0.992822</td>\n",
       "      <td>True</td>\n",
       "      <td>1</td>\n",
       "      <td>10033000</td>\n",
       "    </tr>\n",
       "    <tr>\n",
       "      <th>Carl’s Jr.</th>\n",
       "      <td>1400</td>\n",
       "      <td>1011</td>\n",
       "      <td>47</td>\n",
       "      <td>1058</td>\n",
       "      <td>-21</td>\n",
       "      <td>0.955577</td>\n",
       "      <td>False</td>\n",
       "      <td>0</td>\n",
       "      <td>1560000</td>\n",
       "    </tr>\n",
       "  </tbody>\n",
       "</table>\n",
       "</div>"
      ],
      "text/plain": [
       "                store_sales_thousands  stores_franchised  company_stores  \\\n",
       "chains                                                                     \n",
       "Arby’s                           1309               2293            1116   \n",
       "Baskin-Robbins                    296               2317               0   \n",
       "Bojangles                        1924                496             277   \n",
       "Burger King                      1470               7054              51   \n",
       "Carl’s Jr.                       1400               1011              47   \n",
       "\n",
       "                store_count  store_count_change  percent_franchised  \\\n",
       "chains                                                                \n",
       "Arby’s                 3409                  40            0.672631   \n",
       "Baskin-Robbins         2317                 102            1.000000   \n",
       "Bojangles               773                  15            0.641656   \n",
       "Burger King            7105                  24            0.992822   \n",
       "Carl’s Jr.             1058                 -21            0.955577   \n",
       "\n",
       "                positive_store_count  positive_growth  sales_in_thousands  \n",
       "chains                                                                     \n",
       "Arby’s                          True                1             4462000  \n",
       "Baskin-Robbins                  True                1              686000  \n",
       "Bojangles                       True                1             1485000  \n",
       "Burger King                     True                1            10033000  \n",
       "Carl’s Jr.                     False                0             1560000  "
      ]
     },
     "execution_count": 48,
     "metadata": {},
     "output_type": "execute_result"
    }
   ],
   "source": [
    "# can't figure this one out\n",
    "# figured it out after a bit of time\n",
    "df.sort_values(by='store_sales_thousands', ascending=False).sort_index().head()"
   ]
  },
  {
   "cell_type": "markdown",
   "id": "cd594d29",
   "metadata": {},
   "source": [
    "Create a series that truncates the store count. Round store count to 5000 and 500 respectively for companies with more and less than those values"
   ]
  },
  {
   "cell_type": "code",
   "execution_count": 58,
   "id": "87614642",
   "metadata": {},
   "outputs": [
    {
     "data": {
      "text/plain": [
       "chains\n",
       "Arby’s              3409\n",
       "Baskin-Robbins      2317\n",
       "Bojangles            773\n",
       "Burger King         5000\n",
       "Carl’s Jr.          1058\n",
       "Checkers/Rally’s     834\n",
       "Chick-fil-A         2732\n",
       "Chipotle            2966\n",
       "Church’s Chicken     892\n",
       "Culver’s             837\n",
       "Name: store_count, dtype: int64"
      ]
     },
     "execution_count": 58,
     "metadata": {},
     "output_type": "execute_result"
    }
   ],
   "source": [
    "# Got this one wrong\n",
    "df.store_count.clip(lower=500, upper=5000).head(10)"
   ]
  },
  {
   "cell_type": "markdown",
   "id": "fb3d6f7a",
   "metadata": {},
   "source": [
    "Get all the companies with sales above the mean sales"
   ]
  },
  {
   "cell_type": "code",
   "execution_count": null,
   "id": "5c467927",
   "metadata": {},
   "outputs": [
    {
     "data": {
      "text/html": [
       "<div>\n",
       "<style scoped>\n",
       "    .dataframe tbody tr th:only-of-type {\n",
       "        vertical-align: middle;\n",
       "    }\n",
       "\n",
       "    .dataframe tbody tr th {\n",
       "        vertical-align: top;\n",
       "    }\n",
       "\n",
       "    .dataframe thead th {\n",
       "        text-align: right;\n",
       "    }\n",
       "</style>\n",
       "<table border=\"1\" class=\"dataframe\">\n",
       "  <thead>\n",
       "    <tr style=\"text-align: right;\">\n",
       "      <th></th>\n",
       "      <th>store_sales_thousands</th>\n",
       "      <th>franchised</th>\n",
       "      <th>company_stores</th>\n",
       "      <th>store_count</th>\n",
       "      <th>store_count_change</th>\n",
       "      <th>positive_store_count</th>\n",
       "      <th>positive_growth</th>\n",
       "      <th>sales_in_thousands</th>\n",
       "    </tr>\n",
       "    <tr>\n",
       "      <th>chain</th>\n",
       "      <th></th>\n",
       "      <th></th>\n",
       "      <th></th>\n",
       "      <th></th>\n",
       "      <th></th>\n",
       "      <th></th>\n",
       "      <th></th>\n",
       "      <th></th>\n",
       "    </tr>\n",
       "  </thead>\n",
       "  <tbody>\n",
       "    <tr>\n",
       "      <th>Arby’s</th>\n",
       "      <td>1309</td>\n",
       "      <td>2293</td>\n",
       "      <td>1116</td>\n",
       "      <td>3409</td>\n",
       "      <td>40</td>\n",
       "      <td>True</td>\n",
       "      <td>1</td>\n",
       "      <td>4462000</td>\n",
       "    </tr>\n",
       "    <tr>\n",
       "      <th>Baskin-Robbins</th>\n",
       "      <td>296</td>\n",
       "      <td>2317</td>\n",
       "      <td>0</td>\n",
       "      <td>2317</td>\n",
       "      <td>102</td>\n",
       "      <td>True</td>\n",
       "      <td>1</td>\n",
       "      <td>686000</td>\n",
       "    </tr>\n",
       "    <tr>\n",
       "      <th>Bojangles</th>\n",
       "      <td>1924</td>\n",
       "      <td>496</td>\n",
       "      <td>277</td>\n",
       "      <td>773</td>\n",
       "      <td>15</td>\n",
       "      <td>True</td>\n",
       "      <td>1</td>\n",
       "      <td>1485000</td>\n",
       "    </tr>\n",
       "    <tr>\n",
       "      <th>Carl’s Jr.</th>\n",
       "      <td>1400</td>\n",
       "      <td>1011</td>\n",
       "      <td>47</td>\n",
       "      <td>1058</td>\n",
       "      <td>-21</td>\n",
       "      <td>True</td>\n",
       "      <td>1</td>\n",
       "      <td>1560000</td>\n",
       "    </tr>\n",
       "    <tr>\n",
       "      <th>Checkers/Rally’s</th>\n",
       "      <td>1145</td>\n",
       "      <td>568</td>\n",
       "      <td>266</td>\n",
       "      <td>834</td>\n",
       "      <td>-13</td>\n",
       "      <td>True</td>\n",
       "      <td>1</td>\n",
       "      <td>931000</td>\n",
       "    </tr>\n",
       "  </tbody>\n",
       "</table>\n",
       "</div>"
      ],
      "text/plain": [
       "                  store_sales_thousands  franchised  company_stores  \\\n",
       "chain                                                                 \n",
       "Arby’s                             1309        2293            1116   \n",
       "Baskin-Robbins                      296        2317               0   \n",
       "Bojangles                          1924         496             277   \n",
       "Carl’s Jr.                         1400        1011              47   \n",
       "Checkers/Rally’s                   1145         568             266   \n",
       "\n",
       "                  store_count  store_count_change  positive_store_count  \\\n",
       "chain                                                                     \n",
       "Arby’s                   3409                  40                  True   \n",
       "Baskin-Robbins           2317                 102                  True   \n",
       "Bojangles                 773                  15                  True   \n",
       "Carl’s Jr.               1058                 -21                  True   \n",
       "Checkers/Rally’s          834                 -13                  True   \n",
       "\n",
       "                  positive_growth  sales_in_thousands  \n",
       "chain                                                  \n",
       "Arby’s                          1             4462000  \n",
       "Baskin-Robbins                  1              686000  \n",
       "Bojangles                       1             1485000  \n",
       "Carl’s Jr.                      1             1560000  \n",
       "Checkers/Rally’s                1              931000  "
      ]
     },
     "execution_count": 65,
     "metadata": {},
     "output_type": "execute_result"
    }
   ],
   "source": []
  },
  {
   "cell_type": "markdown",
   "id": "ba52709b",
   "metadata": {},
   "source": [
    "Create a list of chains that have over 80% franchised and over 80% company owned then sort by Revenue"
   ]
  },
  {
   "cell_type": "code",
   "execution_count": null,
   "id": "e9083d8d",
   "metadata": {},
   "outputs": [
    {
     "data": {
      "text/html": [
       "<div>\n",
       "<style scoped>\n",
       "    .dataframe tbody tr th:only-of-type {\n",
       "        vertical-align: middle;\n",
       "    }\n",
       "\n",
       "    .dataframe tbody tr th {\n",
       "        vertical-align: top;\n",
       "    }\n",
       "\n",
       "    .dataframe thead th {\n",
       "        text-align: right;\n",
       "    }\n",
       "</style>\n",
       "<table border=\"1\" class=\"dataframe\">\n",
       "  <thead>\n",
       "    <tr style=\"text-align: right;\">\n",
       "      <th></th>\n",
       "      <th>store_sales_thousands</th>\n",
       "      <th>franchised</th>\n",
       "      <th>company_stores</th>\n",
       "      <th>store_count</th>\n",
       "      <th>store_count_change</th>\n",
       "      <th>positive_store_count</th>\n",
       "      <th>positive_growth</th>\n",
       "      <th>sales_in_thousands</th>\n",
       "    </tr>\n",
       "    <tr>\n",
       "      <th>chain</th>\n",
       "      <th></th>\n",
       "      <th></th>\n",
       "      <th></th>\n",
       "      <th></th>\n",
       "      <th></th>\n",
       "      <th></th>\n",
       "      <th></th>\n",
       "      <th></th>\n",
       "    </tr>\n",
       "  </thead>\n",
       "  <tbody>\n",
       "    <tr>\n",
       "      <th>Starbucks</th>\n",
       "      <td>1200</td>\n",
       "      <td>6497</td>\n",
       "      <td>8953</td>\n",
       "      <td>15450</td>\n",
       "      <td>113</td>\n",
       "      <td>True</td>\n",
       "      <td>1</td>\n",
       "      <td>24300000</td>\n",
       "    </tr>\n",
       "    <tr>\n",
       "      <th>Panera Bread</th>\n",
       "      <td>2700</td>\n",
       "      <td>1130</td>\n",
       "      <td>950</td>\n",
       "      <td>2080</td>\n",
       "      <td>-25</td>\n",
       "      <td>True</td>\n",
       "      <td>1</td>\n",
       "      <td>5650000</td>\n",
       "    </tr>\n",
       "    <tr>\n",
       "      <th>Arby’s</th>\n",
       "      <td>1309</td>\n",
       "      <td>2293</td>\n",
       "      <td>1116</td>\n",
       "      <td>3409</td>\n",
       "      <td>40</td>\n",
       "      <td>True</td>\n",
       "      <td>1</td>\n",
       "      <td>4462000</td>\n",
       "    </tr>\n",
       "    <tr>\n",
       "      <th>Five Guys</th>\n",
       "      <td>3172</td>\n",
       "      <td>911</td>\n",
       "      <td>479</td>\n",
       "      <td>1390</td>\n",
       "      <td>8</td>\n",
       "      <td>True</td>\n",
       "      <td>1</td>\n",
       "      <td>2093000</td>\n",
       "    </tr>\n",
       "    <tr>\n",
       "      <th>Bojangles</th>\n",
       "      <td>1924</td>\n",
       "      <td>496</td>\n",
       "      <td>277</td>\n",
       "      <td>773</td>\n",
       "      <td>15</td>\n",
       "      <td>True</td>\n",
       "      <td>1</td>\n",
       "      <td>1485000</td>\n",
       "    </tr>\n",
       "    <tr>\n",
       "      <th>El Pollo Loco</th>\n",
       "      <td>2000</td>\n",
       "      <td>292</td>\n",
       "      <td>189</td>\n",
       "      <td>481</td>\n",
       "      <td>1</td>\n",
       "      <td>True</td>\n",
       "      <td>1</td>\n",
       "      <td>973000</td>\n",
       "    </tr>\n",
       "    <tr>\n",
       "      <th>Checkers/Rally’s</th>\n",
       "      <td>1145</td>\n",
       "      <td>568</td>\n",
       "      <td>266</td>\n",
       "      <td>834</td>\n",
       "      <td>-13</td>\n",
       "      <td>True</td>\n",
       "      <td>1</td>\n",
       "      <td>931000</td>\n",
       "    </tr>\n",
       "    <tr>\n",
       "      <th>Del Taco</th>\n",
       "      <td>1551</td>\n",
       "      <td>306</td>\n",
       "      <td>294</td>\n",
       "      <td>600</td>\n",
       "      <td>4</td>\n",
       "      <td>True</td>\n",
       "      <td>1</td>\n",
       "      <td>931000</td>\n",
       "    </tr>\n",
       "    <tr>\n",
       "      <th>QDOBA</th>\n",
       "      <td>1006</td>\n",
       "      <td>406</td>\n",
       "      <td>333</td>\n",
       "      <td>739</td>\n",
       "      <td>2</td>\n",
       "      <td>True</td>\n",
       "      <td>1</td>\n",
       "      <td>835000</td>\n",
       "    </tr>\n",
       "  </tbody>\n",
       "</table>\n",
       "</div>"
      ],
      "text/plain": [
       "                  store_sales_thousands  franchised  company_stores  \\\n",
       "chain                                                                 \n",
       "Starbucks                          1200        6497            8953   \n",
       "Panera Bread                       2700        1130             950   \n",
       "Arby’s                             1309        2293            1116   \n",
       "Five Guys                          3172         911             479   \n",
       "Bojangles                          1924         496             277   \n",
       "El Pollo Loco                      2000         292             189   \n",
       "Checkers/Rally’s                   1145         568             266   \n",
       "Del Taco                           1551         306             294   \n",
       "QDOBA                              1006         406             333   \n",
       "\n",
       "                  store_count  store_count_change  positive_store_count  \\\n",
       "chain                                                                     \n",
       "Starbucks               15450                 113                  True   \n",
       "Panera Bread             2080                 -25                  True   \n",
       "Arby’s                   3409                  40                  True   \n",
       "Five Guys                1390                   8                  True   \n",
       "Bojangles                 773                  15                  True   \n",
       "El Pollo Loco             481                   1                  True   \n",
       "Checkers/Rally’s          834                 -13                  True   \n",
       "Del Taco                  600                   4                  True   \n",
       "QDOBA                     739                   2                  True   \n",
       "\n",
       "                  positive_growth  sales_in_thousands  \n",
       "chain                                                  \n",
       "Starbucks                       1            24300000  \n",
       "Panera Bread                    1             5650000  \n",
       "Arby’s                          1             4462000  \n",
       "Five Guys                       1             2093000  \n",
       "Bojangles                       1             1485000  \n",
       "El Pollo Loco                   1              973000  \n",
       "Checkers/Rally’s                1              931000  \n",
       "Del Taco                        1              931000  \n",
       "QDOBA                           1              835000  "
      ]
     },
     "execution_count": 70,
     "metadata": {},
     "output_type": "execute_result"
    }
   ],
   "source": []
  },
  {
   "cell_type": "markdown",
   "id": "a898e92b",
   "metadata": {},
   "source": [
    "Display the chains with more than 3000 (thousands) in sales and a store count of at least 500"
   ]
  },
  {
   "cell_type": "code",
   "execution_count": 43,
   "id": "982d4b1b",
   "metadata": {},
   "outputs": [
    {
     "data": {
      "text/html": [
       "<div>\n",
       "<style scoped>\n",
       "    .dataframe tbody tr th:only-of-type {\n",
       "        vertical-align: middle;\n",
       "    }\n",
       "\n",
       "    .dataframe tbody tr th {\n",
       "        vertical-align: top;\n",
       "    }\n",
       "\n",
       "    .dataframe thead th {\n",
       "        text-align: right;\n",
       "    }\n",
       "</style>\n",
       "<table border=\"1\" class=\"dataframe\">\n",
       "  <thead>\n",
       "    <tr style=\"text-align: right;\">\n",
       "      <th></th>\n",
       "      <th>store_sales_thousands</th>\n",
       "      <th>stores_franchised</th>\n",
       "      <th>company_stores</th>\n",
       "      <th>store_count</th>\n",
       "      <th>store_count_change</th>\n",
       "      <th>percent_franchised</th>\n",
       "      <th>positive_store_count</th>\n",
       "      <th>positive_growth</th>\n",
       "      <th>sales_in_thousands</th>\n",
       "    </tr>\n",
       "    <tr>\n",
       "      <th>chains</th>\n",
       "      <th></th>\n",
       "      <th></th>\n",
       "      <th></th>\n",
       "      <th></th>\n",
       "      <th></th>\n",
       "      <th></th>\n",
       "      <th></th>\n",
       "      <th></th>\n",
       "      <th></th>\n",
       "    </tr>\n",
       "  </thead>\n",
       "  <tbody>\n",
       "    <tr>\n",
       "      <th>Chick-fil-A</th>\n",
       "      <td>6100</td>\n",
       "      <td>2650</td>\n",
       "      <td>82</td>\n",
       "      <td>2732</td>\n",
       "      <td>155</td>\n",
       "      <td>0.969985</td>\n",
       "      <td>True</td>\n",
       "      <td>1</td>\n",
       "      <td>16700000</td>\n",
       "    </tr>\n",
       "    <tr>\n",
       "      <th>Culver’s</th>\n",
       "      <td>3099</td>\n",
       "      <td>831</td>\n",
       "      <td>6</td>\n",
       "      <td>837</td>\n",
       "      <td>55</td>\n",
       "      <td>0.992832</td>\n",
       "      <td>True</td>\n",
       "      <td>1</td>\n",
       "      <td>2489000</td>\n",
       "    </tr>\n",
       "    <tr>\n",
       "      <th>Five Guys</th>\n",
       "      <td>3172</td>\n",
       "      <td>911</td>\n",
       "      <td>479</td>\n",
       "      <td>1390</td>\n",
       "      <td>8</td>\n",
       "      <td>0.655396</td>\n",
       "      <td>True</td>\n",
       "      <td>1</td>\n",
       "      <td>2093000</td>\n",
       "    </tr>\n",
       "    <tr>\n",
       "      <th>McDonald’s</th>\n",
       "      <td>3420</td>\n",
       "      <td>12775</td>\n",
       "      <td>663</td>\n",
       "      <td>13438</td>\n",
       "      <td>244</td>\n",
       "      <td>0.950662</td>\n",
       "      <td>True</td>\n",
       "      <td>1</td>\n",
       "      <td>45960000</td>\n",
       "    </tr>\n",
       "    <tr>\n",
       "      <th>Raising Cane’s</th>\n",
       "      <td>4893</td>\n",
       "      <td>23</td>\n",
       "      <td>544</td>\n",
       "      <td>567</td>\n",
       "      <td>58</td>\n",
       "      <td>0.040564</td>\n",
       "      <td>True</td>\n",
       "      <td>1</td>\n",
       "      <td>2377000</td>\n",
       "    </tr>\n",
       "    <tr>\n",
       "      <th>Whataburger</th>\n",
       "      <td>3640</td>\n",
       "      <td>131</td>\n",
       "      <td>742</td>\n",
       "      <td>873</td>\n",
       "      <td>29</td>\n",
       "      <td>0.150057</td>\n",
       "      <td>True</td>\n",
       "      <td>1</td>\n",
       "      <td>3089000</td>\n",
       "    </tr>\n",
       "  </tbody>\n",
       "</table>\n",
       "</div>"
      ],
      "text/plain": [
       "                store_sales_thousands  stores_franchised  company_stores  \\\n",
       "chains                                                                     \n",
       "Chick-fil-A                      6100               2650              82   \n",
       "Culver’s                         3099                831               6   \n",
       "Five Guys                        3172                911             479   \n",
       "McDonald’s                       3420              12775             663   \n",
       "Raising Cane’s                   4893                 23             544   \n",
       "Whataburger                      3640                131             742   \n",
       "\n",
       "                store_count  store_count_change  percent_franchised  \\\n",
       "chains                                                                \n",
       "Chick-fil-A            2732                 155            0.969985   \n",
       "Culver’s                837                  55            0.992832   \n",
       "Five Guys              1390                   8            0.655396   \n",
       "McDonald’s            13438                 244            0.950662   \n",
       "Raising Cane’s          567                  58            0.040564   \n",
       "Whataburger             873                  29            0.150057   \n",
       "\n",
       "                positive_store_count  positive_growth  sales_in_thousands  \n",
       "chains                                                                     \n",
       "Chick-fil-A                     True                1            16700000  \n",
       "Culver’s                        True                1             2489000  \n",
       "Five Guys                       True                1             2093000  \n",
       "McDonald’s                      True                1            45960000  \n",
       "Raising Cane’s                  True                1             2377000  \n",
       "Whataburger                     True                1             3089000  "
      ]
     },
     "execution_count": 43,
     "metadata": {},
     "output_type": "execute_result"
    }
   ],
   "source": [
    "df[\n",
    "    (df.store_sales_thousands > 3000) &\n",
    "    (df.store_count > 500)\n",
    "]"
   ]
  },
  {
   "cell_type": "markdown",
   "id": "bf6e6e51",
   "metadata": {},
   "source": [
    "Find the companies that are in the 80% for sales and 80% for store counts"
   ]
  },
  {
   "cell_type": "code",
   "execution_count": null,
   "id": "6148e1c6",
   "metadata": {},
   "outputs": [
    {
     "data": {
      "text/html": [
       "<div>\n",
       "<style scoped>\n",
       "    .dataframe tbody tr th:only-of-type {\n",
       "        vertical-align: middle;\n",
       "    }\n",
       "\n",
       "    .dataframe tbody tr th {\n",
       "        vertical-align: top;\n",
       "    }\n",
       "\n",
       "    .dataframe thead th {\n",
       "        text-align: right;\n",
       "    }\n",
       "</style>\n",
       "<table border=\"1\" class=\"dataframe\">\n",
       "  <thead>\n",
       "    <tr style=\"text-align: right;\">\n",
       "      <th></th>\n",
       "      <th>store_sales_thousands</th>\n",
       "      <th>franchised</th>\n",
       "      <th>company_stores</th>\n",
       "      <th>store_count</th>\n",
       "      <th>store_count_change</th>\n",
       "      <th>positive_store_count</th>\n",
       "      <th>positive_growth</th>\n",
       "      <th>sales_in_thousands</th>\n",
       "    </tr>\n",
       "    <tr>\n",
       "      <th>chain</th>\n",
       "      <th></th>\n",
       "      <th></th>\n",
       "      <th></th>\n",
       "      <th></th>\n",
       "      <th></th>\n",
       "      <th></th>\n",
       "      <th></th>\n",
       "      <th></th>\n",
       "    </tr>\n",
       "  </thead>\n",
       "  <tbody>\n",
       "    <tr>\n",
       "      <th>Burger King</th>\n",
       "      <td>1470</td>\n",
       "      <td>7054</td>\n",
       "      <td>51</td>\n",
       "      <td>7105</td>\n",
       "      <td>24</td>\n",
       "      <td>True</td>\n",
       "      <td>1</td>\n",
       "      <td>10033000</td>\n",
       "    </tr>\n",
       "    <tr>\n",
       "      <th>Domino's</th>\n",
       "      <td>1317</td>\n",
       "      <td>6185</td>\n",
       "      <td>375</td>\n",
       "      <td>6560</td>\n",
       "      <td>205</td>\n",
       "      <td>True</td>\n",
       "      <td>1</td>\n",
       "      <td>8641000</td>\n",
       "    </tr>\n",
       "    <tr>\n",
       "      <th>Dunkin'</th>\n",
       "      <td>1127</td>\n",
       "      <td>9244</td>\n",
       "      <td>0</td>\n",
       "      <td>9244</td>\n",
       "      <td>161</td>\n",
       "      <td>True</td>\n",
       "      <td>1</td>\n",
       "      <td>10416000</td>\n",
       "    </tr>\n",
       "    <tr>\n",
       "      <th>McDonald’s</th>\n",
       "      <td>3420</td>\n",
       "      <td>12775</td>\n",
       "      <td>663</td>\n",
       "      <td>13438</td>\n",
       "      <td>244</td>\n",
       "      <td>True</td>\n",
       "      <td>1</td>\n",
       "      <td>45960000</td>\n",
       "    </tr>\n",
       "    <tr>\n",
       "      <th>Starbucks</th>\n",
       "      <td>1200</td>\n",
       "      <td>6497</td>\n",
       "      <td>8953</td>\n",
       "      <td>15450</td>\n",
       "      <td>113</td>\n",
       "      <td>True</td>\n",
       "      <td>1</td>\n",
       "      <td>24300000</td>\n",
       "    </tr>\n",
       "    <tr>\n",
       "      <th>Subway</th>\n",
       "      <td>438</td>\n",
       "      <td>21147</td>\n",
       "      <td>0</td>\n",
       "      <td>21147</td>\n",
       "      <td>-1043</td>\n",
       "      <td>True</td>\n",
       "      <td>1</td>\n",
       "      <td>9350000</td>\n",
       "    </tr>\n",
       "    <tr>\n",
       "      <th>Taco Bell</th>\n",
       "      <td>1823</td>\n",
       "      <td>6540</td>\n",
       "      <td>462</td>\n",
       "      <td>7002</td>\n",
       "      <td>203</td>\n",
       "      <td>True</td>\n",
       "      <td>1</td>\n",
       "      <td>12600000</td>\n",
       "    </tr>\n",
       "    <tr>\n",
       "      <th>Wendy's</th>\n",
       "      <td>1895</td>\n",
       "      <td>5535</td>\n",
       "      <td>403</td>\n",
       "      <td>5938</td>\n",
       "      <td>57</td>\n",
       "      <td>True</td>\n",
       "      <td>1</td>\n",
       "      <td>11111000</td>\n",
       "    </tr>\n",
       "  </tbody>\n",
       "</table>\n",
       "</div>"
      ],
      "text/plain": [
       "             store_sales_thousands  franchised  company_stores  store_count  \\\n",
       "chain                                                                         \n",
       "Burger King                   1470        7054              51         7105   \n",
       "Domino's                      1317        6185             375         6560   \n",
       "Dunkin'                       1127        9244               0         9244   \n",
       "McDonald’s                    3420       12775             663        13438   \n",
       "Starbucks                     1200        6497            8953        15450   \n",
       "Subway                         438       21147               0        21147   \n",
       "Taco Bell                     1823        6540             462         7002   \n",
       "Wendy's                       1895        5535             403         5938   \n",
       "\n",
       "             store_count_change  positive_store_count  positive_growth  \\\n",
       "chain                                                                    \n",
       "Burger King                  24                  True                1   \n",
       "Domino's                    205                  True                1   \n",
       "Dunkin'                     161                  True                1   \n",
       "McDonald’s                  244                  True                1   \n",
       "Starbucks                   113                  True                1   \n",
       "Subway                    -1043                  True                1   \n",
       "Taco Bell                   203                  True                1   \n",
       "Wendy's                      57                  True                1   \n",
       "\n",
       "             sales_in_thousands  \n",
       "chain                            \n",
       "Burger King            10033000  \n",
       "Domino's                8641000  \n",
       "Dunkin'                10416000  \n",
       "McDonald’s             45960000  \n",
       "Starbucks              24300000  \n",
       "Subway                  9350000  \n",
       "Taco Bell              12600000  \n",
       "Wendy's                11111000  "
      ]
     },
     "metadata": {},
     "output_type": "display_data"
    }
   ],
   "source": []
  },
  {
   "cell_type": "markdown",
   "id": "19687a10",
   "metadata": {},
   "source": [
    "## Questions created by ChatGPT from easy to difficult\n",
    "Following is a list of 30 questions produced by ChatGPT to practice my understanding of Pandas"
   ]
  },
  {
   "cell_type": "markdown",
   "id": "75d25b48",
   "metadata": {},
   "source": [
    "1.\tGet the Series of fast-food chain names."
   ]
  },
  {
   "cell_type": "code",
   "execution_count": null,
   "id": "728a09ac",
   "metadata": {},
   "outputs": [],
   "source": []
  },
  {
   "cell_type": "markdown",
   "id": "0d237847",
   "metadata": {},
   "source": [
    "2.\tCount the number of null values in each column."
   ]
  },
  {
   "cell_type": "code",
   "execution_count": null,
   "id": "8621e243",
   "metadata": {},
   "outputs": [],
   "source": []
  },
  {
   "cell_type": "markdown",
   "id": "40dea3d0",
   "metadata": {},
   "source": [
    "3.\tGet the Series of total U.S. sales."
   ]
  },
  {
   "cell_type": "code",
   "execution_count": null,
   "id": "5db12413",
   "metadata": {},
   "outputs": [],
   "source": []
  },
  {
   "cell_type": "markdown",
   "id": "dd86be85",
   "metadata": {},
   "source": [
    "4.\tFind the maximum sales value."
   ]
  },
  {
   "cell_type": "code",
   "execution_count": null,
   "id": "8eb24d15",
   "metadata": {},
   "outputs": [],
   "source": []
  },
  {
   "cell_type": "markdown",
   "id": "2f268693",
   "metadata": {},
   "source": [
    "5.\tFind the chain with the minimum number of store counts."
   ]
  },
  {
   "cell_type": "code",
   "execution_count": null,
   "id": "69efa1fe",
   "metadata": {},
   "outputs": [],
   "source": []
  },
  {
   "cell_type": "markdown",
   "id": "ba0d1cf4",
   "metadata": {},
   "source": [
    "6.\tGet a Series showing whether each chain is American."
   ]
  },
  {
   "cell_type": "code",
   "execution_count": null,
   "id": "4033457f",
   "metadata": {},
   "outputs": [],
   "source": []
  },
  {
   "cell_type": "markdown",
   "id": "33787a03",
   "metadata": {},
   "source": [
    "7.\tGet a boolean Series with sales greater than five billion?"
   ]
  },
  {
   "cell_type": "code",
   "execution_count": null,
   "id": "6fda2211",
   "metadata": {},
   "outputs": [],
   "source": []
  },
  {
   "cell_type": "markdown",
   "id": "67f21d45",
   "metadata": {},
   "source": [
    "8.\tCount how many companies sell over 5 billion."
   ]
  },
  {
   "cell_type": "code",
   "execution_count": null,
   "id": "2593358c",
   "metadata": {},
   "outputs": [],
   "source": []
  },
  {
   "cell_type": "markdown",
   "id": "360f9646",
   "metadata": {},
   "source": [
    "9.\tDrop the five franchises with the lowest overall sales"
   ]
  },
  {
   "cell_type": "code",
   "execution_count": null,
   "id": "0d8f28f6",
   "metadata": {},
   "outputs": [],
   "source": []
  },
  {
   "cell_type": "markdown",
   "id": "e9ac0d31",
   "metadata": {},
   "source": [
    "10.\tFind the average number of stores."
   ]
  },
  {
   "cell_type": "code",
   "execution_count": null,
   "id": "e5ccf365",
   "metadata": {},
   "outputs": [],
   "source": []
  },
  {
   "cell_type": "markdown",
   "id": "a22ef7cb",
   "metadata": {},
   "source": [
    "11.\tGet all chain names with sales over $5B (as Series)."
   ]
  },
  {
   "cell_type": "code",
   "execution_count": null,
   "id": "3a61c13a",
   "metadata": {},
   "outputs": [],
   "source": []
  },
  {
   "cell_type": "markdown",
   "id": "26018859",
   "metadata": {},
   "source": [
    "12.\tSort the Series of total stores and franchises in descending and ascending orders respectively."
   ]
  },
  {
   "cell_type": "code",
   "execution_count": null,
   "id": "4ee70142",
   "metadata": {},
   "outputs": [],
   "source": []
  },
  {
   "cell_type": "markdown",
   "id": "3ffaaa37",
   "metadata": {},
   "source": [
    "13.\tCreate a Series of lowercase chain names."
   ]
  },
  {
   "cell_type": "code",
   "execution_count": null,
   "id": "436874ea",
   "metadata": {},
   "outputs": [],
   "source": []
  },
  {
   "cell_type": "markdown",
   "id": "650a253a",
   "metadata": {},
   "source": [
    "14.\tGet chains that are not American."
   ]
  },
  {
   "cell_type": "code",
   "execution_count": null,
   "id": "7f7d2a4e",
   "metadata": {},
   "outputs": [],
   "source": []
  },
  {
   "cell_type": "markdown",
   "id": "fff260df",
   "metadata": {},
   "source": [
    "15.\tCreate a Series showing sales per unit."
   ]
  },
  {
   "cell_type": "code",
   "execution_count": null,
   "id": "554b1d86",
   "metadata": {},
   "outputs": [],
   "source": []
  },
  {
   "cell_type": "markdown",
   "id": "2c58f979",
   "metadata": {},
   "source": [
    "16.\tCheck which chains have \"Pizza\" in their name."
   ]
  },
  {
   "cell_type": "code",
   "execution_count": null,
   "id": "c1e6bbc7",
   "metadata": {},
   "outputs": [],
   "source": []
  },
  {
   "cell_type": "markdown",
   "id": "6745f3b2",
   "metadata": {},
   "source": [
    "17.\tGet the 5 smallest chains by number of stores."
   ]
  },
  {
   "cell_type": "code",
   "execution_count": null,
   "id": "b4ddb063",
   "metadata": {},
   "outputs": [],
   "source": []
  },
  {
   "cell_type": "markdown",
   "id": "5ef80d90",
   "metadata": {},
   "source": [
    "18.\tRename the column \"U.S. Systemwide Sales (Millions)\" to lowercase using .rename()."
   ]
  },
  {
   "cell_type": "code",
   "execution_count": null,
   "id": "03bcdf8c",
   "metadata": {},
   "outputs": [],
   "source": []
  },
  {
   "cell_type": "markdown",
   "id": "47b8c58d",
   "metadata": {},
   "source": [
    "19.\tFind the chain with the second highest sales."
   ]
  },
  {
   "cell_type": "code",
   "execution_count": null,
   "id": "1e087c2f",
   "metadata": {},
   "outputs": [],
   "source": []
  },
  {
   "cell_type": "markdown",
   "id": "a3498aa1",
   "metadata": {},
   "source": [
    "20.\tCreate a Series: is chain name longer than 10 characters?"
   ]
  },
  {
   "cell_type": "code",
   "execution_count": null,
   "id": "5c54d069",
   "metadata": {},
   "outputs": [],
   "source": []
  },
  {
   "cell_type": "markdown",
   "id": "2fc4ccc0",
   "metadata": {},
   "source": [
    "21.\tCreate a Series showing sales rank (1 = highest) and convert the result to integers."
   ]
  },
  {
   "cell_type": "code",
   "execution_count": null,
   "id": "5a441dfa",
   "metadata": {},
   "outputs": [],
   "source": []
  },
  {
   "cell_type": "markdown",
   "id": "8e492d58",
   "metadata": {},
   "source": [
    "22.\tGet the average sales for chains with between 1000 and 3000 stores"
   ]
  },
  {
   "cell_type": "code",
   "execution_count": null,
   "id": "e5acf889",
   "metadata": {},
   "outputs": [],
   "source": []
  },
  {
   "cell_type": "markdown",
   "id": "e765466d",
   "metadata": {},
   "source": [
    "23.\tCreate a Series of chain names sorted by store sales."
   ]
  },
  {
   "cell_type": "code",
   "execution_count": null,
   "id": "fcb434dc",
   "metadata": {},
   "outputs": [],
   "source": []
  },
  {
   "cell_type": "markdown",
   "id": "2261073e",
   "metadata": {},
   "source": [
    "24.\tCount how many chains contain \"Burger\" or \"Chicken\" in the name.\n"
   ]
  },
  {
   "cell_type": "code",
   "execution_count": null,
   "id": "b7b0b732",
   "metadata": {},
   "outputs": [],
   "source": []
  },
  {
   "cell_type": "markdown",
   "id": "b9b44e90",
   "metadata": {},
   "source": [
    "25.\tNormalize the sales column (0–1 range)."
   ]
  },
  {
   "cell_type": "code",
   "execution_count": null,
   "id": "23178791",
   "metadata": {},
   "outputs": [],
   "source": []
  },
  {
   "cell_type": "markdown",
   "id": "8fdd0918",
   "metadata": {},
   "source": [
    "26.\tCreate a Series flagging \"giants\" (sales > 5000 & total units > 10000)."
   ]
  },
  {
   "cell_type": "code",
   "execution_count": null,
   "id": "baabf49a",
   "metadata": {},
   "outputs": [],
   "source": []
  },
  {
   "cell_type": "markdown",
   "id": "d12d725e",
   "metadata": {},
   "source": [
    "27.\tCreate a Series of first letters of chain names."
   ]
  },
  {
   "cell_type": "code",
   "execution_count": null,
   "id": "51fb3f47",
   "metadata": {},
   "outputs": [],
   "source": []
  },
  {
   "cell_type": "markdown",
   "id": "75634688",
   "metadata": {},
   "source": [
    "28.\tReplace all spaces in chain names with underscores."
   ]
  },
  {
   "cell_type": "code",
   "execution_count": null,
   "id": "1a47c609",
   "metadata": {},
   "outputs": [],
   "source": []
  },
  {
   "cell_type": "markdown",
   "id": "1eb36ca7",
   "metadata": {},
   "source": [
    "29.\tBucket sales into categories: Low (<1000), Medium (1000–5000), High (>5000)"
   ]
  },
  {
   "cell_type": "code",
   "execution_count": null,
   "id": "cbbd4615",
   "metadata": {},
   "outputs": [],
   "source": []
  },
  {
   "cell_type": "markdown",
   "id": "45fdf796",
   "metadata": {},
   "source": [
    "30.\tGet a Series of boolean values: does chain name start with \"M\"?"
   ]
  },
  {
   "cell_type": "code",
   "execution_count": null,
   "id": "d5dd6d5d",
   "metadata": {},
   "outputs": [],
   "source": []
  }
 ],
 "metadata": {
  "kernelspec": {
   "display_name": "pandas_practice",
   "language": "python",
   "name": "python3"
  },
  "language_info": {
   "codemirror_mode": {
    "name": "ipython",
    "version": 3
   },
   "file_extension": ".py",
   "mimetype": "text/x-python",
   "name": "python",
   "nbconvert_exporter": "python",
   "pygments_lexer": "ipython3",
   "version": "3.10.18"
  }
 },
 "nbformat": 4,
 "nbformat_minor": 5
}
