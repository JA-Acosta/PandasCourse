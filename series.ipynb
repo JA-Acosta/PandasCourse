{
 "cells": [
  {
   "cell_type": "markdown",
   "id": "a2614aac",
   "metadata": {},
   "source": [
    "# Panda Series Intro\n",
    "Author: Joe Acosta\n",
    "Date: 07/21/2025\n",
    "\n",
    "Covers the basic info I've learned about series and offers a few questions and answers"
   ]
  },
  {
   "cell_type": "code",
   "execution_count": 1,
   "id": "e0dd5874",
   "metadata": {},
   "outputs": [],
   "source": [
    "# imports\n",
    "import pandas as pd"
   ]
  },
  {
   "cell_type": "code",
   "execution_count": 2,
   "id": "4d0071a7",
   "metadata": {},
   "outputs": [],
   "source": [
    "revenue = [\n",
    "    274515, 200734, 182527, 181945,\n",
    "    143015, 129184, 92224, 85965, 84893,\n",
    "    82345, 77867, 73620, 69864, 63191\n",
    "]\n",
    "\n",
    "companies = [\n",
    "    'Apple', 'Samsung', 'Alphabet', 'Foxconn',\n",
    "    'Microsoft', 'Huawei', 'Dell Technologies',\n",
    "    'Meta', 'Sony', 'Hitachi', 'Intel',\n",
    "    'IBM', 'Tencent', 'Panasonic'\n",
    "]"
   ]
  },
  {
   "cell_type": "markdown",
   "id": "74b30b5c",
   "metadata": {},
   "source": [
    "Create a series without assigned Index for revenue"
   ]
  },
  {
   "cell_type": "code",
   "execution_count": 3,
   "id": "1907f2a4",
   "metadata": {},
   "outputs": [
    {
     "data": {
      "text/plain": [
       "0     274515\n",
       "1     200734\n",
       "2     182527\n",
       "3     181945\n",
       "4     143015\n",
       "5     129184\n",
       "6      92224\n",
       "7      85965\n",
       "8      84893\n",
       "9      82345\n",
       "10     77867\n",
       "11     73620\n",
       "12     69864\n",
       "13     63191\n",
       "dtype: int64"
      ]
     },
     "execution_count": 3,
     "metadata": {},
     "output_type": "execute_result"
    }
   ],
   "source": [
    "pd.Series(revenue)"
   ]
  },
  {
   "cell_type": "markdown",
   "id": "6fbf9011",
   "metadata": {},
   "source": [
    "Create a series with an index and a title. Store it and print it"
   ]
  },
  {
   "cell_type": "code",
   "execution_count": 4,
   "id": "0685c482",
   "metadata": {},
   "outputs": [
    {
     "data": {
      "text/plain": [
       "Apple                274515\n",
       "Samsung              200734\n",
       "Alphabet             182527\n",
       "Foxconn              181945\n",
       "Microsoft            143015\n",
       "Huawei               129184\n",
       "Dell Technologies     92224\n",
       "Meta                  85965\n",
       "Sony                  84893\n",
       "Hitachi               82345\n",
       "Intel                 77867\n",
       "IBM                   73620\n",
       "Tencent               69864\n",
       "Panasonic             63191\n",
       "Name: Top Technology Companies by Revenue, dtype: int64"
      ]
     },
     "execution_count": 4,
     "metadata": {},
     "output_type": "execute_result"
    }
   ],
   "source": [
    "# Data: the most important component in the series\n",
    "# index: the labels given to each index in the series\n",
    "# name: a title that's given to the series\n",
    "\n",
    "# SERIES ARE STRONGLY TYPED >> ALL ELEMENTS MUST CONFORM TO A DTYPE\n",
    "s = pd.Series(data=revenue, index=companies, name=\"Top Technology Companies by Revenue\")\n",
    "s"
   ]
  },
  {
   "cell_type": "markdown",
   "id": "0ff7d64a",
   "metadata": {},
   "source": [
    "Check the series elements datatype"
   ]
  },
  {
   "cell_type": "code",
   "execution_count": 5,
   "id": "fe175d19",
   "metadata": {},
   "outputs": [
    {
     "data": {
      "text/plain": [
       "dtype('int64')"
      ]
     },
     "execution_count": 5,
     "metadata": {},
     "output_type": "execute_result"
    }
   ],
   "source": [
    "s.dtype"
   ]
  },
  {
   "cell_type": "code",
   "execution_count": 6,
   "id": "484a540b",
   "metadata": {},
   "outputs": [],
   "source": [
    "# Data can be retrieved by index or by position."
   ]
  },
  {
   "cell_type": "markdown",
   "id": "5a30f358",
   "metadata": {},
   "source": [
    "Get the data for Apple"
   ]
  },
  {
   "cell_type": "code",
   "execution_count": 7,
   "id": "aa9ea3d7",
   "metadata": {},
   "outputs": [
    {
     "data": {
      "text/plain": [
       "np.int64(274515)"
      ]
     },
     "execution_count": 7,
     "metadata": {},
     "output_type": "execute_result"
    }
   ],
   "source": [
    "# Get Data by index example\n",
    "s['Apple']"
   ]
  },
  {
   "cell_type": "code",
   "execution_count": 8,
   "id": "168b29ab",
   "metadata": {},
   "outputs": [
    {
     "data": {
      "text/plain": [
       "np.int64(274515)"
      ]
     },
     "execution_count": 8,
     "metadata": {},
     "output_type": "execute_result"
    }
   ],
   "source": [
    "# Preferred way though both work\n",
    "s.loc['Apple']"
   ]
  },
  {
   "cell_type": "markdown",
   "id": "91063d7e",
   "metadata": {},
   "source": [
    "Get the data for Apple and IBM"
   ]
  },
  {
   "cell_type": "code",
   "execution_count": 9,
   "id": "46aeaf32",
   "metadata": {},
   "outputs": [
    {
     "data": {
      "text/plain": [
       "Apple    274515\n",
       "IBM       73620\n",
       "Name: Top Technology Companies by Revenue, dtype: int64"
      ]
     },
     "execution_count": 9,
     "metadata": {},
     "output_type": "execute_result"
    }
   ],
   "source": [
    "s.loc[['Apple', 'IBM']]"
   ]
  },
  {
   "cell_type": "markdown",
   "id": "698c3b8f",
   "metadata": {},
   "source": [
    "Get the data stored at position 3"
   ]
  },
  {
   "cell_type": "code",
   "execution_count": 10,
   "id": "b57a2af3",
   "metadata": {},
   "outputs": [
    {
     "data": {
      "text/plain": [
       "np.int64(181945)"
      ]
     },
     "execution_count": 10,
     "metadata": {},
     "output_type": "execute_result"
    }
   ],
   "source": [
    "s.iloc[3] # or s[3]"
   ]
  },
  {
   "cell_type": "markdown",
   "id": "bd5227bc",
   "metadata": {},
   "source": [
    "Get the Data for multiple positions >> 1 to 5"
   ]
  },
  {
   "cell_type": "code",
   "execution_count": 11,
   "id": "76a93f11",
   "metadata": {},
   "outputs": [
    {
     "data": {
      "text/plain": [
       "Samsung      200734\n",
       "Alphabet     182527\n",
       "Foxconn      181945\n",
       "Microsoft    143015\n",
       "Name: Top Technology Companies by Revenue, dtype: int64"
      ]
     },
     "execution_count": 11,
     "metadata": {},
     "output_type": "execute_result"
    }
   ],
   "source": [
    "s.iloc[1:5]"
   ]
  },
  {
   "cell_type": "markdown",
   "id": "5d576ec7",
   "metadata": {},
   "source": [
    "Get the data for the positions 1, 4, -3"
   ]
  },
  {
   "cell_type": "code",
   "execution_count": 12,
   "id": "9a3f7194",
   "metadata": {},
   "outputs": [
    {
     "data": {
      "text/plain": [
       "Samsung      200734\n",
       "Microsoft    143015\n",
       "IBM           73620\n",
       "Name: Top Technology Companies by Revenue, dtype: int64"
      ]
     },
     "execution_count": 12,
     "metadata": {},
     "output_type": "execute_result"
    }
   ],
   "source": [
    "s.iloc[[1, 4, -3]]"
   ]
  },
  {
   "cell_type": "markdown",
   "id": "34cec43e",
   "metadata": {},
   "source": [
    "Get the last element in the Series"
   ]
  },
  {
   "cell_type": "code",
   "execution_count": 13,
   "id": "3f51b580",
   "metadata": {},
   "outputs": [
    {
     "data": {
      "text/plain": [
       "np.int64(63191)"
      ]
     },
     "execution_count": 13,
     "metadata": {},
     "output_type": "execute_result"
    }
   ],
   "source": [
    "s.iloc[-1]"
   ]
  },
  {
   "cell_type": "markdown",
   "id": "ff69ee64",
   "metadata": {},
   "source": [
    "Is Snapchat in the list of companies?"
   ]
  },
  {
   "cell_type": "code",
   "execution_count": 14,
   "id": "62965001",
   "metadata": {},
   "outputs": [
    {
     "data": {
      "text/plain": [
       "False"
      ]
     },
     "execution_count": 14,
     "metadata": {},
     "output_type": "execute_result"
    }
   ],
   "source": [
    "'Snapchat' in s"
   ]
  },
  {
   "cell_type": "markdown",
   "id": "5ea4258b",
   "metadata": {},
   "source": [
    "Get the name of the series"
   ]
  },
  {
   "cell_type": "code",
   "execution_count": 15,
   "id": "e13e6834",
   "metadata": {},
   "outputs": [
    {
     "data": {
      "text/plain": [
       "'Top Technology Companies by Revenue'"
      ]
     },
     "execution_count": 15,
     "metadata": {},
     "output_type": "execute_result"
    }
   ],
   "source": [
    "s.name"
   ]
  },
  {
   "cell_type": "markdown",
   "id": "44334959",
   "metadata": {},
   "source": [
    "Get the index of the seres"
   ]
  },
  {
   "cell_type": "code",
   "execution_count": 16,
   "id": "aab4f478",
   "metadata": {},
   "outputs": [
    {
     "data": {
      "text/plain": [
       "Index(['Apple', 'Samsung', 'Alphabet', 'Foxconn', 'Microsoft', 'Huawei',\n",
       "       'Dell Technologies', 'Meta', 'Sony', 'Hitachi', 'Intel', 'IBM',\n",
       "       'Tencent', 'Panasonic'],\n",
       "      dtype='object')"
      ]
     },
     "execution_count": 16,
     "metadata": {},
     "output_type": "execute_result"
    }
   ],
   "source": [
    "s.index"
   ]
  },
  {
   "cell_type": "markdown",
   "id": "d905149a",
   "metadata": {},
   "source": [
    "Get the values in the series"
   ]
  },
  {
   "cell_type": "code",
   "execution_count": 17,
   "id": "600c7796",
   "metadata": {},
   "outputs": [
    {
     "data": {
      "text/plain": [
       "array([274515, 200734, 182527, 181945, 143015, 129184,  92224,  85965,\n",
       "        84893,  82345,  77867,  73620,  69864,  63191])"
      ]
     },
     "execution_count": 17,
     "metadata": {},
     "output_type": "execute_result"
    }
   ],
   "source": [
    "s.values"
   ]
  },
  {
   "cell_type": "markdown",
   "id": "e56cc972",
   "metadata": {},
   "source": [
    "Get all the basic quantitative information for the series"
   ]
  },
  {
   "cell_type": "code",
   "execution_count": 18,
   "id": "c5d3bb82",
   "metadata": {},
   "outputs": [
    {
     "data": {
      "text/plain": [
       "count        14.000000\n",
       "mean     124420.642857\n",
       "std       63686.481231\n",
       "min       63191.000000\n",
       "25%       78986.500000\n",
       "50%       89094.500000\n",
       "75%      172212.500000\n",
       "max      274515.000000\n",
       "Name: Top Technology Companies by Revenue, dtype: float64"
      ]
     },
     "execution_count": 18,
     "metadata": {},
     "output_type": "execute_result"
    }
   ],
   "source": [
    "s.describe()"
   ]
  },
  {
   "cell_type": "markdown",
   "id": "47194973",
   "metadata": {},
   "source": [
    "Get the maximum, minimum, and mean for the data"
   ]
  },
  {
   "cell_type": "code",
   "execution_count": 19,
   "id": "35ed0081",
   "metadata": {},
   "outputs": [
    {
     "name": "stdout",
     "output_type": "stream",
     "text": [
      "274515\n",
      "63191\n",
      "124420.64285714286\n"
     ]
    }
   ],
   "source": [
    "print(s.max())\n",
    "print(s.min())\n",
    "print(s.mean())"
   ]
  },
  {
   "cell_type": "markdown",
   "id": "34f968c3",
   "metadata": {},
   "source": [
    "What is the 95% percentile for revenue of these companies"
   ]
  },
  {
   "cell_type": "code",
   "execution_count": 20,
   "id": "b043f155",
   "metadata": {},
   "outputs": [
    {
     "data": {
      "text/plain": [
       "np.float64(226557.34999999998)"
      ]
     },
     "execution_count": 20,
     "metadata": {},
     "output_type": "execute_result"
    }
   ],
   "source": [
    "s.quantile(.95)"
   ]
  },
  {
   "cell_type": "markdown",
   "id": "487e891e",
   "metadata": {},
   "source": [
    "What is the lowest ten percent for revenue of these companies"
   ]
  },
  {
   "cell_type": "code",
   "execution_count": 21,
   "id": "6f07b47b",
   "metadata": {},
   "outputs": [
    {
     "data": {
      "text/plain": [
       "np.float64(70990.8)"
      ]
     },
     "execution_count": 21,
     "metadata": {},
     "output_type": "execute_result"
    }
   ],
   "source": [
    "s.quantile(.10)"
   ]
  },
  {
   "cell_type": "markdown",
   "id": "d0f33fd6",
   "metadata": {},
   "source": [
    "How many companies are recorded in the series?"
   ]
  },
  {
   "cell_type": "code",
   "execution_count": 22,
   "id": "6c348b7d",
   "metadata": {},
   "outputs": [
    {
     "data": {
      "text/plain": [
       "14"
      ]
     },
     "execution_count": 22,
     "metadata": {},
     "output_type": "execute_result"
    }
   ],
   "source": [
    "s.size # Alternatively len(s)"
   ]
  },
  {
   "cell_type": "markdown",
   "id": "a18106a8",
   "metadata": {},
   "source": [
    "Create sub-series:"
   ]
  },
  {
   "cell_type": "code",
   "execution_count": 23,
   "id": "513c3f70",
   "metadata": {},
   "outputs": [],
   "source": [
    "international_companies= [\n",
    "    \"Sony\", \"Tencent\", \"Panasonic\",\n",
    "    \"Samsung\", \"Hitachi\", \"Foxconn\", \"Huawei\"\n",
    "]\n",
    "\n",
    "domestic_companies= ['Meta', 'IBM', 'Microsoft',\n",
    "    'Dell Technologies', 'Apple', 'Intel', 'Alphabet'\n",
    "]"
   ]
  },
  {
   "cell_type": "code",
   "execution_count": 24,
   "id": "eb54236a",
   "metadata": {},
   "outputs": [
    {
     "data": {
      "text/plain": [
       "Meta                  85965\n",
       "IBM                   73620\n",
       "Microsoft            143015\n",
       "Dell Technologies     92224\n",
       "Apple                274515\n",
       "Intel                 77867\n",
       "Alphabet             182527\n",
       "Name: Top Technology Companies by Revenue, dtype: int64"
      ]
     },
     "execution_count": 24,
     "metadata": {},
     "output_type": "execute_result"
    }
   ],
   "source": [
    "american_companies = s.loc[domestic_companies]\n",
    "american_companies\n"
   ]
  },
  {
   "cell_type": "code",
   "execution_count": 25,
   "id": "878771d9",
   "metadata": {},
   "outputs": [
    {
     "data": {
      "text/plain": [
       "Sony          84893\n",
       "Tencent       69864\n",
       "Panasonic     63191\n",
       "Samsung      200734\n",
       "Hitachi       82345\n",
       "Foxconn      181945\n",
       "Huawei       129184\n",
       "Name: Top Technology Companies by Revenue, dtype: int64"
      ]
     },
     "execution_count": 25,
     "metadata": {},
     "output_type": "execute_result"
    }
   ],
   "source": [
    "international_s=s.loc[international_companies]\n",
    "international_s"
   ]
  },
  {
   "cell_type": "markdown",
   "id": "96a8f849",
   "metadata": {},
   "source": [
    "Is Samsung an american company?"
   ]
  },
  {
   "cell_type": "code",
   "execution_count": 26,
   "id": "a5b36e14",
   "metadata": {},
   "outputs": [
    {
     "data": {
      "text/plain": [
       "False"
      ]
     },
     "execution_count": 26,
     "metadata": {},
     "output_type": "execute_result"
    }
   ],
   "source": [
    "'Samsung' in american_companies"
   ]
  },
  {
   "cell_type": "markdown",
   "id": "247aa4f0",
   "metadata": {},
   "source": [
    "Sort the american companies by reverse alphabetically"
   ]
  },
  {
   "cell_type": "code",
   "execution_count": 27,
   "id": "4be9f42d",
   "metadata": {},
   "outputs": [
    {
     "data": {
      "text/plain": [
       "Microsoft            143015\n",
       "Meta                  85965\n",
       "Intel                 77867\n",
       "IBM                   73620\n",
       "Dell Technologies     92224\n",
       "Apple                274515\n",
       "Alphabet             182527\n",
       "Name: Top Technology Companies by Revenue, dtype: int64"
      ]
     },
     "execution_count": 27,
     "metadata": {},
     "output_type": "execute_result"
    }
   ],
   "source": [
    "american_companies.sort_index(ascending=False)"
   ]
  },
  {
   "cell_type": "markdown",
   "id": "b3fa279f",
   "metadata": {},
   "source": [
    "Sort the american companies by highest revenue"
   ]
  },
  {
   "cell_type": "code",
   "execution_count": 28,
   "id": "27c39ef3",
   "metadata": {},
   "outputs": [
    {
     "data": {
      "text/plain": [
       "Apple                274515\n",
       "Alphabet             182527\n",
       "Microsoft            143015\n",
       "Dell Technologies     92224\n",
       "Meta                  85965\n",
       "Intel                 77867\n",
       "IBM                   73620\n",
       "Name: Top Technology Companies by Revenue, dtype: int64"
      ]
     },
     "execution_count": 28,
     "metadata": {},
     "output_type": "execute_result"
    }
   ],
   "source": [
    "# since series are a 1d ordered sequence, don't need the by attribute like when sort_values() is used on a dataframe\n",
    "american_companies.sort_values(ascending=False)"
   ]
  },
  {
   "cell_type": "markdown",
   "id": "9576ac5c",
   "metadata": {},
   "source": [
    "NOTE THAT SERIES ARE IMMUTABLE\n",
    "\n",
    "This is why the sort functions don't affect the original series"
   ]
  },
  {
   "cell_type": "markdown",
   "id": "f021bac3",
   "metadata": {},
   "source": [
    "Add Tesla to the Series"
   ]
  },
  {
   "cell_type": "code",
   "execution_count": 29,
   "id": "263db313",
   "metadata": {},
   "outputs": [],
   "source": [
    "Tesla = 21450"
   ]
  },
  {
   "cell_type": "code",
   "execution_count": 30,
   "id": "14d54618",
   "metadata": {},
   "outputs": [],
   "source": [
    "s['Tesla'] = Tesla"
   ]
  },
  {
   "cell_type": "code",
   "execution_count": 31,
   "id": "c5d92161",
   "metadata": {},
   "outputs": [
    {
     "data": {
      "text/plain": [
       "np.int64(21450)"
      ]
     },
     "execution_count": 31,
     "metadata": {},
     "output_type": "execute_result"
    }
   ],
   "source": [
    "s.loc['Tesla']"
   ]
  },
  {
   "cell_type": "code",
   "execution_count": 32,
   "id": "50ac0450",
   "metadata": {},
   "outputs": [
    {
     "data": {
      "text/plain": [
       "True"
      ]
     },
     "execution_count": 32,
     "metadata": {},
     "output_type": "execute_result"
    }
   ],
   "source": [
    "'Tesla' in s"
   ]
  },
  {
   "cell_type": "markdown",
   "id": "609d072f",
   "metadata": {},
   "source": [
    "Set Tesla Revenue to zero"
   ]
  },
  {
   "cell_type": "code",
   "execution_count": 33,
   "id": "c249f745",
   "metadata": {},
   "outputs": [],
   "source": [
    "s['Tesla'] = 0"
   ]
  },
  {
   "cell_type": "markdown",
   "id": "6c167f3f",
   "metadata": {},
   "source": [
    "Remove Tesla from the series and check that it was removed"
   ]
  },
  {
   "cell_type": "code",
   "execution_count": 34,
   "id": "8c0022bb",
   "metadata": {},
   "outputs": [],
   "source": [
    "del s['Tesla']"
   ]
  },
  {
   "cell_type": "code",
   "execution_count": 35,
   "id": "4cc8fa93",
   "metadata": {},
   "outputs": [
    {
     "data": {
      "text/plain": [
       "False"
      ]
     },
     "execution_count": 35,
     "metadata": {},
     "output_type": "execute_result"
    }
   ],
   "source": [
    "'Tesla' in s"
   ]
  },
  {
   "cell_type": "markdown",
   "id": "ea45a651",
   "metadata": {},
   "source": [
    "Create a new series with Tesla and Snapchat"
   ]
  },
  {
   "cell_type": "code",
   "execution_count": 36,
   "id": "b9f7dd5b",
   "metadata": {},
   "outputs": [],
   "source": [
    "ts_revenue=[21450, 4120]\n",
    "ts_names=['Tesla', 'Snapchat']"
   ]
  },
  {
   "cell_type": "code",
   "execution_count": 37,
   "id": "cfa0e1f3",
   "metadata": {},
   "outputs": [
    {
     "data": {
      "text/plain": [
       "Tesla       21450\n",
       "Snapchat     4120\n",
       "Name: Tesla and Snapchat, dtype: int64"
      ]
     },
     "execution_count": 37,
     "metadata": {},
     "output_type": "execute_result"
    }
   ],
   "source": [
    "ts=pd.Series(data=ts_revenue, index=ts_names, name='Tesla and Snapchat')\n",
    "ts"
   ]
  },
  {
   "cell_type": "markdown",
   "id": "810c813d",
   "metadata": {},
   "source": [
    "Add the TS series to the original series"
   ]
  },
  {
   "cell_type": "code",
   "execution_count": 38,
   "id": "34db2fca",
   "metadata": {},
   "outputs": [
    {
     "data": {
      "text/plain": [
       "Apple                274515\n",
       "Samsung              200734\n",
       "Alphabet             182527\n",
       "Foxconn              181945\n",
       "Microsoft            143015\n",
       "Huawei               129184\n",
       "Dell Technologies     92224\n",
       "Meta                  85965\n",
       "Sony                  84893\n",
       "Hitachi               82345\n",
       "Intel                 77867\n",
       "IBM                   73620\n",
       "Tencent               69864\n",
       "Panasonic             63191\n",
       "Tesla                 21450\n",
       "Snapchat               4120\n",
       "dtype: int64"
      ]
     },
     "execution_count": 38,
     "metadata": {},
     "output_type": "execute_result"
    }
   ],
   "source": [
    "merged=pd.concat([s,ts])\n",
    "merged"
   ]
  },
  {
   "cell_type": "markdown",
   "id": "ce17f1e7",
   "metadata": {},
   "source": [
    "Create a rev and com series using the revenue and company data"
   ]
  },
  {
   "cell_type": "code",
   "execution_count": 39,
   "id": "68b515e3",
   "metadata": {},
   "outputs": [],
   "source": [
    "rev=pd.Series(data=revenue)\n",
    "com=pd.Series(data=companies)"
   ]
  },
  {
   "cell_type": "markdown",
   "id": "12279d23",
   "metadata": {},
   "source": [
    "Order the company series based on the order generated from the revenue series. This is based on the revenue in ascending order"
   ]
  },
  {
   "cell_type": "code",
   "execution_count": 40,
   "id": "5ff4643d",
   "metadata": {},
   "outputs": [
    {
     "data": {
      "text/plain": [
       "13            Panasonic\n",
       "12              Tencent\n",
       "11                  IBM\n",
       "10                Intel\n",
       "9               Hitachi\n",
       "8                  Sony\n",
       "7                  Meta\n",
       "6     Dell Technologies\n",
       "5                Huawei\n",
       "4             Microsoft\n",
       "3               Foxconn\n",
       "2              Alphabet\n",
       "1               Samsung\n",
       "0                 Apple\n",
       "dtype: object"
      ]
     },
     "execution_count": 40,
     "metadata": {},
     "output_type": "execute_result"
    }
   ],
   "source": [
    "sorted_rev=rev.sort_values()\n",
    "com.iloc[sorted_rev.index]"
   ]
  },
  {
   "cell_type": "markdown",
   "id": "cadec00b",
   "metadata": {},
   "source": [
    "What was the total revenue for the foreign companies"
   ]
  },
  {
   "cell_type": "code",
   "execution_count": 41,
   "id": "a1f85ae7",
   "metadata": {},
   "outputs": [
    {
     "data": {
      "text/plain": [
       "np.int64(812156)"
      ]
     },
     "execution_count": 41,
     "metadata": {},
     "output_type": "execute_result"
    }
   ],
   "source": [
    "international_s.sum()"
   ]
  },
  {
   "cell_type": "markdown",
   "id": "1b95a273",
   "metadata": {},
   "source": [
    "What percent of gdp was produced by each company?"
   ]
  },
  {
   "cell_type": "code",
   "execution_count": 42,
   "id": "af7ca625",
   "metadata": {},
   "outputs": [
    {
     "data": {
      "text/plain": [
       "Meta                 0.092462\n",
       "IBM                  0.079184\n",
       "Microsoft            0.153824\n",
       "Dell Technologies    0.099194\n",
       "Apple                0.295262\n",
       "Intel                0.083752\n",
       "Alphabet             0.196322\n",
       "Name: Top Technology Companies by Revenue, dtype: float64"
      ]
     },
     "execution_count": 42,
     "metadata": {},
     "output_type": "execute_result"
    }
   ],
   "source": [
    "american_companies / american_companies.sum()"
   ]
  },
  {
   "cell_type": "markdown",
   "id": "1aa69e4b",
   "metadata": {},
   "source": [
    "Rank each company based on their revenue"
   ]
  },
  {
   "cell_type": "code",
   "execution_count": 43,
   "id": "77df2f36",
   "metadata": {},
   "outputs": [
    {
     "data": {
      "text/plain": [
       "Apple                14.0\n",
       "Samsung              13.0\n",
       "Alphabet             12.0\n",
       "Foxconn              11.0\n",
       "Microsoft            10.0\n",
       "Huawei                9.0\n",
       "Dell Technologies     8.0\n",
       "Meta                  7.0\n",
       "Sony                  6.0\n",
       "Hitachi               5.0\n",
       "Intel                 4.0\n",
       "IBM                   3.0\n",
       "Tencent               2.0\n",
       "Panasonic             1.0\n",
       "Name: Top Technology Companies by Revenue, dtype: float64"
      ]
     },
     "execution_count": 43,
     "metadata": {},
     "output_type": "execute_result"
    }
   ],
   "source": [
    "s.rank()"
   ]
  },
  {
   "cell_type": "markdown",
   "id": "28f21fef",
   "metadata": {},
   "source": [
    "What's the ID for the company with the highest revenue"
   ]
  },
  {
   "cell_type": "code",
   "execution_count": 44,
   "id": "a466b604",
   "metadata": {},
   "outputs": [
    {
     "data": {
      "text/plain": [
       "'Apple'"
      ]
     },
     "execution_count": 44,
     "metadata": {},
     "output_type": "execute_result"
    }
   ],
   "source": [
    "s.idxmax()"
   ]
  },
  {
   "cell_type": "markdown",
   "id": "f2774135",
   "metadata": {},
   "source": [
    "Calculate each companies revenue if they each got an extra 20%"
   ]
  },
  {
   "cell_type": "code",
   "execution_count": 45,
   "id": "e6961405",
   "metadata": {},
   "outputs": [
    {
     "data": {
      "text/plain": [
       "Apple                329418.0\n",
       "Samsung              240880.8\n",
       "Alphabet             219032.4\n",
       "Foxconn              218334.0\n",
       "Microsoft            171618.0\n",
       "Huawei               155020.8\n",
       "Dell Technologies    110668.8\n",
       "Meta                 103158.0\n",
       "Sony                 101871.6\n",
       "Hitachi               98814.0\n",
       "Intel                 93440.4\n",
       "IBM                   88344.0\n",
       "Tencent               83836.8\n",
       "Panasonic             75829.2\n",
       "Name: Top Technology Companies by Revenue, dtype: float64"
      ]
     },
     "execution_count": 45,
     "metadata": {},
     "output_type": "execute_result"
    }
   ],
   "source": [
    "s * 1.2"
   ]
  },
  {
   "cell_type": "markdown",
   "id": "85e84f3e",
   "metadata": {},
   "source": [
    "Add 300 to each companies revenue"
   ]
  },
  {
   "cell_type": "code",
   "execution_count": 46,
   "id": "b83deca7",
   "metadata": {},
   "outputs": [
    {
     "data": {
      "text/plain": [
       "Apple                274815\n",
       "Samsung              201034\n",
       "Alphabet             182827\n",
       "Foxconn              182245\n",
       "Microsoft            143315\n",
       "Huawei               129484\n",
       "Dell Technologies     92524\n",
       "Meta                  86265\n",
       "Sony                  85193\n",
       "Hitachi               82645\n",
       "Intel                 78167\n",
       "IBM                   73920\n",
       "Tencent               70164\n",
       "Panasonic             63491\n",
       "Name: Top Technology Companies by Revenue, dtype: int64"
      ]
     },
     "execution_count": 46,
     "metadata": {},
     "output_type": "execute_result"
    }
   ],
   "source": [
    "s.add(300)"
   ]
  },
  {
   "cell_type": "markdown",
   "id": "5d97b95f",
   "metadata": {},
   "source": [
    "Subtract 500 fro each companies revenue"
   ]
  },
  {
   "cell_type": "code",
   "execution_count": 47,
   "id": "d939269a",
   "metadata": {},
   "outputs": [
    {
     "data": {
      "text/plain": [
       "Apple                274015\n",
       "Samsung              200234\n",
       "Alphabet             182027\n",
       "Foxconn              181445\n",
       "Microsoft            142515\n",
       "Huawei               128684\n",
       "Dell Technologies     91724\n",
       "Meta                  85465\n",
       "Sony                  84393\n",
       "Hitachi               81845\n",
       "Intel                 77367\n",
       "IBM                   73120\n",
       "Tencent               69364\n",
       "Panasonic             62691\n",
       "Name: Top Technology Companies by Revenue, dtype: int64"
      ]
     },
     "execution_count": 47,
     "metadata": {},
     "output_type": "execute_result"
    }
   ],
   "source": [
    "s.sub(500)"
   ]
  },
  {
   "cell_type": "markdown",
   "id": "70818598",
   "metadata": {},
   "source": [
    "Check if the company revenue was greater than 50000 for each company"
   ]
  },
  {
   "cell_type": "code",
   "execution_count": 48,
   "id": "2b21103c",
   "metadata": {},
   "outputs": [
    {
     "data": {
      "text/plain": [
       "Apple                True\n",
       "Samsung              True\n",
       "Alphabet             True\n",
       "Foxconn              True\n",
       "Microsoft            True\n",
       "Huawei               True\n",
       "Dell Technologies    True\n",
       "Meta                 True\n",
       "Sony                 True\n",
       "Hitachi              True\n",
       "Intel                True\n",
       "IBM                  True\n",
       "Tencent              True\n",
       "Panasonic            True\n",
       "Name: Top Technology Companies by Revenue, dtype: bool"
      ]
     },
     "execution_count": 48,
     "metadata": {},
     "output_type": "execute_result"
    }
   ],
   "source": [
    "s.apply(lambda x: True if x > 50000 else False)"
   ]
  },
  {
   "cell_type": "markdown",
   "id": "b831236e",
   "metadata": {},
   "source": [
    "Calculate the cumulative revenue for each company after sorting the companies by name"
   ]
  },
  {
   "cell_type": "code",
   "execution_count": 49,
   "id": "cb11faf9",
   "metadata": {},
   "outputs": [
    {
     "data": {
      "text/plain": [
       "array([ 182527,  457042,  549266,  731211,  813556,  942740, 1016360,\n",
       "       1094227, 1180192, 1323207, 1386398, 1587132, 1672025, 1741889])"
      ]
     },
     "execution_count": 49,
     "metadata": {},
     "output_type": "execute_result"
    }
   ],
   "source": [
    "s.sort_index().values.cumsum()"
   ]
  },
  {
   "cell_type": "markdown",
   "id": "df6d91d1",
   "metadata": {},
   "source": [
    "This is where the deviation started and I can update this instead of the entire notebook"
   ]
  },
  {
   "cell_type": "code",
   "execution_count": null,
   "id": "3a8e2bad",
   "metadata": {},
   "outputs": [],
   "source": []
  },
  {
   "cell_type": "code",
   "execution_count": null,
   "id": "8e3371f8",
   "metadata": {},
   "outputs": [],
   "source": []
  },
  {
   "cell_type": "markdown",
   "id": "37035ca1",
   "metadata": {},
   "source": [
    "## Bool arr for conditional selections"
   ]
  },
  {
   "cell_type": "code",
   "execution_count": 50,
   "id": "060b2206",
   "metadata": {},
   "outputs": [],
   "source": [
    "# Must be the same length as the series and must be boolean in nature. All the True values are returned as a series or entry\n",
    "\n",
    "# if we do conditional operation on a series, this will result in a series arr the size of the series and can then be used to select the entries in the series that meet the condition\n"
   ]
  },
  {
   "cell_type": "markdown",
   "id": "6c9f4cb1",
   "metadata": {},
   "source": [
    "Get all the companies that have a revenue greater than 75000"
   ]
  },
  {
   "cell_type": "code",
   "execution_count": null,
   "id": "e545333c",
   "metadata": {},
   "outputs": [
    {
     "data": {
      "text/plain": [
       "Apple                274515\n",
       "Samsung              200734\n",
       "Alphabet             182527\n",
       "Foxconn              181945\n",
       "Microsoft            143015\n",
       "Huawei               129184\n",
       "Dell Technologies     92224\n",
       "Meta                  85965\n",
       "Sony                  84893\n",
       "Hitachi               82345\n",
       "Intel                 77867\n",
       "IBM                   73620\n",
       "Tencent               69864\n",
       "Panasonic             63191\n",
       "Name: Top Technology Companies by Revenue, dtype: int64"
      ]
     },
     "execution_count": 51,
     "metadata": {},
     "output_type": "execute_result"
    }
   ],
   "source": [
    "# The initial condition creates a bool arr, we then pass this in to the selection method (loc)\n",
    "s.loc[s > 50000]"
   ]
  },
  {
   "cell_type": "markdown",
   "id": "7b797ee6",
   "metadata": {},
   "source": [
    "Combining Series methods and comparison operators for conditional selections"
   ]
  },
  {
   "cell_type": "markdown",
   "id": "654fa2bd",
   "metadata": {},
   "source": [
    "Which companies have revenue in the 90th percentile"
   ]
  },
  {
   "cell_type": "code",
   "execution_count": 53,
   "id": "bd1de3fe",
   "metadata": {},
   "outputs": [
    {
     "data": {
      "text/plain": [
       "Apple      274515\n",
       "Samsung    200734\n",
       "Name: Top Technology Companies by Revenue, dtype: int64"
      ]
     },
     "execution_count": 53,
     "metadata": {},
     "output_type": "execute_result"
    }
   ],
   "source": [
    "s.loc[s.quantile(.90) < s]"
   ]
  },
  {
   "cell_type": "code",
   "execution_count": 55,
   "id": "f3c55bec",
   "metadata": {},
   "outputs": [
    {
     "data": {
      "text/plain": [
       "count        14.000000\n",
       "mean     124420.642857\n",
       "std       63686.481231\n",
       "min       63191.000000\n",
       "25%       78986.500000\n",
       "50%       89094.500000\n",
       "75%      172212.500000\n",
       "max      274515.000000\n",
       "Name: Top Technology Companies by Revenue, dtype: float64"
      ]
     },
     "execution_count": 55,
     "metadata": {},
     "output_type": "execute_result"
    }
   ],
   "source": [
    "s.describe()"
   ]
  },
  {
   "cell_type": "code",
   "execution_count": null,
   "id": "5be3b3ac",
   "metadata": {},
   "outputs": [],
   "source": [
    "# Bool operators are different for pandas than py.\n",
    "# This is because the and, or, not used in vanila python are scalar operators and we need vector operators. So |, &, and ~ were used instead to allow for vector operations for conditional selection\n"
   ]
  },
  {
   "cell_type": "markdown",
   "id": "b9476061",
   "metadata": {},
   "source": [
    "Which companies revenue was not within 1.5 standard deviations of the mean?"
   ]
  },
  {
   "cell_type": "code",
   "execution_count": 66,
   "id": "5e439254",
   "metadata": {},
   "outputs": [],
   "source": [
    "# get the mean and standard deviations\n",
    "lower_std=s.mean() - (1.5 * s.std())\n",
    "upper_std=s.mean() + (1.5 * s.std())"
   ]
  },
  {
   "cell_type": "code",
   "execution_count": 73,
   "id": "4c082466",
   "metadata": {},
   "outputs": [
    {
     "data": {
      "text/plain": [
       "Apple    274515\n",
       "Name: Top Technology Companies by Revenue, dtype: int64"
      ]
     },
     "execution_count": 73,
     "metadata": {},
     "output_type": "execute_result"
    }
   ],
   "source": [
    "s.loc[~((lower_std <= s) & (s <= upper_std))]"
   ]
  },
  {
   "cell_type": "markdown",
   "id": "e1d6b47b",
   "metadata": {},
   "source": [
    "Insert Somewhere:"
   ]
  },
  {
   "cell_type": "markdown",
   "id": "16a98a65",
   "metadata": {},
   "source": [
    "Calculate the sum of the foreign and domestic companies with the highest revenue"
   ]
  },
  {
   "cell_type": "code",
   "execution_count": null,
   "id": "e17f3fd8",
   "metadata": {},
   "outputs": [],
   "source": []
  },
  {
   "cell_type": "markdown",
   "id": "ee2d45a1",
   "metadata": {},
   "source": [
    "Change the name of the domestic series to a name of your choosing"
   ]
  },
  {
   "cell_type": "code",
   "execution_count": null,
   "id": "11a653d3",
   "metadata": {},
   "outputs": [],
   "source": []
  },
  {
   "cell_type": "code",
   "execution_count": null,
   "id": "5b565aa8",
   "metadata": {},
   "outputs": [],
   "source": []
  },
  {
   "cell_type": "code",
   "execution_count": 1,
   "id": "2e8946aa",
   "metadata": {},
   "outputs": [],
   "source": [
    "# Put this question in the titanic bit:\n",
    "# 10. Select all women whose ages are even, and are older than 30 y/o"
   ]
  },
  {
   "cell_type": "markdown",
   "id": "ecfb1aaa",
   "metadata": {},
   "source": [
    "## Learning Vectorized Operations"
   ]
  },
  {
   "cell_type": "code",
   "execution_count": 4,
   "id": "fae580db",
   "metadata": {},
   "outputs": [],
   "source": [
    "# used commonly in dataframes and is a concept that originates from NumPy, the library that Pandas is built on\n",
    "# Vectorized operations are when a function is applied to an entire series/column in a df\n",
    "\n",
    "# Vectorized operations can simply be the common arithmetic operators or more complex functions created by the user "
   ]
  },
  {
   "cell_type": "code",
   "execution_count": null,
   "id": "349867af",
   "metadata": {},
   "outputs": [
    {
     "ename": "NameError",
     "evalue": "name 'pd' is not defined",
     "output_type": "error",
     "traceback": [
      "\u001b[1;31m---------------------------------------------------------------------------\u001b[0m",
      "\u001b[1;31mNameError\u001b[0m                                 Traceback (most recent call last)",
      "Cell \u001b[1;32mIn[5], line 1\u001b[0m\n\u001b[1;32m----> 1\u001b[0m recession_impact \u001b[38;5;241m=\u001b[39m \u001b[43mpd\u001b[49m\u001b[38;5;241m.\u001b[39mSeries([\n\u001b[0;32m      2\u001b[0m     \u001b[38;5;241m0.91\u001b[39m, \u001b[38;5;241m0.93\u001b[39m, \u001b[38;5;241m0.98\u001b[39m, \u001b[38;5;241m0.97\u001b[39m, \u001b[38;5;241m0.99\u001b[39m, \u001b[38;5;241m0.89\u001b[39m, \u001b[38;5;241m0.87\u001b[39m,\n\u001b[0;32m      3\u001b[0m     \u001b[38;5;241m0.82\u001b[39m, \u001b[38;5;241m0.93\u001b[39m, \u001b[38;5;241m0.93\u001b[39m, \u001b[38;5;241m0.89\u001b[39m, \u001b[38;5;241m0.97\u001b[39m, \u001b[38;5;241m0.97\u001b[39m, \u001b[38;5;241m0.94\u001b[39m], index\u001b[38;5;241m=\u001b[39mcompanies)\n",
      "\u001b[1;31mNameError\u001b[0m: name 'pd' is not defined"
     ]
    }
   ],
   "source": [
    "# USE THIS IN A QUESTION THAT ASKS THE USER TO CALCULATE THE RECESION IMPACT USING OPERATIONS BETWEEN SERIES\n",
    "# Note the series must be the same length for this to work\n",
    "\n",
    "recession_impact = pd.Series([\n",
    "    0.91, 0.93, 0.98, 0.97, 0.99, 0.89, 0.87,\n",
    "    0.82, 0.93, 0.93, 0.89, 0.97, 0.97, 0.94], index=companies)"
   ]
  },
  {
   "cell_type": "code",
   "execution_count": 6,
   "id": "686fee45",
   "metadata": {},
   "outputs": [],
   "source": [
    "# Create a few problems where we use the .isin([,,,]) example for conditional selection"
   ]
  },
  {
   "cell_type": "code",
   "execution_count": null,
   "id": "b2ec148b",
   "metadata": {},
   "outputs": [],
   "source": [
    "# Can I use the s.drop_duplicate()\n",
    "# Find the people that have null ages in the titanic dataset\n",
    "# Also find a place to squeeze in the notnull()\n",
    "# Convert all of the company names to lowercase\n",
    "# convert all of the company titles to uppercase\n",
    "# In the companies use the lower() function. Remember that you have to identify the obj as a str to do this first\n",
    "# do more research on accessors\n",
    "# Get the first word first_words = df.title.str.split().str[0]\n",
    "# Calculate the number of characters in each company name (remember, this uses the str accessor)\n",
    "# How do I count the number of individual characters in a str?\n",
    "\n",
    "\n",
    "# \tdf.rename(columns={'Old': 'new'}, inplace=True) renaming a column of two\n",
    "\n",
    "\n",
    "# df.isnull().sum().sum() gets the sum for the series then the dataset\n",
    "\n",
    "# Create a column that"
   ]
  }
 ],
 "metadata": {
  "kernelspec": {
   "display_name": "pandas_practice",
   "language": "python",
   "name": "python3"
  },
  "language_info": {
   "codemirror_mode": {
    "name": "ipython",
    "version": 3
   },
   "file_extension": ".py",
   "mimetype": "text/x-python",
   "name": "python",
   "nbconvert_exporter": "python",
   "pygments_lexer": "ipython3",
   "version": "3.10.18"
  }
 },
 "nbformat": 4,
 "nbformat_minor": 5
}
