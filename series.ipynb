{
 "cells": [
  {
   "cell_type": "markdown",
   "id": "a2614aac",
   "metadata": {},
   "source": [
    "# Panda Series Intro\n",
    "Author: Joe Acosta\n",
    "Date: 07/19/2025\n",
    "\n",
    "Covers the basic info I've learned about series and offers a few questions and answers"
   ]
  },
  {
   "cell_type": "code",
   "execution_count": 4,
   "id": "e0dd5874",
   "metadata": {},
   "outputs": [],
   "source": [
    "import pandas as pd"
   ]
  },
  {
   "cell_type": "code",
   "execution_count": 5,
   "id": "4d0071a7",
   "metadata": {},
   "outputs": [],
   "source": [
    "revenue = [\n",
    "    274515, 200734, 182527, 181945,\n",
    "    143015, 129184, 92224, 85965, 84893,\n",
    "    82345, 77867, 73620, 69864, 63191\n",
    "]\n",
    "\n",
    "companies = [\n",
    "    'Apple', 'Samsung', 'Alphabet', 'Foxconn',\n",
    "    'Microsoft', 'Huawei', 'Dell Technologies',\n",
    "    'Meta', 'Sony', 'Hitachi', 'Intel',\n",
    "    'IBM', 'Tencent', 'Panasonic'\n",
    "]"
   ]
  },
  {
   "cell_type": "markdown",
   "id": "74b30b5c",
   "metadata": {},
   "source": [
    "Create a series without assigned Index"
   ]
  },
  {
   "cell_type": "code",
   "execution_count": 9,
   "id": "1907f2a4",
   "metadata": {},
   "outputs": [
    {
     "data": {
      "text/plain": [
       "0     274515\n",
       "1     200734\n",
       "2     182527\n",
       "3     181945\n",
       "4     143015\n",
       "5     129184\n",
       "6      92224\n",
       "7      85965\n",
       "8      84893\n",
       "9      82345\n",
       "10     77867\n",
       "11     73620\n",
       "12     69864\n",
       "13     63191\n",
       "dtype: int64"
      ]
     },
     "execution_count": 9,
     "metadata": {},
     "output_type": "execute_result"
    }
   ],
   "source": [
    "pd.Series(revenue)"
   ]
  },
  {
   "cell_type": "markdown",
   "id": "6fbf9011",
   "metadata": {},
   "source": [
    "Create a series with an index and a title. Store it and print it"
   ]
  },
  {
   "cell_type": "code",
   "execution_count": 15,
   "id": "0685c482",
   "metadata": {},
   "outputs": [
    {
     "data": {
      "text/plain": [
       "Apple                274515\n",
       "Samsung              200734\n",
       "Alphabet             182527\n",
       "Foxconn              181945\n",
       "Microsoft            143015\n",
       "Huawei               129184\n",
       "Dell Technologies     92224\n",
       "Meta                  85965\n",
       "Sony                  84893\n",
       "Hitachi               82345\n",
       "Intel                 77867\n",
       "IBM                   73620\n",
       "Tencent               69864\n",
       "Panasonic             63191\n",
       "Name: Top Technology Companies by Revenue, dtype: int64"
      ]
     },
     "execution_count": 15,
     "metadata": {},
     "output_type": "execute_result"
    }
   ],
   "source": [
    "# Data: the most important component in the series\n",
    "# index: the labels given to each index in the series\n",
    "# name: a title that's given to the series\n",
    "\n",
    "# SERIES ARE STRONGLY TYPED >> ALL ELEMENTS MUST CONFORM TO A DTYPE\n",
    "s = pd.Series(data=revenue, index=companies, name=\"Top Technology Companies by Revenue\")\n",
    "s"
   ]
  },
  {
   "cell_type": "markdown",
   "id": "0ff7d64a",
   "metadata": {},
   "source": [
    "Check the series elements datatype"
   ]
  },
  {
   "cell_type": "code",
   "execution_count": 17,
   "id": "3023849b",
   "metadata": {},
   "outputs": [
    {
     "data": {
      "text/plain": [
       "pandas.core.series.Series"
      ]
     },
     "execution_count": 17,
     "metadata": {},
     "output_type": "execute_result"
    }
   ],
   "source": [
    "type(s)"
   ]
  },
  {
   "cell_type": "code",
   "execution_count": 18,
   "id": "fe175d19",
   "metadata": {},
   "outputs": [
    {
     "data": {
      "text/plain": [
       "dtype('int64')"
      ]
     },
     "execution_count": 18,
     "metadata": {},
     "output_type": "execute_result"
    }
   ],
   "source": [
    "s.dtype"
   ]
  },
  {
   "cell_type": "code",
   "execution_count": 19,
   "id": "484a540b",
   "metadata": {},
   "outputs": [],
   "source": [
    "# Data can be retrieved by index or by position."
   ]
  },
  {
   "cell_type": "markdown",
   "id": "5a30f358",
   "metadata": {},
   "source": [
    "Get the data for Apple"
   ]
  },
  {
   "cell_type": "code",
   "execution_count": 20,
   "id": "aa9ea3d7",
   "metadata": {},
   "outputs": [
    {
     "data": {
      "text/plain": [
       "np.int64(274515)"
      ]
     },
     "execution_count": 20,
     "metadata": {},
     "output_type": "execute_result"
    }
   ],
   "source": [
    "# Get Data by index example\n",
    "s['Apple']"
   ]
  },
  {
   "cell_type": "code",
   "execution_count": null,
   "id": "168b29ab",
   "metadata": {},
   "outputs": [
    {
     "data": {
      "text/plain": [
       "np.int64(274515)"
      ]
     },
     "execution_count": 21,
     "metadata": {},
     "output_type": "execute_result"
    }
   ],
   "source": [
    "# Preferred way though both work\n",
    "s.loc['Apple']"
   ]
  },
  {
   "cell_type": "markdown",
   "id": "91063d7e",
   "metadata": {},
   "source": [
    "Get the data for Apple and IBM"
   ]
  },
  {
   "cell_type": "code",
   "execution_count": 24,
   "id": "46aeaf32",
   "metadata": {},
   "outputs": [
    {
     "data": {
      "text/plain": [
       "Apple    274515\n",
       "IBM       73620\n",
       "Name: Top Technology Companies by Revenue, dtype: int64"
      ]
     },
     "execution_count": 24,
     "metadata": {},
     "output_type": "execute_result"
    }
   ],
   "source": [
    "s.loc[['Apple', 'IBM']]"
   ]
  },
  {
   "cell_type": "markdown",
   "id": "698c3b8f",
   "metadata": {},
   "source": [
    "Get the data stored at position 3"
   ]
  },
  {
   "cell_type": "code",
   "execution_count": null,
   "id": "b57a2af3",
   "metadata": {},
   "outputs": [
    {
     "data": {
      "text/plain": [
       "np.int64(181945)"
      ]
     },
     "execution_count": 25,
     "metadata": {},
     "output_type": "execute_result"
    }
   ],
   "source": [
    "s.iloc[3] # or s[3]"
   ]
  },
  {
   "cell_type": "markdown",
   "id": "bd5227bc",
   "metadata": {},
   "source": [
    "Get the Data for multiple positions >> 1 to 5"
   ]
  },
  {
   "cell_type": "code",
   "execution_count": 31,
   "id": "76a93f11",
   "metadata": {},
   "outputs": [
    {
     "data": {
      "text/plain": [
       "Samsung      200734\n",
       "Alphabet     182527\n",
       "Foxconn      181945\n",
       "Microsoft    143015\n",
       "Name: Top Technology Companies by Revenue, dtype: int64"
      ]
     },
     "execution_count": 31,
     "metadata": {},
     "output_type": "execute_result"
    }
   ],
   "source": [
    "s.iloc[1:5]"
   ]
  },
  {
   "cell_type": "markdown",
   "id": "5d576ec7",
   "metadata": {},
   "source": [
    "Get the data for the positions 1, 4, -3"
   ]
  },
  {
   "cell_type": "code",
   "execution_count": 35,
   "id": "9a3f7194",
   "metadata": {},
   "outputs": [
    {
     "data": {
      "text/plain": [
       "Samsung      200734\n",
       "Microsoft    143015\n",
       "IBM           73620\n",
       "Name: Top Technology Companies by Revenue, dtype: int64"
      ]
     },
     "execution_count": 35,
     "metadata": {},
     "output_type": "execute_result"
    }
   ],
   "source": [
    "s.iloc[[1, 4, -3]]"
   ]
  },
  {
   "cell_type": "markdown",
   "id": "34cec43e",
   "metadata": {},
   "source": [
    "Get the last element in the Series"
   ]
  },
  {
   "cell_type": "code",
   "execution_count": 32,
   "id": "3f51b580",
   "metadata": {},
   "outputs": [
    {
     "data": {
      "text/plain": [
       "np.int64(63191)"
      ]
     },
     "execution_count": 32,
     "metadata": {},
     "output_type": "execute_result"
    }
   ],
   "source": [
    "s.iloc[-1]"
   ]
  },
  {
   "cell_type": "markdown",
   "id": "ff69ee64",
   "metadata": {},
   "source": [
    "Is Snapchat in the list of companies?"
   ]
  },
  {
   "cell_type": "code",
   "execution_count": 34,
   "id": "62965001",
   "metadata": {},
   "outputs": [
    {
     "data": {
      "text/plain": [
       "False"
      ]
     },
     "execution_count": 34,
     "metadata": {},
     "output_type": "execute_result"
    }
   ],
   "source": [
    "'Snapchat' in s"
   ]
  },
  {
   "cell_type": "markdown",
   "id": "5ea4258b",
   "metadata": {},
   "source": [
    "Get the name of the series"
   ]
  },
  {
   "cell_type": "code",
   "execution_count": 36,
   "id": "e13e6834",
   "metadata": {},
   "outputs": [
    {
     "data": {
      "text/plain": [
       "'Top Technology Companies by Revenue'"
      ]
     },
     "execution_count": 36,
     "metadata": {},
     "output_type": "execute_result"
    }
   ],
   "source": [
    "s.name"
   ]
  },
  {
   "cell_type": "markdown",
   "id": "44334959",
   "metadata": {},
   "source": [
    "Get the index of the seres"
   ]
  },
  {
   "cell_type": "code",
   "execution_count": 37,
   "id": "aab4f478",
   "metadata": {},
   "outputs": [
    {
     "data": {
      "text/plain": [
       "Index(['Apple', 'Samsung', 'Alphabet', 'Foxconn', 'Microsoft', 'Huawei',\n",
       "       'Dell Technologies', 'Meta', 'Sony', 'Hitachi', 'Intel', 'IBM',\n",
       "       'Tencent', 'Panasonic'],\n",
       "      dtype='object')"
      ]
     },
     "execution_count": 37,
     "metadata": {},
     "output_type": "execute_result"
    }
   ],
   "source": [
    "s.index"
   ]
  },
  {
   "cell_type": "markdown",
   "id": "d905149a",
   "metadata": {},
   "source": [
    "Get the values in the series"
   ]
  },
  {
   "cell_type": "code",
   "execution_count": 38,
   "id": "600c7796",
   "metadata": {},
   "outputs": [
    {
     "data": {
      "text/plain": [
       "array([274515, 200734, 182527, 181945, 143015, 129184,  92224,  85965,\n",
       "        84893,  82345,  77867,  73620,  69864,  63191])"
      ]
     },
     "execution_count": 38,
     "metadata": {},
     "output_type": "execute_result"
    }
   ],
   "source": [
    "s.values"
   ]
  },
  {
   "cell_type": "markdown",
   "id": "e56cc972",
   "metadata": {},
   "source": [
    "Get all the basic quantitative information for the series"
   ]
  },
  {
   "cell_type": "code",
   "execution_count": 39,
   "id": "c5d3bb82",
   "metadata": {},
   "outputs": [
    {
     "data": {
      "text/plain": [
       "count        14.000000\n",
       "mean     124420.642857\n",
       "std       63686.481231\n",
       "min       63191.000000\n",
       "25%       78986.500000\n",
       "50%       89094.500000\n",
       "75%      172212.500000\n",
       "max      274515.000000\n",
       "Name: Top Technology Companies by Revenue, dtype: float64"
      ]
     },
     "execution_count": 39,
     "metadata": {},
     "output_type": "execute_result"
    }
   ],
   "source": [
    "s.describe()"
   ]
  },
  {
   "cell_type": "markdown",
   "id": "47194973",
   "metadata": {},
   "source": [
    "Get the maximum, minimum, and mean for the data"
   ]
  },
  {
   "cell_type": "code",
   "execution_count": 42,
   "id": "35ed0081",
   "metadata": {},
   "outputs": [
    {
     "name": "stdout",
     "output_type": "stream",
     "text": [
      "274515\n",
      "63191\n",
      "124420.64285714286\n"
     ]
    }
   ],
   "source": [
    "print(s.max())\n",
    "print(s.min())\n",
    "print(s.mean())"
   ]
  },
  {
   "cell_type": "markdown",
   "id": "34f968c3",
   "metadata": {},
   "source": [
    "What is the 95% percentile for revenue of these companies"
   ]
  },
  {
   "cell_type": "code",
   "execution_count": 43,
   "id": "b043f155",
   "metadata": {},
   "outputs": [
    {
     "data": {
      "text/plain": [
       "np.float64(226557.34999999998)"
      ]
     },
     "execution_count": 43,
     "metadata": {},
     "output_type": "execute_result"
    }
   ],
   "source": [
    "s.quantile(.95)"
   ]
  },
  {
   "cell_type": "markdown",
   "id": "487e891e",
   "metadata": {},
   "source": [
    "What is the lowest ten percent for revenue of these companies"
   ]
  },
  {
   "cell_type": "code",
   "execution_count": 44,
   "id": "6f07b47b",
   "metadata": {},
   "outputs": [
    {
     "data": {
      "text/plain": [
       "np.float64(70990.8)"
      ]
     },
     "execution_count": 44,
     "metadata": {},
     "output_type": "execute_result"
    }
   ],
   "source": [
    "s.quantile(.10)"
   ]
  },
  {
   "cell_type": "markdown",
   "id": "d0f33fd6",
   "metadata": {},
   "source": [
    "How many companies are recorded in the series?"
   ]
  },
  {
   "cell_type": "code",
   "execution_count": 47,
   "id": "6c348b7d",
   "metadata": {},
   "outputs": [
    {
     "data": {
      "text/plain": [
       "14"
      ]
     },
     "execution_count": 47,
     "metadata": {},
     "output_type": "execute_result"
    }
   ],
   "source": [
    "s.size # Alternatively"
   ]
  },
  {
   "cell_type": "markdown",
   "id": "a18106a8",
   "metadata": {},
   "source": [
    "Create a sub-series for the american companies:\n",
    "    'Meta', 'IBM', 'Microsoft',\n",
    "    'Dell Technologies', 'Apple', 'Intel', 'Alphabet'"
   ]
  },
  {
   "cell_type": "code",
   "execution_count": 57,
   "id": "513c3f70",
   "metadata": {},
   "outputs": [],
   "source": [
    "international_companies= [\n",
    "    \"Sony\", \"Tencent\", \"Panasonic\",\n",
    "    \"Samsung\", \"Hitachi\", \"Foxconn\", \"Huawei\"\n",
    "]\n",
    "\n",
    "domestic_companies= ['Meta', 'IBM', 'Microsoft',\n",
    "    'Dell Technologies', 'Apple', 'Intel', 'Alphabet'\n",
    "]"
   ]
  },
  {
   "cell_type": "code",
   "execution_count": 58,
   "id": "eb54236a",
   "metadata": {},
   "outputs": [
    {
     "data": {
      "text/plain": [
       "Meta                  85965\n",
       "IBM                   73620\n",
       "Microsoft            143015\n",
       "Dell Technologies     92224\n",
       "Apple                274515\n",
       "Intel                 77867\n",
       "Alphabet             182527\n",
       "Name: Top Technology Companies by Revenue, dtype: int64"
      ]
     },
     "execution_count": 58,
     "metadata": {},
     "output_type": "execute_result"
    }
   ],
   "source": [
    "american_companies = s.loc[domestic_companies]\n",
    "american_companies"
   ]
  },
  {
   "cell_type": "markdown",
   "id": "96a8f849",
   "metadata": {},
   "source": [
    "Is Samsung an american company?"
   ]
  },
  {
   "cell_type": "code",
   "execution_count": 51,
   "id": "a5b36e14",
   "metadata": {},
   "outputs": [
    {
     "data": {
      "text/plain": [
       "False"
      ]
     },
     "execution_count": 51,
     "metadata": {},
     "output_type": "execute_result"
    }
   ],
   "source": [
    "'Samsung' in american_companies"
   ]
  },
  {
   "cell_type": "markdown",
   "id": "247aa4f0",
   "metadata": {},
   "source": [
    "Sort the american companies by reverse alphabetically"
   ]
  },
  {
   "cell_type": "code",
   "execution_count": 54,
   "id": "4be9f42d",
   "metadata": {},
   "outputs": [
    {
     "data": {
      "text/plain": [
       "Microsoft            143015\n",
       "Meta                  85965\n",
       "Intel                 77867\n",
       "IBM                   73620\n",
       "Dell Technologies     92224\n",
       "Apple                274515\n",
       "Alphabet             182527\n",
       "Name: Top Technology Companies by Revenue, dtype: int64"
      ]
     },
     "execution_count": 54,
     "metadata": {},
     "output_type": "execute_result"
    }
   ],
   "source": [
    "american_companies.sort_index(ascending=False)"
   ]
  },
  {
   "cell_type": "markdown",
   "id": "b3fa279f",
   "metadata": {},
   "source": [
    "Sort the american companies by highest revenue"
   ]
  },
  {
   "cell_type": "code",
   "execution_count": 56,
   "id": "27c39ef3",
   "metadata": {},
   "outputs": [
    {
     "data": {
      "text/plain": [
       "IBM                   73620\n",
       "Intel                 77867\n",
       "Meta                  85965\n",
       "Dell Technologies     92224\n",
       "Microsoft            143015\n",
       "Alphabet             182527\n",
       "Apple                274515\n",
       "Name: Top Technology Companies by Revenue, dtype: int64"
      ]
     },
     "execution_count": 56,
     "metadata": {},
     "output_type": "execute_result"
    }
   ],
   "source": [
    "# since series are a 1d ordered sequence, don't need the by attribute like when sort_values() is used on a dataframe\n",
    "american_companies.sort_values()"
   ]
  },
  {
   "cell_type": "markdown",
   "id": "9576ac5c",
   "metadata": {},
   "source": [
    "NOTE THAT SERIES ARE IMMUTABLE\n",
    "\n",
    "This is why the sort functions don't affect the original series"
   ]
  },
  {
   "cell_type": "markdown",
   "id": "f021bac3",
   "metadata": {},
   "source": [
    "Add Tesla to the Series"
   ]
  },
  {
   "cell_type": "code",
   "execution_count": 59,
   "id": "263db313",
   "metadata": {},
   "outputs": [],
   "source": [
    "Tesla = 21450"
   ]
  },
  {
   "cell_type": "code",
   "execution_count": 60,
   "id": "14d54618",
   "metadata": {},
   "outputs": [],
   "source": [
    "s['Tesla'] = Tesla"
   ]
  },
  {
   "cell_type": "code",
   "execution_count": 62,
   "id": "c5d92161",
   "metadata": {},
   "outputs": [
    {
     "data": {
      "text/plain": [
       "np.int64(21450)"
      ]
     },
     "execution_count": 62,
     "metadata": {},
     "output_type": "execute_result"
    }
   ],
   "source": [
    "s.loc['Tesla']"
   ]
  },
  {
   "cell_type": "markdown",
   "id": "609d072f",
   "metadata": {},
   "source": [
    "Set Tesla Revenue to zero"
   ]
  },
  {
   "cell_type": "code",
   "execution_count": 64,
   "id": "c249f745",
   "metadata": {},
   "outputs": [],
   "source": [
    "s['Tesla'] = 0"
   ]
  },
  {
   "cell_type": "markdown",
   "id": "6c167f3f",
   "metadata": {},
   "source": [
    "Remove Tesla from the series and check that it was removed"
   ]
  },
  {
   "cell_type": "code",
   "execution_count": 66,
   "id": "8c0022bb",
   "metadata": {},
   "outputs": [],
   "source": [
    "del s['Tesla']"
   ]
  },
  {
   "cell_type": "code",
   "execution_count": 67,
   "id": "4cc8fa93",
   "metadata": {},
   "outputs": [
    {
     "data": {
      "text/plain": [
       "False"
      ]
     },
     "execution_count": 67,
     "metadata": {},
     "output_type": "execute_result"
    }
   ],
   "source": [
    "'Tesla' in s"
   ]
  },
  {
   "cell_type": "markdown",
   "id": "ea45a651",
   "metadata": {},
   "source": [
    "Create a new series with Tesla and Snapchat"
   ]
  },
  {
   "cell_type": "code",
   "execution_count": 69,
   "id": "b9f7dd5b",
   "metadata": {},
   "outputs": [],
   "source": [
    "ts_revenue=[21_450, 4_120]\n",
    "ts_names=['Tesla', 'Snapchat']"
   ]
  },
  {
   "cell_type": "code",
   "execution_count": null,
   "id": "cfa0e1f3",
   "metadata": {},
   "outputs": [
    {
     "data": {
      "text/plain": [
       "Tesla       21450\n",
       "Snapchat     4120\n",
       "Name: Another Series, dtype: int64"
      ]
     },
     "execution_count": 68,
     "metadata": {},
     "output_type": "execute_result"
    }
   ],
   "source": [
    "ts_revenue=[21_450, 4_120]\n",
    "ts_names=['Tesla', 'Snapchat']\n",
    "\n",
    "ts=pd.Series(data=ts_revenue, index=ts_names, name='Another Series')\n",
    "ts"
   ]
  },
  {
   "cell_type": "markdown",
   "id": "810c813d",
   "metadata": {},
   "source": [
    "Add the TS series to the original series"
   ]
  },
  {
   "cell_type": "code",
   "execution_count": 70,
   "id": "34db2fca",
   "metadata": {},
   "outputs": [
    {
     "data": {
      "text/plain": [
       "Apple                274515\n",
       "Samsung              200734\n",
       "Alphabet             182527\n",
       "Foxconn              181945\n",
       "Microsoft            143015\n",
       "Huawei               129184\n",
       "Dell Technologies     92224\n",
       "Meta                  85965\n",
       "Sony                  84893\n",
       "Hitachi               82345\n",
       "Intel                 77867\n",
       "IBM                   73620\n",
       "Tencent               69864\n",
       "Panasonic             63191\n",
       "Tesla                 21450\n",
       "Snapchat               4120\n",
       "dtype: int64"
      ]
     },
     "execution_count": 70,
     "metadata": {},
     "output_type": "execute_result"
    }
   ],
   "source": [
    "s_new=pd.concat([s,ts])\n",
    "s_new"
   ]
  },
  {
   "cell_type": "code",
   "execution_count": null,
   "id": "68b515e3",
   "metadata": {},
   "outputs": [],
   "source": []
  }
 ],
 "metadata": {
  "kernelspec": {
   "display_name": "pandas_practice",
   "language": "python",
   "name": "python3"
  },
  "language_info": {
   "codemirror_mode": {
    "name": "ipython",
    "version": 3
   },
   "file_extension": ".py",
   "mimetype": "text/x-python",
   "name": "python",
   "nbconvert_exporter": "python",
   "pygments_lexer": "ipython3",
   "version": "3.10.18"
  }
 },
 "nbformat": 4,
 "nbformat_minor": 5
}
