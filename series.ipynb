{
 "cells": [
  {
   "cell_type": "markdown",
   "id": "a2614aac",
   "metadata": {},
   "source": [
    "# Panda Series Intro\n",
    "Author: Joe Acosta\n",
    "Date: 07/19/2025\n",
    "\n",
    "Covers the basic info I've learned about series and offers a few questions and answers"
   ]
  },
  {
   "cell_type": "code",
   "execution_count": 52,
   "id": "e0dd5874",
   "metadata": {},
   "outputs": [],
   "source": [
    "# imports\n",
    "import pandas as pd"
   ]
  },
  {
   "cell_type": "code",
   "execution_count": 53,
   "id": "4d0071a7",
   "metadata": {},
   "outputs": [],
   "source": [
    "revenue = [\n",
    "    274515, 200734, 182527, 181945,\n",
    "    143015, 129184, 92224, 85965, 84893,\n",
    "    82345, 77867, 73620, 69864, 63191\n",
    "]\n",
    "\n",
    "companies = [\n",
    "    'Apple', 'Samsung', 'Alphabet', 'Foxconn',\n",
    "    'Microsoft', 'Huawei', 'Dell Technologies',\n",
    "    'Meta', 'Sony', 'Hitachi', 'Intel',\n",
    "    'IBM', 'Tencent', 'Panasonic'\n",
    "]"
   ]
  },
  {
   "cell_type": "markdown",
   "id": "74b30b5c",
   "metadata": {},
   "source": [
    "Create a series without assigned Index for revenue"
   ]
  },
  {
   "cell_type": "code",
   "execution_count": 54,
   "id": "1907f2a4",
   "metadata": {},
   "outputs": [
    {
     "data": {
      "text/plain": [
       "0     274515\n",
       "1     200734\n",
       "2     182527\n",
       "3     181945\n",
       "4     143015\n",
       "5     129184\n",
       "6      92224\n",
       "7      85965\n",
       "8      84893\n",
       "9      82345\n",
       "10     77867\n",
       "11     73620\n",
       "12     69864\n",
       "13     63191\n",
       "dtype: int64"
      ]
     },
     "execution_count": 54,
     "metadata": {},
     "output_type": "execute_result"
    }
   ],
   "source": [
    "pd.Series(revenue)"
   ]
  },
  {
   "cell_type": "markdown",
   "id": "6fbf9011",
   "metadata": {},
   "source": [
    "Create a series with an index and a title. Store it and print it"
   ]
  },
  {
   "cell_type": "code",
   "execution_count": 55,
   "id": "0685c482",
   "metadata": {},
   "outputs": [
    {
     "data": {
      "text/plain": [
       "Apple                274515\n",
       "Samsung              200734\n",
       "Alphabet             182527\n",
       "Foxconn              181945\n",
       "Microsoft            143015\n",
       "Huawei               129184\n",
       "Dell Technologies     92224\n",
       "Meta                  85965\n",
       "Sony                  84893\n",
       "Hitachi               82345\n",
       "Intel                 77867\n",
       "IBM                   73620\n",
       "Tencent               69864\n",
       "Panasonic             63191\n",
       "Name: Top Technology Companies by Revenue, dtype: int64"
      ]
     },
     "execution_count": 55,
     "metadata": {},
     "output_type": "execute_result"
    }
   ],
   "source": [
    "# Data: the most important component in the series\n",
    "# index: the labels given to each index in the series\n",
    "# name: a title that's given to the series\n",
    "\n",
    "# SERIES ARE STRONGLY TYPED >> ALL ELEMENTS MUST CONFORM TO A DTYPE\n",
    "s = pd.Series(data=revenue, index=companies, name=\"Top Technology Companies by Revenue\")\n",
    "s"
   ]
  },
  {
   "cell_type": "markdown",
   "id": "0ff7d64a",
   "metadata": {},
   "source": [
    "Check the series elements datatype"
   ]
  },
  {
   "cell_type": "code",
   "execution_count": 56,
   "id": "fe175d19",
   "metadata": {},
   "outputs": [
    {
     "data": {
      "text/plain": [
       "dtype('int64')"
      ]
     },
     "execution_count": 56,
     "metadata": {},
     "output_type": "execute_result"
    }
   ],
   "source": [
    "s.dtype"
   ]
  },
  {
   "cell_type": "code",
   "execution_count": 57,
   "id": "484a540b",
   "metadata": {},
   "outputs": [],
   "source": [
    "# Data can be retrieved by index or by position."
   ]
  },
  {
   "cell_type": "markdown",
   "id": "5a30f358",
   "metadata": {},
   "source": [
    "Get the data for Apple"
   ]
  },
  {
   "cell_type": "code",
   "execution_count": 58,
   "id": "aa9ea3d7",
   "metadata": {},
   "outputs": [
    {
     "data": {
      "text/plain": [
       "np.int64(274515)"
      ]
     },
     "execution_count": 58,
     "metadata": {},
     "output_type": "execute_result"
    }
   ],
   "source": [
    "# Get Data by index example\n",
    "s['Apple']"
   ]
  },
  {
   "cell_type": "code",
   "execution_count": 59,
   "id": "168b29ab",
   "metadata": {},
   "outputs": [
    {
     "data": {
      "text/plain": [
       "np.int64(274515)"
      ]
     },
     "execution_count": 59,
     "metadata": {},
     "output_type": "execute_result"
    }
   ],
   "source": [
    "# Preferred way though both work\n",
    "s.loc['Apple']"
   ]
  },
  {
   "cell_type": "markdown",
   "id": "91063d7e",
   "metadata": {},
   "source": [
    "Get the data for Apple and IBM"
   ]
  },
  {
   "cell_type": "code",
   "execution_count": 60,
   "id": "46aeaf32",
   "metadata": {},
   "outputs": [
    {
     "data": {
      "text/plain": [
       "Apple    274515\n",
       "IBM       73620\n",
       "Name: Top Technology Companies by Revenue, dtype: int64"
      ]
     },
     "execution_count": 60,
     "metadata": {},
     "output_type": "execute_result"
    }
   ],
   "source": [
    "s.loc[['Apple', 'IBM']]"
   ]
  },
  {
   "cell_type": "markdown",
   "id": "698c3b8f",
   "metadata": {},
   "source": [
    "Get the data stored at position 3"
   ]
  },
  {
   "cell_type": "code",
   "execution_count": 61,
   "id": "b57a2af3",
   "metadata": {},
   "outputs": [
    {
     "data": {
      "text/plain": [
       "np.int64(181945)"
      ]
     },
     "execution_count": 61,
     "metadata": {},
     "output_type": "execute_result"
    }
   ],
   "source": [
    "s.iloc[3] # or s[3]"
   ]
  },
  {
   "cell_type": "markdown",
   "id": "bd5227bc",
   "metadata": {},
   "source": [
    "Get the Data for multiple positions >> 1 to 5"
   ]
  },
  {
   "cell_type": "code",
   "execution_count": 62,
   "id": "76a93f11",
   "metadata": {},
   "outputs": [
    {
     "data": {
      "text/plain": [
       "Samsung      200734\n",
       "Alphabet     182527\n",
       "Foxconn      181945\n",
       "Microsoft    143015\n",
       "Name: Top Technology Companies by Revenue, dtype: int64"
      ]
     },
     "execution_count": 62,
     "metadata": {},
     "output_type": "execute_result"
    }
   ],
   "source": [
    "s.iloc[1:5]"
   ]
  },
  {
   "cell_type": "markdown",
   "id": "5d576ec7",
   "metadata": {},
   "source": [
    "Get the data for the positions 1, 4, -3"
   ]
  },
  {
   "cell_type": "code",
   "execution_count": 63,
   "id": "9a3f7194",
   "metadata": {},
   "outputs": [
    {
     "data": {
      "text/plain": [
       "Samsung      200734\n",
       "Microsoft    143015\n",
       "IBM           73620\n",
       "Name: Top Technology Companies by Revenue, dtype: int64"
      ]
     },
     "execution_count": 63,
     "metadata": {},
     "output_type": "execute_result"
    }
   ],
   "source": [
    "s.iloc[[1, 4, -3]]"
   ]
  },
  {
   "cell_type": "markdown",
   "id": "34cec43e",
   "metadata": {},
   "source": [
    "Get the last element in the Series"
   ]
  },
  {
   "cell_type": "code",
   "execution_count": 64,
   "id": "3f51b580",
   "metadata": {},
   "outputs": [
    {
     "data": {
      "text/plain": [
       "np.int64(63191)"
      ]
     },
     "execution_count": 64,
     "metadata": {},
     "output_type": "execute_result"
    }
   ],
   "source": [
    "s.iloc[-1]"
   ]
  },
  {
   "cell_type": "markdown",
   "id": "ff69ee64",
   "metadata": {},
   "source": [
    "Is Snapchat in the list of companies?"
   ]
  },
  {
   "cell_type": "code",
   "execution_count": 65,
   "id": "62965001",
   "metadata": {},
   "outputs": [
    {
     "data": {
      "text/plain": [
       "False"
      ]
     },
     "execution_count": 65,
     "metadata": {},
     "output_type": "execute_result"
    }
   ],
   "source": [
    "'Snapchat' in s"
   ]
  },
  {
   "cell_type": "markdown",
   "id": "5ea4258b",
   "metadata": {},
   "source": [
    "Get the name of the series"
   ]
  },
  {
   "cell_type": "code",
   "execution_count": 66,
   "id": "e13e6834",
   "metadata": {},
   "outputs": [
    {
     "data": {
      "text/plain": [
       "'Top Technology Companies by Revenue'"
      ]
     },
     "execution_count": 66,
     "metadata": {},
     "output_type": "execute_result"
    }
   ],
   "source": [
    "s.name"
   ]
  },
  {
   "cell_type": "markdown",
   "id": "44334959",
   "metadata": {},
   "source": [
    "Get the index of the seres"
   ]
  },
  {
   "cell_type": "code",
   "execution_count": 67,
   "id": "aab4f478",
   "metadata": {},
   "outputs": [
    {
     "data": {
      "text/plain": [
       "Index(['Apple', 'Samsung', 'Alphabet', 'Foxconn', 'Microsoft', 'Huawei',\n",
       "       'Dell Technologies', 'Meta', 'Sony', 'Hitachi', 'Intel', 'IBM',\n",
       "       'Tencent', 'Panasonic'],\n",
       "      dtype='object')"
      ]
     },
     "execution_count": 67,
     "metadata": {},
     "output_type": "execute_result"
    }
   ],
   "source": [
    "s.index"
   ]
  },
  {
   "cell_type": "markdown",
   "id": "d905149a",
   "metadata": {},
   "source": [
    "Get the values in the series"
   ]
  },
  {
   "cell_type": "code",
   "execution_count": 68,
   "id": "600c7796",
   "metadata": {},
   "outputs": [
    {
     "data": {
      "text/plain": [
       "array([274515, 200734, 182527, 181945, 143015, 129184,  92224,  85965,\n",
       "        84893,  82345,  77867,  73620,  69864,  63191])"
      ]
     },
     "execution_count": 68,
     "metadata": {},
     "output_type": "execute_result"
    }
   ],
   "source": [
    "s.values"
   ]
  },
  {
   "cell_type": "markdown",
   "id": "e56cc972",
   "metadata": {},
   "source": [
    "Get all the basic quantitative information for the series"
   ]
  },
  {
   "cell_type": "code",
   "execution_count": 69,
   "id": "c5d3bb82",
   "metadata": {},
   "outputs": [
    {
     "data": {
      "text/plain": [
       "count        14.000000\n",
       "mean     124420.642857\n",
       "std       63686.481231\n",
       "min       63191.000000\n",
       "25%       78986.500000\n",
       "50%       89094.500000\n",
       "75%      172212.500000\n",
       "max      274515.000000\n",
       "Name: Top Technology Companies by Revenue, dtype: float64"
      ]
     },
     "execution_count": 69,
     "metadata": {},
     "output_type": "execute_result"
    }
   ],
   "source": [
    "s.describe()"
   ]
  },
  {
   "cell_type": "markdown",
   "id": "47194973",
   "metadata": {},
   "source": [
    "Get the maximum, minimum, and mean for the data"
   ]
  },
  {
   "cell_type": "code",
   "execution_count": 70,
   "id": "35ed0081",
   "metadata": {},
   "outputs": [
    {
     "name": "stdout",
     "output_type": "stream",
     "text": [
      "274515\n",
      "63191\n",
      "124420.64285714286\n"
     ]
    }
   ],
   "source": [
    "print(s.max())\n",
    "print(s.min())\n",
    "print(s.mean())"
   ]
  },
  {
   "cell_type": "markdown",
   "id": "34f968c3",
   "metadata": {},
   "source": [
    "What is the 95% percentile for revenue of these companies"
   ]
  },
  {
   "cell_type": "code",
   "execution_count": 71,
   "id": "b043f155",
   "metadata": {},
   "outputs": [
    {
     "data": {
      "text/plain": [
       "np.float64(226557.34999999998)"
      ]
     },
     "execution_count": 71,
     "metadata": {},
     "output_type": "execute_result"
    }
   ],
   "source": [
    "s.quantile(.95)"
   ]
  },
  {
   "cell_type": "markdown",
   "id": "487e891e",
   "metadata": {},
   "source": [
    "What is the lowest ten percent for revenue of these companies"
   ]
  },
  {
   "cell_type": "code",
   "execution_count": 72,
   "id": "6f07b47b",
   "metadata": {},
   "outputs": [
    {
     "data": {
      "text/plain": [
       "np.float64(70990.8)"
      ]
     },
     "execution_count": 72,
     "metadata": {},
     "output_type": "execute_result"
    }
   ],
   "source": [
    "s.quantile(.10)"
   ]
  },
  {
   "cell_type": "markdown",
   "id": "d0f33fd6",
   "metadata": {},
   "source": [
    "How many companies are recorded in the series?"
   ]
  },
  {
   "cell_type": "code",
   "execution_count": 73,
   "id": "6c348b7d",
   "metadata": {},
   "outputs": [
    {
     "data": {
      "text/plain": [
       "14"
      ]
     },
     "execution_count": 73,
     "metadata": {},
     "output_type": "execute_result"
    }
   ],
   "source": [
    "s.size # Alternatively len(s)"
   ]
  },
  {
   "cell_type": "markdown",
   "id": "a18106a8",
   "metadata": {},
   "source": [
    "Create sub-series:"
   ]
  },
  {
   "cell_type": "code",
   "execution_count": 74,
   "id": "513c3f70",
   "metadata": {},
   "outputs": [],
   "source": [
    "international_companies= [\n",
    "    \"Sony\", \"Tencent\", \"Panasonic\",\n",
    "    \"Samsung\", \"Hitachi\", \"Foxconn\", \"Huawei\"\n",
    "]\n",
    "\n",
    "domestic_companies= ['Meta', 'IBM', 'Microsoft',\n",
    "    'Dell Technologies', 'Apple', 'Intel', 'Alphabet'\n",
    "]"
   ]
  },
  {
   "cell_type": "code",
   "execution_count": 75,
   "id": "eb54236a",
   "metadata": {},
   "outputs": [
    {
     "data": {
      "text/plain": [
       "Meta                  85965\n",
       "IBM                   73620\n",
       "Microsoft            143015\n",
       "Dell Technologies     92224\n",
       "Apple                274515\n",
       "Intel                 77867\n",
       "Alphabet             182527\n",
       "Name: Top Technology Companies by Revenue, dtype: int64"
      ]
     },
     "execution_count": 75,
     "metadata": {},
     "output_type": "execute_result"
    }
   ],
   "source": [
    "american_companies = s.loc[domestic_companies]\n",
    "american_companies\n"
   ]
  },
  {
   "cell_type": "code",
   "execution_count": 76,
   "id": "878771d9",
   "metadata": {},
   "outputs": [
    {
     "data": {
      "text/plain": [
       "Sony          84893\n",
       "Tencent       69864\n",
       "Panasonic     63191\n",
       "Samsung      200734\n",
       "Hitachi       82345\n",
       "Foxconn      181945\n",
       "Huawei       129184\n",
       "Name: Top Technology Companies by Revenue, dtype: int64"
      ]
     },
     "execution_count": 76,
     "metadata": {},
     "output_type": "execute_result"
    }
   ],
   "source": [
    "international_s=s.loc[international_companies]\n",
    "international_s"
   ]
  },
  {
   "cell_type": "markdown",
   "id": "96a8f849",
   "metadata": {},
   "source": [
    "Is Samsung an american company?"
   ]
  },
  {
   "cell_type": "code",
   "execution_count": 77,
   "id": "a5b36e14",
   "metadata": {},
   "outputs": [
    {
     "data": {
      "text/plain": [
       "False"
      ]
     },
     "execution_count": 77,
     "metadata": {},
     "output_type": "execute_result"
    }
   ],
   "source": [
    "'Samsung' in american_companies"
   ]
  },
  {
   "cell_type": "markdown",
   "id": "247aa4f0",
   "metadata": {},
   "source": [
    "Sort the american companies by reverse alphabetically"
   ]
  },
  {
   "cell_type": "code",
   "execution_count": 78,
   "id": "4be9f42d",
   "metadata": {},
   "outputs": [
    {
     "data": {
      "text/plain": [
       "Microsoft            143015\n",
       "Meta                  85965\n",
       "Intel                 77867\n",
       "IBM                   73620\n",
       "Dell Technologies     92224\n",
       "Apple                274515\n",
       "Alphabet             182527\n",
       "Name: Top Technology Companies by Revenue, dtype: int64"
      ]
     },
     "execution_count": 78,
     "metadata": {},
     "output_type": "execute_result"
    }
   ],
   "source": [
    "american_companies.sort_index(ascending=False)"
   ]
  },
  {
   "cell_type": "markdown",
   "id": "b3fa279f",
   "metadata": {},
   "source": [
    "Sort the american companies by highest revenue"
   ]
  },
  {
   "cell_type": "code",
   "execution_count": 79,
   "id": "27c39ef3",
   "metadata": {},
   "outputs": [
    {
     "data": {
      "text/plain": [
       "Apple                274515\n",
       "Alphabet             182527\n",
       "Microsoft            143015\n",
       "Dell Technologies     92224\n",
       "Meta                  85965\n",
       "Intel                 77867\n",
       "IBM                   73620\n",
       "Name: Top Technology Companies by Revenue, dtype: int64"
      ]
     },
     "execution_count": 79,
     "metadata": {},
     "output_type": "execute_result"
    }
   ],
   "source": [
    "# since series are a 1d ordered sequence, don't need the by attribute like when sort_values() is used on a dataframe\n",
    "american_companies.sort_values(ascending=False)"
   ]
  },
  {
   "cell_type": "markdown",
   "id": "9576ac5c",
   "metadata": {},
   "source": [
    "NOTE THAT SERIES ARE IMMUTABLE\n",
    "\n",
    "This is why the sort functions don't affect the original series"
   ]
  },
  {
   "cell_type": "markdown",
   "id": "f021bac3",
   "metadata": {},
   "source": [
    "Add Tesla to the Series"
   ]
  },
  {
   "cell_type": "code",
   "execution_count": 80,
   "id": "263db313",
   "metadata": {},
   "outputs": [],
   "source": [
    "Tesla = 21450"
   ]
  },
  {
   "cell_type": "code",
   "execution_count": 81,
   "id": "14d54618",
   "metadata": {},
   "outputs": [],
   "source": [
    "s['Tesla'] = Tesla"
   ]
  },
  {
   "cell_type": "code",
   "execution_count": 82,
   "id": "c5d92161",
   "metadata": {},
   "outputs": [
    {
     "data": {
      "text/plain": [
       "np.int64(21450)"
      ]
     },
     "execution_count": 82,
     "metadata": {},
     "output_type": "execute_result"
    }
   ],
   "source": [
    "s.loc['Tesla']"
   ]
  },
  {
   "cell_type": "code",
   "execution_count": 83,
   "id": "50ac0450",
   "metadata": {},
   "outputs": [
    {
     "data": {
      "text/plain": [
       "True"
      ]
     },
     "execution_count": 83,
     "metadata": {},
     "output_type": "execute_result"
    }
   ],
   "source": [
    "'Tesla' in s"
   ]
  },
  {
   "cell_type": "markdown",
   "id": "609d072f",
   "metadata": {},
   "source": [
    "Set Tesla Revenue to zero"
   ]
  },
  {
   "cell_type": "code",
   "execution_count": 84,
   "id": "c249f745",
   "metadata": {},
   "outputs": [],
   "source": [
    "s['Tesla'] = 0"
   ]
  },
  {
   "cell_type": "markdown",
   "id": "6c167f3f",
   "metadata": {},
   "source": [
    "Remove Tesla from the series and check that it was removed"
   ]
  },
  {
   "cell_type": "code",
   "execution_count": 85,
   "id": "8c0022bb",
   "metadata": {},
   "outputs": [],
   "source": [
    "del s['Tesla']"
   ]
  },
  {
   "cell_type": "code",
   "execution_count": 86,
   "id": "4cc8fa93",
   "metadata": {},
   "outputs": [
    {
     "data": {
      "text/plain": [
       "False"
      ]
     },
     "execution_count": 86,
     "metadata": {},
     "output_type": "execute_result"
    }
   ],
   "source": [
    "'Tesla' in s"
   ]
  },
  {
   "cell_type": "markdown",
   "id": "ea45a651",
   "metadata": {},
   "source": [
    "Create a new series with Tesla and Snapchat"
   ]
  },
  {
   "cell_type": "code",
   "execution_count": 87,
   "id": "b9f7dd5b",
   "metadata": {},
   "outputs": [],
   "source": [
    "ts_revenue=[21450, 4120]\n",
    "ts_names=['Tesla', 'Snapchat']"
   ]
  },
  {
   "cell_type": "code",
   "execution_count": 88,
   "id": "cfa0e1f3",
   "metadata": {},
   "outputs": [
    {
     "data": {
      "text/plain": [
       "Tesla       21450\n",
       "Snapchat     4120\n",
       "Name: Tesla and Snapchat, dtype: int64"
      ]
     },
     "execution_count": 88,
     "metadata": {},
     "output_type": "execute_result"
    }
   ],
   "source": [
    "ts=pd.Series(data=ts_revenue, index=ts_names, name='Tesla and Snapchat')\n",
    "ts"
   ]
  },
  {
   "cell_type": "markdown",
   "id": "810c813d",
   "metadata": {},
   "source": [
    "Add the TS series to the original series"
   ]
  },
  {
   "cell_type": "code",
   "execution_count": 89,
   "id": "34db2fca",
   "metadata": {},
   "outputs": [
    {
     "data": {
      "text/plain": [
       "Apple                274515\n",
       "Samsung              200734\n",
       "Alphabet             182527\n",
       "Foxconn              181945\n",
       "Microsoft            143015\n",
       "Huawei               129184\n",
       "Dell Technologies     92224\n",
       "Meta                  85965\n",
       "Sony                  84893\n",
       "Hitachi               82345\n",
       "Intel                 77867\n",
       "IBM                   73620\n",
       "Tencent               69864\n",
       "Panasonic             63191\n",
       "Tesla                 21450\n",
       "Snapchat               4120\n",
       "dtype: int64"
      ]
     },
     "execution_count": 89,
     "metadata": {},
     "output_type": "execute_result"
    }
   ],
   "source": [
    "merged=pd.concat([s,ts])\n",
    "merged"
   ]
  },
  {
   "cell_type": "markdown",
   "id": "ce17f1e7",
   "metadata": {},
   "source": [
    "Create a rev and com series using the revenue and company data"
   ]
  },
  {
   "cell_type": "code",
   "execution_count": 90,
   "id": "68b515e3",
   "metadata": {},
   "outputs": [],
   "source": [
    "rev=pd.Series(data=revenue)\n",
    "com=pd.Series(data=companies)"
   ]
  },
  {
   "cell_type": "markdown",
   "id": "12279d23",
   "metadata": {},
   "source": [
    "Order the company series based on the order generated from the revenue series. This is based on the revenue in ascending order"
   ]
  },
  {
   "cell_type": "code",
   "execution_count": 91,
   "id": "5ff4643d",
   "metadata": {},
   "outputs": [
    {
     "data": {
      "text/plain": [
       "13            Panasonic\n",
       "12              Tencent\n",
       "11                  IBM\n",
       "10                Intel\n",
       "9               Hitachi\n",
       "8                  Sony\n",
       "7                  Meta\n",
       "6     Dell Technologies\n",
       "5                Huawei\n",
       "4             Microsoft\n",
       "3               Foxconn\n",
       "2              Alphabet\n",
       "1               Samsung\n",
       "0                 Apple\n",
       "dtype: object"
      ]
     },
     "execution_count": 91,
     "metadata": {},
     "output_type": "execute_result"
    }
   ],
   "source": [
    "sorted_rev=rev.sort_values()\n",
    "com.iloc[sorted_rev.index]"
   ]
  },
  {
   "cell_type": "markdown",
   "id": "cadec00b",
   "metadata": {},
   "source": [
    "What was the total revenue for the foreign companies"
   ]
  },
  {
   "cell_type": "code",
   "execution_count": 92,
   "id": "a1f85ae7",
   "metadata": {},
   "outputs": [
    {
     "data": {
      "text/plain": [
       "np.int64(812156)"
      ]
     },
     "execution_count": 92,
     "metadata": {},
     "output_type": "execute_result"
    }
   ],
   "source": [
    "international_s.sum()"
   ]
  },
  {
   "cell_type": "markdown",
   "id": "1b95a273",
   "metadata": {},
   "source": [
    "What percent of gdp was produced by each company?"
   ]
  },
  {
   "cell_type": "code",
   "execution_count": 93,
   "id": "af7ca625",
   "metadata": {},
   "outputs": [
    {
     "data": {
      "text/plain": [
       "Meta                 0.092462\n",
       "IBM                  0.079184\n",
       "Microsoft            0.153824\n",
       "Dell Technologies    0.099194\n",
       "Apple                0.295262\n",
       "Intel                0.083752\n",
       "Alphabet             0.196322\n",
       "Name: Top Technology Companies by Revenue, dtype: float64"
      ]
     },
     "execution_count": 93,
     "metadata": {},
     "output_type": "execute_result"
    }
   ],
   "source": [
    "american_companies / american_companies.sum()"
   ]
  },
  {
   "cell_type": "markdown",
   "id": "1aa69e4b",
   "metadata": {},
   "source": [
    "Rank each company based on their revenue"
   ]
  },
  {
   "cell_type": "code",
   "execution_count": 94,
   "id": "77df2f36",
   "metadata": {},
   "outputs": [
    {
     "data": {
      "text/plain": [
       "Apple                14.0\n",
       "Samsung              13.0\n",
       "Alphabet             12.0\n",
       "Foxconn              11.0\n",
       "Microsoft            10.0\n",
       "Huawei                9.0\n",
       "Dell Technologies     8.0\n",
       "Meta                  7.0\n",
       "Sony                  6.0\n",
       "Hitachi               5.0\n",
       "Intel                 4.0\n",
       "IBM                   3.0\n",
       "Tencent               2.0\n",
       "Panasonic             1.0\n",
       "Name: Top Technology Companies by Revenue, dtype: float64"
      ]
     },
     "execution_count": 94,
     "metadata": {},
     "output_type": "execute_result"
    }
   ],
   "source": [
    "s.rank()"
   ]
  },
  {
   "cell_type": "markdown",
   "id": "28f21fef",
   "metadata": {},
   "source": [
    "What's the ID for the company with the highest revenue"
   ]
  },
  {
   "cell_type": "code",
   "execution_count": 95,
   "id": "a466b604",
   "metadata": {},
   "outputs": [
    {
     "data": {
      "text/plain": [
       "'Apple'"
      ]
     },
     "execution_count": 95,
     "metadata": {},
     "output_type": "execute_result"
    }
   ],
   "source": [
    "s.idxmax()"
   ]
  },
  {
   "cell_type": "markdown",
   "id": "f2774135",
   "metadata": {},
   "source": [
    "Calculate each companies revenue if they each got an extra 20%"
   ]
  },
  {
   "cell_type": "code",
   "execution_count": 96,
   "id": "e6961405",
   "metadata": {},
   "outputs": [
    {
     "data": {
      "text/plain": [
       "Apple                329418.0\n",
       "Samsung              240880.8\n",
       "Alphabet             219032.4\n",
       "Foxconn              218334.0\n",
       "Microsoft            171618.0\n",
       "Huawei               155020.8\n",
       "Dell Technologies    110668.8\n",
       "Meta                 103158.0\n",
       "Sony                 101871.6\n",
       "Hitachi               98814.0\n",
       "Intel                 93440.4\n",
       "IBM                   88344.0\n",
       "Tencent               83836.8\n",
       "Panasonic             75829.2\n",
       "Name: Top Technology Companies by Revenue, dtype: float64"
      ]
     },
     "execution_count": 96,
     "metadata": {},
     "output_type": "execute_result"
    }
   ],
   "source": [
    "s * 1.2"
   ]
  },
  {
   "cell_type": "markdown",
   "id": "85e84f3e",
   "metadata": {},
   "source": [
    "Add 300 to each companies revenue"
   ]
  },
  {
   "cell_type": "code",
   "execution_count": 97,
   "id": "b83deca7",
   "metadata": {},
   "outputs": [
    {
     "data": {
      "text/plain": [
       "Apple                274815\n",
       "Samsung              201034\n",
       "Alphabet             182827\n",
       "Foxconn              182245\n",
       "Microsoft            143315\n",
       "Huawei               129484\n",
       "Dell Technologies     92524\n",
       "Meta                  86265\n",
       "Sony                  85193\n",
       "Hitachi               82645\n",
       "Intel                 78167\n",
       "IBM                   73920\n",
       "Tencent               70164\n",
       "Panasonic             63491\n",
       "Name: Top Technology Companies by Revenue, dtype: int64"
      ]
     },
     "execution_count": 97,
     "metadata": {},
     "output_type": "execute_result"
    }
   ],
   "source": [
    "s.add(300)"
   ]
  },
  {
   "cell_type": "markdown",
   "id": "5d97b95f",
   "metadata": {},
   "source": [
    "Subtract 500 fro each companies revenue"
   ]
  },
  {
   "cell_type": "code",
   "execution_count": 98,
   "id": "d939269a",
   "metadata": {},
   "outputs": [
    {
     "data": {
      "text/plain": [
       "Apple                274015\n",
       "Samsung              200234\n",
       "Alphabet             182027\n",
       "Foxconn              181445\n",
       "Microsoft            142515\n",
       "Huawei               128684\n",
       "Dell Technologies     91724\n",
       "Meta                  85465\n",
       "Sony                  84393\n",
       "Hitachi               81845\n",
       "Intel                 77367\n",
       "IBM                   73120\n",
       "Tencent               69364\n",
       "Panasonic             62691\n",
       "Name: Top Technology Companies by Revenue, dtype: int64"
      ]
     },
     "execution_count": 98,
     "metadata": {},
     "output_type": "execute_result"
    }
   ],
   "source": [
    "s.sub(500)"
   ]
  },
  {
   "cell_type": "markdown",
   "id": "70818598",
   "metadata": {},
   "source": [
    "Check if the company revenue was greater than 50000 for each company"
   ]
  },
  {
   "cell_type": "code",
   "execution_count": 99,
   "id": "2b21103c",
   "metadata": {},
   "outputs": [
    {
     "data": {
      "text/plain": [
       "Apple                True\n",
       "Samsung              True\n",
       "Alphabet             True\n",
       "Foxconn              True\n",
       "Microsoft            True\n",
       "Huawei               True\n",
       "Dell Technologies    True\n",
       "Meta                 True\n",
       "Sony                 True\n",
       "Hitachi              True\n",
       "Intel                True\n",
       "IBM                  True\n",
       "Tencent              True\n",
       "Panasonic            True\n",
       "Name: Top Technology Companies by Revenue, dtype: bool"
      ]
     },
     "execution_count": 99,
     "metadata": {},
     "output_type": "execute_result"
    }
   ],
   "source": [
    "s.apply(lambda x: True if x > 50000 else False)"
   ]
  },
  {
   "cell_type": "markdown",
   "id": "b831236e",
   "metadata": {},
   "source": [
    "Calculate the cumulative revenue for each company after sorting the companies by name"
   ]
  },
  {
   "cell_type": "code",
   "execution_count": 114,
   "id": "cb11faf9",
   "metadata": {},
   "outputs": [
    {
     "data": {
      "text/plain": [
       "array([ 182527,  457042,  549266,  731211,  813556,  942740, 1016360,\n",
       "       1094227, 1180192, 1323207, 1386398, 1587132, 1672025, 1741889])"
      ]
     },
     "execution_count": 114,
     "metadata": {},
     "output_type": "execute_result"
    }
   ],
   "source": [
    "s.sort_index().values.cumsum()"
   ]
  },
  {
   "cell_type": "code",
   "execution_count": null,
   "id": "37035ca1",
   "metadata": {},
   "outputs": [],
   "source": []
  }
 ],
 "metadata": {
  "kernelspec": {
   "display_name": "pandas_practice",
   "language": "python",
   "name": "python3"
  },
  "language_info": {
   "codemirror_mode": {
    "name": "ipython",
    "version": 3
   },
   "file_extension": ".py",
   "mimetype": "text/x-python",
   "name": "python",
   "nbconvert_exporter": "python",
   "pygments_lexer": "ipython3",
   "version": "3.10.18"
  }
 },
 "nbformat": 4,
 "nbformat_minor": 5
}
