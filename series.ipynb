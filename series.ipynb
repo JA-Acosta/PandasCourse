{
 "cells": [
  {
   "cell_type": "markdown",
   "id": "a2614aac",
   "metadata": {},
   "source": [
    "# Panda Series Intro\n",
    "Author: Joe Acosta\n",
    "Date: 07/19/2025\n",
    "\n",
    "Covers the basic info I've learned about series and offers a few questions and answers"
   ]
  },
  {
   "cell_type": "code",
   "execution_count": 4,
   "id": "e0dd5874",
   "metadata": {},
   "outputs": [],
   "source": [
    "import pandas as pd"
   ]
  },
  {
   "cell_type": "code",
   "execution_count": 5,
   "id": "4d0071a7",
   "metadata": {},
   "outputs": [],
   "source": [
    "revenue = [\n",
    "    274515, 200734, 182527, 181945,\n",
    "    143015, 129184, 92224, 85965, 84893,\n",
    "    82345, 77867, 73620, 69864, 63191\n",
    "]\n",
    "\n",
    "companies = [\n",
    "    'Apple', 'Samsung', 'Alphabet', 'Foxconn',\n",
    "    'Microsoft', 'Huawei', 'Dell Technologies',\n",
    "    'Meta', 'Sony', 'Hitachi', 'Intel',\n",
    "    'IBM', 'Tencent', 'Panasonic'\n",
    "]"
   ]
  },
  {
   "cell_type": "code",
   "execution_count": null,
   "id": "5952b9cd",
   "metadata": {},
   "outputs": [
    {
     "name": "stdout",
     "output_type": "stream",
     "text": [
      "[274515, 200734, 182527, 181945, 143015, 129184, 92224, 85965, 84893, 82345, 77867, 73620, 69864, 63191]\n"
     ]
    }
   ],
   "source": [
    "# Data: The most important component of the series, it is the data which the series represents\n",
    "# Index: the labels given to the data. Not required\n",
    "pd.series"
   ]
  },
  {
   "cell_type": "code",
   "execution_count": null,
   "id": "1907f2a4",
   "metadata": {},
   "outputs": [],
   "source": []
  }
 ],
 "metadata": {
  "kernelspec": {
   "display_name": "pandas_practice",
   "language": "python",
   "name": "python3"
  },
  "language_info": {
   "codemirror_mode": {
    "name": "ipython",
    "version": 3
   },
   "file_extension": ".py",
   "mimetype": "text/x-python",
   "name": "python",
   "nbconvert_exporter": "python",
   "pygments_lexer": "ipython3",
   "version": "3.10.18"
  }
 },
 "nbformat": 4,
 "nbformat_minor": 5
}
