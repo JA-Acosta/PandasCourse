{
 "cells": [
  {
   "cell_type": "markdown",
   "id": "a2614aac",
   "metadata": {},
   "source": [
    "# Panda Series Intro\n",
    "Author: Joe Acosta\n",
    "Date: 07/19/2025\n",
    "\n",
    "Covers the basic info I've learned about series and offers a few questions and answers"
   ]
  }
 ],
 "metadata": {
  "language_info": {
   "name": "python"
  }
 },
 "nbformat": 4,
 "nbformat_minor": 5
}
