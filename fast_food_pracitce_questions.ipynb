{
 "cells": [
  {
   "cell_type": "markdown",
   "id": "4839963c",
   "metadata": {},
   "source": [
    "# Pandas Practice\n",
    "Author: JAAR\n",
    "\n",
    "Date: 07/22/2025"
   ]
  },
  {
   "cell_type": "code",
   "execution_count": 1,
   "id": "edc878a4",
   "metadata": {},
   "outputs": [],
   "source": [
    "# imports\n",
    "import pandas as pd"
   ]
  },
  {
   "cell_type": "code",
   "execution_count": null,
   "id": "b1faa000",
   "metadata": {},
   "outputs": [],
   "source": [
    "# Load the fast food data\n",
    "df=pd.read_csv('data\\\\US_top_50_fast_foods.csv')"
   ]
  },
  {
   "cell_type": "markdown",
   "id": "e86f1aef",
   "metadata": {},
   "source": [
    "Get the shape and basic information for the dataset"
   ]
  },
  {
   "cell_type": "code",
   "execution_count": 12,
   "id": "7e360466",
   "metadata": {},
   "outputs": [
    {
     "data": {
      "text/plain": [
       "(50, 7)"
      ]
     },
     "execution_count": 12,
     "metadata": {},
     "output_type": "execute_result"
    }
   ],
   "source": [
    "df.shape"
   ]
  },
  {
   "cell_type": "code",
   "execution_count": 13,
   "id": "da9baa2a",
   "metadata": {},
   "outputs": [
    {
     "name": "stdout",
     "output_type": "stream",
     "text": [
      "<class 'pandas.core.frame.DataFrame'>\n",
      "RangeIndex: 50 entries, 0 to 49\n",
      "Data columns (total 7 columns):\n",
      " #   Column                                            Non-Null Count  Dtype \n",
      "---  ------                                            --------------  ----- \n",
      " 0   Fast-Food Chains                                  50 non-null     object\n",
      " 1   U.S. Systemwide Sales (Millions - U.S Dollars)    50 non-null     int64 \n",
      " 2   Average Sales per Unit (Thousands - U.S Dollars)  50 non-null     int64 \n",
      " 3   Franchised Stores                                 50 non-null     int64 \n",
      " 4   Company Stores                                    50 non-null     int64 \n",
      " 5   2021 Total Units                                  50 non-null     int64 \n",
      " 6   Total Change in Units from 2020                   50 non-null     int64 \n",
      "dtypes: int64(6), object(1)\n",
      "memory usage: 2.9+ KB\n"
     ]
    }
   ],
   "source": [
    "df.info()"
   ]
  },
  {
   "cell_type": "markdown",
   "id": "5764896c",
   "metadata": {},
   "source": [
    "What are the data types?"
   ]
  },
  {
   "cell_type": "code",
   "execution_count": 14,
   "id": "d9189458",
   "metadata": {},
   "outputs": [
    {
     "data": {
      "text/plain": [
       "Fast-Food Chains                                    object\n",
       "U.S. Systemwide Sales (Millions - U.S Dollars)       int64\n",
       "Average Sales per Unit (Thousands - U.S Dollars)     int64\n",
       "Franchised Stores                                    int64\n",
       "Company Stores                                       int64\n",
       "2021 Total Units                                     int64\n",
       "Total Change in Units from 2020                      int64\n",
       "dtype: object"
      ]
     },
     "execution_count": 14,
     "metadata": {},
     "output_type": "execute_result"
    }
   ],
   "source": [
    "df.dtypes"
   ]
  },
  {
   "cell_type": "markdown",
   "id": "8ab9daee",
   "metadata": {},
   "source": [
    "For the series containing the fast food chains, change it to just chains"
   ]
  },
  {
   "cell_type": "code",
   "execution_count": 39,
   "id": "98fb23b1",
   "metadata": {},
   "outputs": [],
   "source": [
    "df.rename(columns={'Fast-Food Chains':'chains'}, inplace=True)"
   ]
  },
  {
   "cell_type": "markdown",
   "id": "02daa086",
   "metadata": {},
   "source": [
    "Get a sample of five entries"
   ]
  },
  {
   "cell_type": "code",
   "execution_count": 37,
   "id": "8b6cf013",
   "metadata": {},
   "outputs": [
    {
     "data": {
      "text/html": [
       "<div>\n",
       "<style scoped>\n",
       "    .dataframe tbody tr th:only-of-type {\n",
       "        vertical-align: middle;\n",
       "    }\n",
       "\n",
       "    .dataframe tbody tr th {\n",
       "        vertical-align: top;\n",
       "    }\n",
       "\n",
       "    .dataframe thead th {\n",
       "        text-align: right;\n",
       "    }\n",
       "</style>\n",
       "<table border=\"1\" class=\"dataframe\">\n",
       "  <thead>\n",
       "    <tr style=\"text-align: right;\">\n",
       "      <th></th>\n",
       "      <th>Fast-Food Chains</th>\n",
       "      <th>U.S. Systemwide Sales (Millions - U.S Dollars)</th>\n",
       "      <th>Average Sales per Unit (Thousands - U.S Dollars)</th>\n",
       "      <th>Franchised Stores</th>\n",
       "      <th>Company Stores</th>\n",
       "      <th>2021 Total Units</th>\n",
       "      <th>Total Change in Units from 2020</th>\n",
       "    </tr>\n",
       "  </thead>\n",
       "  <tbody>\n",
       "    <tr>\n",
       "      <th>33</th>\n",
       "      <td>Papa Murphy’s</td>\n",
       "      <td>809</td>\n",
       "      <td>643</td>\n",
       "      <td>1213</td>\n",
       "      <td>27</td>\n",
       "      <td>1240</td>\n",
       "      <td>-53</td>\n",
       "    </tr>\n",
       "    <tr>\n",
       "      <th>23</th>\n",
       "      <td>KFC</td>\n",
       "      <td>5100</td>\n",
       "      <td>1408</td>\n",
       "      <td>3906</td>\n",
       "      <td>47</td>\n",
       "      <td>3953</td>\n",
       "      <td>10</td>\n",
       "    </tr>\n",
       "    <tr>\n",
       "      <th>45</th>\n",
       "      <td>Wendy's</td>\n",
       "      <td>11111</td>\n",
       "      <td>1895</td>\n",
       "      <td>5535</td>\n",
       "      <td>403</td>\n",
       "      <td>5938</td>\n",
       "      <td>57</td>\n",
       "    </tr>\n",
       "    <tr>\n",
       "      <th>34</th>\n",
       "      <td>Pizza Hut</td>\n",
       "      <td>5500</td>\n",
       "      <td>1022</td>\n",
       "      <td>6526</td>\n",
       "      <td>22</td>\n",
       "      <td>6548</td>\n",
       "      <td>-13</td>\n",
       "    </tr>\n",
       "    <tr>\n",
       "      <th>19</th>\n",
       "      <td>In-N-Out Burger</td>\n",
       "      <td>1175</td>\n",
       "      <td>3200</td>\n",
       "      <td>0</td>\n",
       "      <td>370</td>\n",
       "      <td>370</td>\n",
       "      <td>5</td>\n",
       "    </tr>\n",
       "  </tbody>\n",
       "</table>\n",
       "</div>"
      ],
      "text/plain": [
       "   Fast-Food Chains  U.S. Systemwide Sales (Millions - U.S Dollars)  \\\n",
       "33    Papa Murphy’s                                             809   \n",
       "23              KFC                                            5100   \n",
       "45          Wendy's                                           11111   \n",
       "34        Pizza Hut                                            5500   \n",
       "19  In-N-Out Burger                                            1175   \n",
       "\n",
       "    Average Sales per Unit (Thousands - U.S Dollars)  Franchised Stores  \\\n",
       "33                                               643               1213   \n",
       "23                                              1408               3906   \n",
       "45                                              1895               5535   \n",
       "34                                              1022               6526   \n",
       "19                                              3200                  0   \n",
       "\n",
       "    Company Stores  2021 Total Units  Total Change in Units from 2020  \n",
       "33              27              1240                              -53  \n",
       "23              47              3953                               10  \n",
       "45             403              5938                               57  \n",
       "34              22              6548                              -13  \n",
       "19             370               370                                5  "
      ]
     },
     "execution_count": 37,
     "metadata": {},
     "output_type": "execute_result"
    }
   ],
   "source": [
    "df.sample(5)"
   ]
  },
  {
   "cell_type": "markdown",
   "id": "1b93975a",
   "metadata": {},
   "source": [
    "Order the companies by number of franchises"
   ]
  },
  {
   "cell_type": "code",
   "execution_count": 42,
   "id": "5afb593b",
   "metadata": {},
   "outputs": [],
   "source": [
    "df.rename(columns={'Franchised Stores':'stores_franchised', 'Company Stores':'company_stores'}, inplace=True)"
   ]
  },
  {
   "cell_type": "code",
   "execution_count": 43,
   "id": "26c8d259",
   "metadata": {},
   "outputs": [
    {
     "data": {
      "text/plain": [
       "Index(['chains', 'U.S. Systemwide Sales (Millions - U.S Dollars)',\n",
       "       'Average Sales per Unit (Thousands - U.S Dollars)', 'stores_franchised',\n",
       "       'company_stores', '2021 Total Units',\n",
       "       'Total Change in Units from 2020'],\n",
       "      dtype='object')"
      ]
     },
     "execution_count": 43,
     "metadata": {},
     "output_type": "execute_result"
    }
   ],
   "source": [
    "df.columns"
   ]
  },
  {
   "cell_type": "markdown",
   "id": "965bdc35",
   "metadata": {},
   "source": [
    "Retrieve the first three columns"
   ]
  },
  {
   "cell_type": "code",
   "execution_count": 35,
   "id": "634af637",
   "metadata": {},
   "outputs": [
    {
     "data": {
      "text/html": [
       "<div>\n",
       "<style scoped>\n",
       "    .dataframe tbody tr th:only-of-type {\n",
       "        vertical-align: middle;\n",
       "    }\n",
       "\n",
       "    .dataframe tbody tr th {\n",
       "        vertical-align: top;\n",
       "    }\n",
       "\n",
       "    .dataframe thead th {\n",
       "        text-align: right;\n",
       "    }\n",
       "</style>\n",
       "<table border=\"1\" class=\"dataframe\">\n",
       "  <thead>\n",
       "    <tr style=\"text-align: right;\">\n",
       "      <th></th>\n",
       "      <th>Fast-Food Chains</th>\n",
       "      <th>U.S. Systemwide Sales (Millions - U.S Dollars)</th>\n",
       "      <th>Average Sales per Unit (Thousands - U.S Dollars)</th>\n",
       "    </tr>\n",
       "  </thead>\n",
       "  <tbody>\n",
       "    <tr>\n",
       "      <th>0</th>\n",
       "      <td>Arby’s</td>\n",
       "      <td>4462</td>\n",
       "      <td>1309</td>\n",
       "    </tr>\n",
       "    <tr>\n",
       "      <th>1</th>\n",
       "      <td>Baskin-Robbins</td>\n",
       "      <td>686</td>\n",
       "      <td>296</td>\n",
       "    </tr>\n",
       "    <tr>\n",
       "      <th>2</th>\n",
       "      <td>Bojangles</td>\n",
       "      <td>1485</td>\n",
       "      <td>1924</td>\n",
       "    </tr>\n",
       "    <tr>\n",
       "      <th>3</th>\n",
       "      <td>Burger King</td>\n",
       "      <td>10033</td>\n",
       "      <td>1470</td>\n",
       "    </tr>\n",
       "    <tr>\n",
       "      <th>4</th>\n",
       "      <td>Carl’s Jr.</td>\n",
       "      <td>1560</td>\n",
       "      <td>1400</td>\n",
       "    </tr>\n",
       "  </tbody>\n",
       "</table>\n",
       "</div>"
      ],
      "text/plain": [
       "  Fast-Food Chains  U.S. Systemwide Sales (Millions - U.S Dollars)  \\\n",
       "0           Arby’s                                            4462   \n",
       "1   Baskin-Robbins                                             686   \n",
       "2        Bojangles                                            1485   \n",
       "3      Burger King                                           10033   \n",
       "4       Carl’s Jr.                                            1560   \n",
       "\n",
       "   Average Sales per Unit (Thousands - U.S Dollars)  \n",
       "0                                              1309  \n",
       "1                                               296  \n",
       "2                                              1924  \n",
       "3                                              1470  \n",
       "4                                              1400  "
      ]
     },
     "execution_count": 35,
     "metadata": {},
     "output_type": "execute_result"
    }
   ],
   "source": [
    "df.iloc[:,0:3].head() # easier since the names for the columns are complicated as fuq"
   ]
  },
  {
   "cell_type": "markdown",
   "id": "7e951487",
   "metadata": {},
   "source": [
    "Get every other row"
   ]
  },
  {
   "cell_type": "code",
   "execution_count": 46,
   "id": "f162e90b",
   "metadata": {},
   "outputs": [
    {
     "data": {
      "text/html": [
       "<div>\n",
       "<style scoped>\n",
       "    .dataframe tbody tr th:only-of-type {\n",
       "        vertical-align: middle;\n",
       "    }\n",
       "\n",
       "    .dataframe tbody tr th {\n",
       "        vertical-align: top;\n",
       "    }\n",
       "\n",
       "    .dataframe thead th {\n",
       "        text-align: right;\n",
       "    }\n",
       "</style>\n",
       "<table border=\"1\" class=\"dataframe\">\n",
       "  <thead>\n",
       "    <tr style=\"text-align: right;\">\n",
       "      <th></th>\n",
       "      <th>chains</th>\n",
       "      <th>U.S. Systemwide Sales (Millions - U.S Dollars)</th>\n",
       "      <th>Average Sales per Unit (Thousands - U.S Dollars)</th>\n",
       "      <th>stores_franchised</th>\n",
       "      <th>company_stores</th>\n",
       "      <th>2021 Total Units</th>\n",
       "      <th>Total Change in Units from 2020</th>\n",
       "    </tr>\n",
       "  </thead>\n",
       "  <tbody>\n",
       "    <tr>\n",
       "      <th>0</th>\n",
       "      <td>Arby’s</td>\n",
       "      <td>4462</td>\n",
       "      <td>1309</td>\n",
       "      <td>2293</td>\n",
       "      <td>1116</td>\n",
       "      <td>3409</td>\n",
       "      <td>40</td>\n",
       "    </tr>\n",
       "    <tr>\n",
       "      <th>2</th>\n",
       "      <td>Bojangles</td>\n",
       "      <td>1485</td>\n",
       "      <td>1924</td>\n",
       "      <td>496</td>\n",
       "      <td>277</td>\n",
       "      <td>773</td>\n",
       "      <td>15</td>\n",
       "    </tr>\n",
       "    <tr>\n",
       "      <th>4</th>\n",
       "      <td>Carl’s Jr.</td>\n",
       "      <td>1560</td>\n",
       "      <td>1400</td>\n",
       "      <td>1011</td>\n",
       "      <td>47</td>\n",
       "      <td>1058</td>\n",
       "      <td>-21</td>\n",
       "    </tr>\n",
       "    <tr>\n",
       "      <th>6</th>\n",
       "      <td>Chick-fil-A</td>\n",
       "      <td>16700</td>\n",
       "      <td>6100</td>\n",
       "      <td>2650</td>\n",
       "      <td>82</td>\n",
       "      <td>2732</td>\n",
       "      <td>155</td>\n",
       "    </tr>\n",
       "    <tr>\n",
       "      <th>8</th>\n",
       "      <td>Church’s Chicken</td>\n",
       "      <td>776</td>\n",
       "      <td>870</td>\n",
       "      <td>731</td>\n",
       "      <td>161</td>\n",
       "      <td>892</td>\n",
       "      <td>-13</td>\n",
       "    </tr>\n",
       "  </tbody>\n",
       "</table>\n",
       "</div>"
      ],
      "text/plain": [
       "             chains  U.S. Systemwide Sales (Millions - U.S Dollars)  \\\n",
       "0            Arby’s                                            4462   \n",
       "2         Bojangles                                            1485   \n",
       "4        Carl’s Jr.                                            1560   \n",
       "6       Chick-fil-A                                           16700   \n",
       "8  Church’s Chicken                                             776   \n",
       "\n",
       "   Average Sales per Unit (Thousands - U.S Dollars)  stores_franchised  \\\n",
       "0                                              1309               2293   \n",
       "2                                              1924                496   \n",
       "4                                              1400               1011   \n",
       "6                                              6100               2650   \n",
       "8                                               870                731   \n",
       "\n",
       "   company_stores  2021 Total Units  Total Change in Units from 2020  \n",
       "0            1116              3409                               40  \n",
       "2             277               773                               15  \n",
       "4              47              1058                              -21  \n",
       "6              82              2732                              155  \n",
       "8             161               892                              -13  "
      ]
     },
     "execution_count": 46,
     "metadata": {},
     "output_type": "execute_result"
    }
   ],
   "source": [
    "df.iloc[::2].head()"
   ]
  },
  {
   "cell_type": "markdown",
   "id": "7b77584a",
   "metadata": {},
   "source": [
    "What companies have 2616, 831, and 2293 stores franchised?"
   ]
  },
  {
   "cell_type": "code",
   "execution_count": 51,
   "id": "e5844783",
   "metadata": {},
   "outputs": [
    {
     "data": {
      "text/html": [
       "<div>\n",
       "<style scoped>\n",
       "    .dataframe tbody tr th:only-of-type {\n",
       "        vertical-align: middle;\n",
       "    }\n",
       "\n",
       "    .dataframe tbody tr th {\n",
       "        vertical-align: top;\n",
       "    }\n",
       "\n",
       "    .dataframe thead th {\n",
       "        text-align: right;\n",
       "    }\n",
       "</style>\n",
       "<table border=\"1\" class=\"dataframe\">\n",
       "  <thead>\n",
       "    <tr style=\"text-align: right;\">\n",
       "      <th></th>\n",
       "      <th>chains</th>\n",
       "      <th>U.S. Systemwide Sales (Millions - U.S Dollars)</th>\n",
       "      <th>Average Sales per Unit (Thousands - U.S Dollars)</th>\n",
       "      <th>stores_franchised</th>\n",
       "      <th>company_stores</th>\n",
       "      <th>2021 Total Units</th>\n",
       "      <th>Total Change in Units from 2020</th>\n",
       "    </tr>\n",
       "  </thead>\n",
       "  <tbody>\n",
       "    <tr>\n",
       "      <th>0</th>\n",
       "      <td>Arby’s</td>\n",
       "      <td>4462</td>\n",
       "      <td>1309</td>\n",
       "      <td>2293</td>\n",
       "      <td>1116</td>\n",
       "      <td>3409</td>\n",
       "      <td>40</td>\n",
       "    </tr>\n",
       "    <tr>\n",
       "      <th>9</th>\n",
       "      <td>Culver’s</td>\n",
       "      <td>2489</td>\n",
       "      <td>3099</td>\n",
       "      <td>831</td>\n",
       "      <td>6</td>\n",
       "      <td>837</td>\n",
       "      <td>55</td>\n",
       "    </tr>\n",
       "    <tr>\n",
       "      <th>22</th>\n",
       "      <td>Jimmy John’s</td>\n",
       "      <td>2301</td>\n",
       "      <td>866</td>\n",
       "      <td>2616</td>\n",
       "      <td>41</td>\n",
       "      <td>2657</td>\n",
       "      <td>48</td>\n",
       "    </tr>\n",
       "  </tbody>\n",
       "</table>\n",
       "</div>"
      ],
      "text/plain": [
       "          chains  U.S. Systemwide Sales (Millions - U.S Dollars)  \\\n",
       "0         Arby’s                                            4462   \n",
       "9       Culver’s                                            2489   \n",
       "22  Jimmy John’s                                            2301   \n",
       "\n",
       "    Average Sales per Unit (Thousands - U.S Dollars)  stores_franchised  \\\n",
       "0                                               1309               2293   \n",
       "9                                               3099                831   \n",
       "22                                               866               2616   \n",
       "\n",
       "    company_stores  2021 Total Units  Total Change in Units from 2020  \n",
       "0             1116              3409                               40  \n",
       "9                6               837                               55  \n",
       "22              41              2657                               48  "
      ]
     },
     "execution_count": 51,
     "metadata": {},
     "output_type": "execute_result"
    }
   ],
   "source": [
    "df.loc[df.stores_franchised.isin([2616, 831, 2293])]"
   ]
  },
  {
   "cell_type": "markdown",
   "id": "191fb529",
   "metadata": {},
   "source": [
    "Which company has the most franchised stores?"
   ]
  },
  {
   "cell_type": "code",
   "execution_count": null,
   "id": "73059363",
   "metadata": {},
   "outputs": [],
   "source": []
  },
  {
   "cell_type": "markdown",
   "id": "1428c272",
   "metadata": {},
   "source": [
    "Which company has the highest percentage of franchised stores?"
   ]
  },
  {
   "cell_type": "code",
   "execution_count": null,
   "id": "59c3fd43",
   "metadata": {},
   "outputs": [],
   "source": []
  },
  {
   "cell_type": "markdown",
   "id": "0300cc7f",
   "metadata": {},
   "source": [
    "Create a column that has bool that reflects positive changes in store counts as True and negative as False"
   ]
  },
  {
   "cell_type": "code",
   "execution_count": null,
   "id": "e357248c",
   "metadata": {},
   "outputs": [],
   "source": [
    "# df['column']= (df.Column > 0)"
   ]
  },
  {
   "cell_type": "code",
   "execution_count": null,
   "id": "127fcd3f",
   "metadata": {},
   "outputs": [],
   "source": [
    "# df.dropna().drop([...]).rename([...]).sort_values().head() CHAINING EXAMPLE\n",
    "# df.drop(df.loc[df[\"Revenue\"] < 80_000].index).sort_values(by='Revenue')\n",
    "# df.drop(df.loc[df.Revenue < df.Revenue.mean()].index)\n",
    "# df_usa_only = df.drop(df.loc[(~df['Is American?'])].index) is the same as df.loc[df['Is America']]\n",
    "# removing columns by dropping them and then also renaming columns are things worth looking into\n"
   ]
  },
  {
   "cell_type": "markdown",
   "id": "19687a10",
   "metadata": {},
   "source": [
    "## Questions created by ChatGPT from easy to difficult\n",
    "Following is a list of 30 questions produced by ChatGPT to practice my understanding of Pandas"
   ]
  },
  {
   "cell_type": "code",
   "execution_count": null,
   "id": "a697ed09",
   "metadata": {},
   "outputs": [],
   "source": [
    "1.\tGet the Series of fast-food chain names."
   ]
  },
  {
   "cell_type": "code",
   "execution_count": null,
   "id": "c9b50968",
   "metadata": {},
   "outputs": [],
   "source": []
  },
  {
   "cell_type": "markdown",
   "id": "7470462b",
   "metadata": {},
   "source": [
    "2.\tCount the number of null values in each column."
   ]
  },
  {
   "cell_type": "code",
   "execution_count": null,
   "id": "7e84e0c9",
   "metadata": {},
   "outputs": [],
   "source": []
  },
  {
   "cell_type": "markdown",
   "id": "17aa5013",
   "metadata": {},
   "source": [
    "3.\tGet the Series of total U.S. sales."
   ]
  },
  {
   "cell_type": "code",
   "execution_count": null,
   "id": "c97a4e38",
   "metadata": {},
   "outputs": [],
   "source": []
  },
  {
   "cell_type": "markdown",
   "id": "30adb34d",
   "metadata": {},
   "source": [
    "4.\tFind the maximum sales value."
   ]
  },
  {
   "cell_type": "code",
   "execution_count": null,
   "id": "e9d0631e",
   "metadata": {},
   "outputs": [],
   "source": []
  },
  {
   "cell_type": "code",
   "execution_count": null,
   "id": "4d53fc8e",
   "metadata": {},
   "outputs": [],
   "source": [
    "5.\tFind the chain with the minimum number of units.\n",
    "6.\tGet a Series showing whether each chain is American.\n",
    "7.\tCount how many are American.\n",
    "8.\tCount how many are not American.\n",
    "9.\tGet a boolean Series: Is sales > 5000 million?\n",
    "10.\tFind the average number of total units.\n",
    "11.\tGet all chain names with sales over $5B (as Series).\n",
    "12.\tSort the Series of total units in descending order.\n",
    "13.\tCreate a Series of lowercase chain names.\n",
    "14.\tGet chains that are not American.\n",
    "15.\tCreate a Series showing sales per unit.\n",
    "16.\tCheck which chains have \"Pizza\" in their name.\n",
    "17.\tGet the 5 smallest chains by unit count.\n",
    "18.\tRename the column \"U.S. Systemwide Sales (Millions)\" to lowercase using .rename().\n",
    "19.\tFind the chain with the second highest sales.\n",
    "20.\tCreate a Series: is chain name longer than 10 characters?\n",
    "21.\tCreate a Series showing sales rank (1 = highest).\n",
    "22.\tGet the average sales for non-American chains.\n",
    "23.\tCreate a Series of chain names sorted by sales per unit.\n",
    "24.\tCount how many chains contain \"Burger\" or \"Chicken\" in the name.\n",
    "25.\tNormalize the sales column (0–1 range).\n",
    "26.\tCreate a Series flagging \"Global Giants\" (sales > 5000 & total units > 10000).\n",
    "27.\tCreate a Series of first letters of chain names.\n",
    "28.\tReplace all spaces in chain names with underscores.\n",
    "29.\tBucket sales into categories: Low (<1000), Medium (1000–5000), High (>5000)\n",
    "30.\tGet a Series of boolean values: does chain name start with \"M\"?"
   ]
  },
  {
   "cell_type": "code",
   "execution_count": null,
   "id": "26a28f8c",
   "metadata": {},
   "outputs": [],
   "source": []
  },
  {
   "cell_type": "code",
   "execution_count": null,
   "id": "cccc913d",
   "metadata": {},
   "outputs": [],
   "source": []
  },
  {
   "cell_type": "code",
   "execution_count": null,
   "id": "610cee08",
   "metadata": {},
   "outputs": [],
   "source": []
  },
  {
   "cell_type": "code",
   "execution_count": null,
   "id": "9ab086e0",
   "metadata": {},
   "outputs": [],
   "source": []
  },
  {
   "cell_type": "code",
   "execution_count": null,
   "id": "be0d3f1e",
   "metadata": {},
   "outputs": [],
   "source": []
  },
  {
   "cell_type": "code",
   "execution_count": null,
   "id": "3c2a0b1a",
   "metadata": {},
   "outputs": [],
   "source": []
  },
  {
   "cell_type": "code",
   "execution_count": null,
   "id": "157d68af",
   "metadata": {},
   "outputs": [],
   "source": []
  },
  {
   "cell_type": "code",
   "execution_count": null,
   "id": "9c57512b",
   "metadata": {},
   "outputs": [],
   "source": []
  },
  {
   "cell_type": "code",
   "execution_count": null,
   "id": "06334d26",
   "metadata": {},
   "outputs": [],
   "source": []
  }
 ],
 "metadata": {
  "kernelspec": {
   "display_name": "pandas_practice",
   "language": "python",
   "name": "python3"
  },
  "language_info": {
   "codemirror_mode": {
    "name": "ipython",
    "version": 3
   },
   "file_extension": ".py",
   "mimetype": "text/x-python",
   "name": "python",
   "nbconvert_exporter": "python",
   "pygments_lexer": "ipython3",
   "version": "3.10.18"
  }
 },
 "nbformat": 4,
 "nbformat_minor": 5
}
