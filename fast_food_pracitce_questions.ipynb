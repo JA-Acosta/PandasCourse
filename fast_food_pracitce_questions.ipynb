{
 "cells": [
  {
   "cell_type": "markdown",
   "id": "4839963c",
   "metadata": {},
   "source": [
    "# Pandas Practice with Fast Food Data\n",
    "Author: JAAR\n",
    "\n",
    "Date: 07/22/2025"
   ]
  },
  {
   "cell_type": "code",
   "execution_count": 2,
   "id": "edc878a4",
   "metadata": {},
   "outputs": [],
   "source": [
    "# imports\n",
    "import pandas as pd"
   ]
  },
  {
   "cell_type": "code",
   "execution_count": 3,
   "id": "b1faa000",
   "metadata": {},
   "outputs": [],
   "source": [
    "# Load the fast food data\n",
    "df=pd.read_csv('data/US_top_50_fast_foods.csv')"
   ]
  },
  {
   "cell_type": "markdown",
   "id": "e86f1aef",
   "metadata": {},
   "source": [
    "Get the shape and basic information for the dataset"
   ]
  },
  {
   "cell_type": "code",
   "execution_count": 4,
   "id": "7e360466",
   "metadata": {},
   "outputs": [
    {
     "data": {
      "text/plain": [
       "(50, 7)"
      ]
     },
     "execution_count": 4,
     "metadata": {},
     "output_type": "execute_result"
    }
   ],
   "source": [
    "df.shape"
   ]
  },
  {
   "cell_type": "code",
   "execution_count": 5,
   "id": "da9baa2a",
   "metadata": {},
   "outputs": [
    {
     "name": "stdout",
     "output_type": "stream",
     "text": [
      "<class 'pandas.core.frame.DataFrame'>\n",
      "RangeIndex: 50 entries, 0 to 49\n",
      "Data columns (total 7 columns):\n",
      " #   Column                                            Non-Null Count  Dtype \n",
      "---  ------                                            --------------  ----- \n",
      " 0   Fast-Food Chains                                  50 non-null     object\n",
      " 1   U.S. Systemwide Sales (Millions - U.S Dollars)    50 non-null     int64 \n",
      " 2   Average Sales per Unit (Thousands - U.S Dollars)  50 non-null     int64 \n",
      " 3   Franchised Stores                                 50 non-null     int64 \n",
      " 4   Company Stores                                    50 non-null     int64 \n",
      " 5   2021 Total Units                                  50 non-null     int64 \n",
      " 6   Total Change in Units from 2020                   50 non-null     int64 \n",
      "dtypes: int64(6), object(1)\n",
      "memory usage: 2.9+ KB\n"
     ]
    }
   ],
   "source": [
    "df.info()"
   ]
  },
  {
   "cell_type": "markdown",
   "id": "5764896c",
   "metadata": {},
   "source": [
    "What are the data types?"
   ]
  },
  {
   "cell_type": "code",
   "execution_count": 6,
   "id": "d9189458",
   "metadata": {},
   "outputs": [
    {
     "data": {
      "text/plain": [
       "Fast-Food Chains                                    object\n",
       "U.S. Systemwide Sales (Millions - U.S Dollars)       int64\n",
       "Average Sales per Unit (Thousands - U.S Dollars)     int64\n",
       "Franchised Stores                                    int64\n",
       "Company Stores                                       int64\n",
       "2021 Total Units                                     int64\n",
       "Total Change in Units from 2020                      int64\n",
       "dtype: object"
      ]
     },
     "execution_count": 6,
     "metadata": {},
     "output_type": "execute_result"
    }
   ],
   "source": [
    "df.dtypes"
   ]
  },
  {
   "cell_type": "markdown",
   "id": "9ae09e01",
   "metadata": {},
   "source": [
    "Are there any null values?"
   ]
  },
  {
   "cell_type": "code",
   "execution_count": 7,
   "id": "d943d3c9",
   "metadata": {},
   "outputs": [
    {
     "data": {
      "text/plain": [
       "np.int64(0)"
      ]
     },
     "execution_count": 7,
     "metadata": {},
     "output_type": "execute_result"
    }
   ],
   "source": [
    "df.isnull().sum().sum()"
   ]
  },
  {
   "cell_type": "markdown",
   "id": "5925ce90",
   "metadata": {},
   "source": [
    "Replace all of the columns spaces with underscores"
   ]
  },
  {
   "cell_type": "code",
   "execution_count": 8,
   "id": "e91a0fd8",
   "metadata": {},
   "outputs": [],
   "source": [
    "df.columns=df.columns.str.replace(' ', '_')"
   ]
  },
  {
   "cell_type": "markdown",
   "id": "8ab9daee",
   "metadata": {},
   "source": [
    "For the series containing the fast food chains, change it to just chain"
   ]
  },
  {
   "cell_type": "code",
   "execution_count": 9,
   "id": "98fb23b1",
   "metadata": {},
   "outputs": [],
   "source": [
    "df.rename(columns={'Fast-Food_Chains':'chain'}, inplace=True)"
   ]
  },
  {
   "cell_type": "markdown",
   "id": "02daa086",
   "metadata": {},
   "source": [
    "Get a sample of five entries"
   ]
  },
  {
   "cell_type": "code",
   "execution_count": 10,
   "id": "8b6cf013",
   "metadata": {},
   "outputs": [
    {
     "data": {
      "text/html": [
       "<div>\n",
       "<style scoped>\n",
       "    .dataframe tbody tr th:only-of-type {\n",
       "        vertical-align: middle;\n",
       "    }\n",
       "\n",
       "    .dataframe tbody tr th {\n",
       "        vertical-align: top;\n",
       "    }\n",
       "\n",
       "    .dataframe thead th {\n",
       "        text-align: right;\n",
       "    }\n",
       "</style>\n",
       "<table border=\"1\" class=\"dataframe\">\n",
       "  <thead>\n",
       "    <tr style=\"text-align: right;\">\n",
       "      <th></th>\n",
       "      <th>chain</th>\n",
       "      <th>U.S._Systemwide_Sales_(Millions_-_U.S_Dollars)</th>\n",
       "      <th>Average_Sales_per_Unit_(Thousands_-_U.S_Dollars)</th>\n",
       "      <th>Franchised_Stores</th>\n",
       "      <th>Company_Stores</th>\n",
       "      <th>2021_Total_Units</th>\n",
       "      <th>Total_Change_in_Units_from_2020</th>\n",
       "    </tr>\n",
       "  </thead>\n",
       "  <tbody>\n",
       "    <tr>\n",
       "      <th>33</th>\n",
       "      <td>Papa Murphy’s</td>\n",
       "      <td>809</td>\n",
       "      <td>643</td>\n",
       "      <td>1213</td>\n",
       "      <td>27</td>\n",
       "      <td>1240</td>\n",
       "      <td>-53</td>\n",
       "    </tr>\n",
       "    <tr>\n",
       "      <th>35</th>\n",
       "      <td>Popeyes Louisiana Kitchen</td>\n",
       "      <td>4775</td>\n",
       "      <td>1867</td>\n",
       "      <td>2716</td>\n",
       "      <td>41</td>\n",
       "      <td>2754</td>\n",
       "      <td>146</td>\n",
       "    </tr>\n",
       "    <tr>\n",
       "      <th>7</th>\n",
       "      <td>Chipotle</td>\n",
       "      <td>7547</td>\n",
       "      <td>2641</td>\n",
       "      <td>0</td>\n",
       "      <td>2966</td>\n",
       "      <td>2966</td>\n",
       "      <td>198</td>\n",
       "    </tr>\n",
       "    <tr>\n",
       "      <th>12</th>\n",
       "      <td>Domino's</td>\n",
       "      <td>8641</td>\n",
       "      <td>1317</td>\n",
       "      <td>6185</td>\n",
       "      <td>375</td>\n",
       "      <td>6560</td>\n",
       "      <td>205</td>\n",
       "    </tr>\n",
       "    <tr>\n",
       "      <th>9</th>\n",
       "      <td>Culver’s</td>\n",
       "      <td>2489</td>\n",
       "      <td>3099</td>\n",
       "      <td>831</td>\n",
       "      <td>6</td>\n",
       "      <td>837</td>\n",
       "      <td>55</td>\n",
       "    </tr>\n",
       "  </tbody>\n",
       "</table>\n",
       "</div>"
      ],
      "text/plain": [
       "                        chain  U.S._Systemwide_Sales_(Millions_-_U.S_Dollars)  \\\n",
       "33              Papa Murphy’s                                             809   \n",
       "35  Popeyes Louisiana Kitchen                                            4775   \n",
       "7                    Chipotle                                            7547   \n",
       "12                   Domino's                                            8641   \n",
       "9                    Culver’s                                            2489   \n",
       "\n",
       "    Average_Sales_per_Unit_(Thousands_-_U.S_Dollars)  Franchised_Stores  \\\n",
       "33                                               643               1213   \n",
       "35                                              1867               2716   \n",
       "7                                               2641                  0   \n",
       "12                                              1317               6185   \n",
       "9                                               3099                831   \n",
       "\n",
       "    Company_Stores  2021_Total_Units  Total_Change_in_Units_from_2020  \n",
       "33              27              1240                              -53  \n",
       "35              41              2754                              146  \n",
       "7             2966              2966                              198  \n",
       "12             375              6560                              205  \n",
       "9                6               837                               55  "
      ]
     },
     "execution_count": 10,
     "metadata": {},
     "output_type": "execute_result"
    }
   ],
   "source": [
    "df.sample(5)"
   ]
  },
  {
   "cell_type": "markdown",
   "id": "80eed0ff",
   "metadata": {},
   "source": [
    "Rename 'Franchised Stores' as'stores_franchised' and 'Company Stores' as 'company_stores'"
   ]
  },
  {
   "cell_type": "code",
   "execution_count": 11,
   "id": "a1ecd627",
   "metadata": {},
   "outputs": [],
   "source": [
    "df.rename(columns={\n",
    "    'Franchised_Stores':'franchised',\n",
    "    'Company_Stores':'company_stores'\n",
    "}, inplace=True)"
   ]
  },
  {
   "cell_type": "markdown",
   "id": "1b93975a",
   "metadata": {},
   "source": [
    "Order the companies by number of franchises descending and ascending by names"
   ]
  },
  {
   "cell_type": "code",
   "execution_count": 12,
   "id": "8d5ef0c8",
   "metadata": {},
   "outputs": [
    {
     "data": {
      "text/html": [
       "<div>\n",
       "<style scoped>\n",
       "    .dataframe tbody tr th:only-of-type {\n",
       "        vertical-align: middle;\n",
       "    }\n",
       "\n",
       "    .dataframe tbody tr th {\n",
       "        vertical-align: top;\n",
       "    }\n",
       "\n",
       "    .dataframe thead th {\n",
       "        text-align: right;\n",
       "    }\n",
       "</style>\n",
       "<table border=\"1\" class=\"dataframe\">\n",
       "  <thead>\n",
       "    <tr style=\"text-align: right;\">\n",
       "      <th></th>\n",
       "      <th>chain</th>\n",
       "      <th>U.S._Systemwide_Sales_(Millions_-_U.S_Dollars)</th>\n",
       "      <th>Average_Sales_per_Unit_(Thousands_-_U.S_Dollars)</th>\n",
       "      <th>franchised</th>\n",
       "      <th>company_stores</th>\n",
       "      <th>2021_Total_Units</th>\n",
       "      <th>Total_Change_in_Units_from_2020</th>\n",
       "    </tr>\n",
       "  </thead>\n",
       "  <tbody>\n",
       "    <tr>\n",
       "      <th>41</th>\n",
       "      <td>Subway</td>\n",
       "      <td>9350</td>\n",
       "      <td>438</td>\n",
       "      <td>21147</td>\n",
       "      <td>0</td>\n",
       "      <td>21147</td>\n",
       "      <td>-1043</td>\n",
       "    </tr>\n",
       "    <tr>\n",
       "      <th>28</th>\n",
       "      <td>McDonald’s</td>\n",
       "      <td>45960</td>\n",
       "      <td>3420</td>\n",
       "      <td>12775</td>\n",
       "      <td>663</td>\n",
       "      <td>13438</td>\n",
       "      <td>244</td>\n",
       "    </tr>\n",
       "    <tr>\n",
       "      <th>13</th>\n",
       "      <td>Dunkin'</td>\n",
       "      <td>10416</td>\n",
       "      <td>1127</td>\n",
       "      <td>9244</td>\n",
       "      <td>0</td>\n",
       "      <td>9244</td>\n",
       "      <td>161</td>\n",
       "    </tr>\n",
       "    <tr>\n",
       "      <th>3</th>\n",
       "      <td>Burger King</td>\n",
       "      <td>10033</td>\n",
       "      <td>1470</td>\n",
       "      <td>7054</td>\n",
       "      <td>51</td>\n",
       "      <td>7105</td>\n",
       "      <td>24</td>\n",
       "    </tr>\n",
       "    <tr>\n",
       "      <th>42</th>\n",
       "      <td>Taco Bell</td>\n",
       "      <td>12600</td>\n",
       "      <td>1823</td>\n",
       "      <td>6540</td>\n",
       "      <td>462</td>\n",
       "      <td>7002</td>\n",
       "      <td>203</td>\n",
       "    </tr>\n",
       "  </tbody>\n",
       "</table>\n",
       "</div>"
      ],
      "text/plain": [
       "          chain  U.S._Systemwide_Sales_(Millions_-_U.S_Dollars)  \\\n",
       "41       Subway                                            9350   \n",
       "28   McDonald’s                                           45960   \n",
       "13      Dunkin'                                           10416   \n",
       "3   Burger King                                           10033   \n",
       "42    Taco Bell                                           12600   \n",
       "\n",
       "    Average_Sales_per_Unit_(Thousands_-_U.S_Dollars)  franchised  \\\n",
       "41                                               438       21147   \n",
       "28                                              3420       12775   \n",
       "13                                              1127        9244   \n",
       "3                                               1470        7054   \n",
       "42                                              1823        6540   \n",
       "\n",
       "    company_stores  2021_Total_Units  Total_Change_in_Units_from_2020  \n",
       "41               0             21147                            -1043  \n",
       "28             663             13438                              244  \n",
       "13               0              9244                              161  \n",
       "3               51              7105                               24  \n",
       "42             462              7002                              203  "
      ]
     },
     "execution_count": 12,
     "metadata": {},
     "output_type": "execute_result"
    }
   ],
   "source": [
    "df.sort_values(by=['franchised', 'chain'], ascending=[False, True]).head()"
   ]
  },
  {
   "cell_type": "markdown",
   "id": "965bdc35",
   "metadata": {},
   "source": [
    "Retrieve the first three columns"
   ]
  },
  {
   "cell_type": "code",
   "execution_count": 13,
   "id": "634af637",
   "metadata": {},
   "outputs": [
    {
     "data": {
      "text/html": [
       "<div>\n",
       "<style scoped>\n",
       "    .dataframe tbody tr th:only-of-type {\n",
       "        vertical-align: middle;\n",
       "    }\n",
       "\n",
       "    .dataframe tbody tr th {\n",
       "        vertical-align: top;\n",
       "    }\n",
       "\n",
       "    .dataframe thead th {\n",
       "        text-align: right;\n",
       "    }\n",
       "</style>\n",
       "<table border=\"1\" class=\"dataframe\">\n",
       "  <thead>\n",
       "    <tr style=\"text-align: right;\">\n",
       "      <th></th>\n",
       "      <th>chain</th>\n",
       "      <th>U.S._Systemwide_Sales_(Millions_-_U.S_Dollars)</th>\n",
       "      <th>Average_Sales_per_Unit_(Thousands_-_U.S_Dollars)</th>\n",
       "    </tr>\n",
       "  </thead>\n",
       "  <tbody>\n",
       "    <tr>\n",
       "      <th>0</th>\n",
       "      <td>Arby’s</td>\n",
       "      <td>4462</td>\n",
       "      <td>1309</td>\n",
       "    </tr>\n",
       "    <tr>\n",
       "      <th>1</th>\n",
       "      <td>Baskin-Robbins</td>\n",
       "      <td>686</td>\n",
       "      <td>296</td>\n",
       "    </tr>\n",
       "    <tr>\n",
       "      <th>2</th>\n",
       "      <td>Bojangles</td>\n",
       "      <td>1485</td>\n",
       "      <td>1924</td>\n",
       "    </tr>\n",
       "    <tr>\n",
       "      <th>3</th>\n",
       "      <td>Burger King</td>\n",
       "      <td>10033</td>\n",
       "      <td>1470</td>\n",
       "    </tr>\n",
       "    <tr>\n",
       "      <th>4</th>\n",
       "      <td>Carl’s Jr.</td>\n",
       "      <td>1560</td>\n",
       "      <td>1400</td>\n",
       "    </tr>\n",
       "  </tbody>\n",
       "</table>\n",
       "</div>"
      ],
      "text/plain": [
       "            chain  U.S._Systemwide_Sales_(Millions_-_U.S_Dollars)  \\\n",
       "0          Arby’s                                            4462   \n",
       "1  Baskin-Robbins                                             686   \n",
       "2       Bojangles                                            1485   \n",
       "3     Burger King                                           10033   \n",
       "4      Carl’s Jr.                                            1560   \n",
       "\n",
       "   Average_Sales_per_Unit_(Thousands_-_U.S_Dollars)  \n",
       "0                                              1309  \n",
       "1                                               296  \n",
       "2                                              1924  \n",
       "3                                              1470  \n",
       "4                                              1400  "
      ]
     },
     "execution_count": 13,
     "metadata": {},
     "output_type": "execute_result"
    }
   ],
   "source": [
    "df.iloc[:,0:3].head() # easier since the names for the columns are complicated as fuq"
   ]
  },
  {
   "cell_type": "markdown",
   "id": "7e951487",
   "metadata": {},
   "source": [
    "Get every other row"
   ]
  },
  {
   "cell_type": "code",
   "execution_count": 14,
   "id": "f162e90b",
   "metadata": {},
   "outputs": [
    {
     "data": {
      "text/html": [
       "<div>\n",
       "<style scoped>\n",
       "    .dataframe tbody tr th:only-of-type {\n",
       "        vertical-align: middle;\n",
       "    }\n",
       "\n",
       "    .dataframe tbody tr th {\n",
       "        vertical-align: top;\n",
       "    }\n",
       "\n",
       "    .dataframe thead th {\n",
       "        text-align: right;\n",
       "    }\n",
       "</style>\n",
       "<table border=\"1\" class=\"dataframe\">\n",
       "  <thead>\n",
       "    <tr style=\"text-align: right;\">\n",
       "      <th></th>\n",
       "      <th>chain</th>\n",
       "      <th>U.S._Systemwide_Sales_(Millions_-_U.S_Dollars)</th>\n",
       "      <th>Average_Sales_per_Unit_(Thousands_-_U.S_Dollars)</th>\n",
       "      <th>franchised</th>\n",
       "      <th>company_stores</th>\n",
       "      <th>2021_Total_Units</th>\n",
       "      <th>Total_Change_in_Units_from_2020</th>\n",
       "    </tr>\n",
       "  </thead>\n",
       "  <tbody>\n",
       "    <tr>\n",
       "      <th>0</th>\n",
       "      <td>Arby’s</td>\n",
       "      <td>4462</td>\n",
       "      <td>1309</td>\n",
       "      <td>2293</td>\n",
       "      <td>1116</td>\n",
       "      <td>3409</td>\n",
       "      <td>40</td>\n",
       "    </tr>\n",
       "    <tr>\n",
       "      <th>2</th>\n",
       "      <td>Bojangles</td>\n",
       "      <td>1485</td>\n",
       "      <td>1924</td>\n",
       "      <td>496</td>\n",
       "      <td>277</td>\n",
       "      <td>773</td>\n",
       "      <td>15</td>\n",
       "    </tr>\n",
       "    <tr>\n",
       "      <th>4</th>\n",
       "      <td>Carl’s Jr.</td>\n",
       "      <td>1560</td>\n",
       "      <td>1400</td>\n",
       "      <td>1011</td>\n",
       "      <td>47</td>\n",
       "      <td>1058</td>\n",
       "      <td>-21</td>\n",
       "    </tr>\n",
       "    <tr>\n",
       "      <th>6</th>\n",
       "      <td>Chick-fil-A</td>\n",
       "      <td>16700</td>\n",
       "      <td>6100</td>\n",
       "      <td>2650</td>\n",
       "      <td>82</td>\n",
       "      <td>2732</td>\n",
       "      <td>155</td>\n",
       "    </tr>\n",
       "    <tr>\n",
       "      <th>8</th>\n",
       "      <td>Church’s Chicken</td>\n",
       "      <td>776</td>\n",
       "      <td>870</td>\n",
       "      <td>731</td>\n",
       "      <td>161</td>\n",
       "      <td>892</td>\n",
       "      <td>-13</td>\n",
       "    </tr>\n",
       "  </tbody>\n",
       "</table>\n",
       "</div>"
      ],
      "text/plain": [
       "              chain  U.S._Systemwide_Sales_(Millions_-_U.S_Dollars)  \\\n",
       "0            Arby’s                                            4462   \n",
       "2         Bojangles                                            1485   \n",
       "4        Carl’s Jr.                                            1560   \n",
       "6       Chick-fil-A                                           16700   \n",
       "8  Church’s Chicken                                             776   \n",
       "\n",
       "   Average_Sales_per_Unit_(Thousands_-_U.S_Dollars)  franchised  \\\n",
       "0                                              1309        2293   \n",
       "2                                              1924         496   \n",
       "4                                              1400        1011   \n",
       "6                                              6100        2650   \n",
       "8                                               870         731   \n",
       "\n",
       "   company_stores  2021_Total_Units  Total_Change_in_Units_from_2020  \n",
       "0            1116              3409                               40  \n",
       "2             277               773                               15  \n",
       "4              47              1058                              -21  \n",
       "6              82              2732                              155  \n",
       "8             161               892                              -13  "
      ]
     },
     "execution_count": 14,
     "metadata": {},
     "output_type": "execute_result"
    }
   ],
   "source": [
    "df.iloc[::2].head() # truncated with head to show that it works"
   ]
  },
  {
   "cell_type": "markdown",
   "id": "7b77584a",
   "metadata": {},
   "source": [
    "What companies have 2616, 831, and 2293 stores franchised?"
   ]
  },
  {
   "cell_type": "code",
   "execution_count": 15,
   "id": "e5844783",
   "metadata": {},
   "outputs": [
    {
     "data": {
      "text/html": [
       "<div>\n",
       "<style scoped>\n",
       "    .dataframe tbody tr th:only-of-type {\n",
       "        vertical-align: middle;\n",
       "    }\n",
       "\n",
       "    .dataframe tbody tr th {\n",
       "        vertical-align: top;\n",
       "    }\n",
       "\n",
       "    .dataframe thead th {\n",
       "        text-align: right;\n",
       "    }\n",
       "</style>\n",
       "<table border=\"1\" class=\"dataframe\">\n",
       "  <thead>\n",
       "    <tr style=\"text-align: right;\">\n",
       "      <th></th>\n",
       "      <th>chain</th>\n",
       "      <th>U.S._Systemwide_Sales_(Millions_-_U.S_Dollars)</th>\n",
       "      <th>Average_Sales_per_Unit_(Thousands_-_U.S_Dollars)</th>\n",
       "      <th>franchised</th>\n",
       "      <th>company_stores</th>\n",
       "      <th>2021_Total_Units</th>\n",
       "      <th>Total_Change_in_Units_from_2020</th>\n",
       "    </tr>\n",
       "  </thead>\n",
       "  <tbody>\n",
       "    <tr>\n",
       "      <th>0</th>\n",
       "      <td>Arby’s</td>\n",
       "      <td>4462</td>\n",
       "      <td>1309</td>\n",
       "      <td>2293</td>\n",
       "      <td>1116</td>\n",
       "      <td>3409</td>\n",
       "      <td>40</td>\n",
       "    </tr>\n",
       "    <tr>\n",
       "      <th>9</th>\n",
       "      <td>Culver’s</td>\n",
       "      <td>2489</td>\n",
       "      <td>3099</td>\n",
       "      <td>831</td>\n",
       "      <td>6</td>\n",
       "      <td>837</td>\n",
       "      <td>55</td>\n",
       "    </tr>\n",
       "    <tr>\n",
       "      <th>22</th>\n",
       "      <td>Jimmy John’s</td>\n",
       "      <td>2301</td>\n",
       "      <td>866</td>\n",
       "      <td>2616</td>\n",
       "      <td>41</td>\n",
       "      <td>2657</td>\n",
       "      <td>48</td>\n",
       "    </tr>\n",
       "  </tbody>\n",
       "</table>\n",
       "</div>"
      ],
      "text/plain": [
       "           chain  U.S._Systemwide_Sales_(Millions_-_U.S_Dollars)  \\\n",
       "0         Arby’s                                            4462   \n",
       "9       Culver’s                                            2489   \n",
       "22  Jimmy John’s                                            2301   \n",
       "\n",
       "    Average_Sales_per_Unit_(Thousands_-_U.S_Dollars)  franchised  \\\n",
       "0                                               1309        2293   \n",
       "9                                               3099         831   \n",
       "22                                               866        2616   \n",
       "\n",
       "    company_stores  2021_Total_Units  Total_Change_in_Units_from_2020  \n",
       "0             1116              3409                               40  \n",
       "9                6               837                               55  \n",
       "22              41              2657                               48  "
      ]
     },
     "execution_count": 15,
     "metadata": {},
     "output_type": "execute_result"
    }
   ],
   "source": [
    "df.loc[df.franchised.isin([2616, 831, 2293])]"
   ]
  },
  {
   "cell_type": "markdown",
   "id": "420ee3df",
   "metadata": {},
   "source": [
    "Assign the chain column as the index column"
   ]
  },
  {
   "cell_type": "code",
   "execution_count": 16,
   "id": "ca5b7840",
   "metadata": {},
   "outputs": [],
   "source": [
    "df.set_index('chain', inplace=True)"
   ]
  },
  {
   "cell_type": "markdown",
   "id": "191fb529",
   "metadata": {},
   "source": [
    "Which company has the most franchised stores?"
   ]
  },
  {
   "cell_type": "code",
   "execution_count": 17,
   "id": "73059363",
   "metadata": {},
   "outputs": [
    {
     "data": {
      "text/plain": [
       "'Subway'"
      ]
     },
     "execution_count": 17,
     "metadata": {},
     "output_type": "execute_result"
    }
   ],
   "source": [
    "# Two way of solving this. If we just need the index, if we need a list, or if we need the max\n",
    "df.franchised.idxmax()"
   ]
  },
  {
   "cell_type": "markdown",
   "id": "1428c272",
   "metadata": {},
   "source": [
    "Which company has the highest percentage of franchised stores?"
   ]
  },
  {
   "cell_type": "code",
   "execution_count": 18,
   "id": "59c3fd43",
   "metadata": {},
   "outputs": [
    {
     "data": {
      "text/plain": [
       "chain\n",
       "Baskin-Robbins    1.000000\n",
       "Dunkin'           1.000000\n",
       "Subway            1.000000\n",
       "Tim Hortons       1.000000\n",
       "Dairy Queen       0.999539\n",
       "dtype: float64"
      ]
     },
     "execution_count": 18,
     "metadata": {},
     "output_type": "execute_result"
    }
   ],
   "source": [
    "(df.franchised / (df.franchised + df.company_stores)).sort_values(ascending=False).head()"
   ]
  },
  {
   "cell_type": "markdown",
   "id": "686897f5",
   "metadata": {},
   "source": [
    "Of the companies with 100% franchising, which has the most stores?"
   ]
  },
  {
   "cell_type": "code",
   "execution_count": 19,
   "id": "1910a970",
   "metadata": {},
   "outputs": [
    {
     "data": {
      "text/plain": [
       "chain\n",
       "Baskin-Robbins     2317\n",
       "Dunkin'            9244\n",
       "Subway            21147\n",
       "Tim Hortons         637\n",
       "Name: franchised, dtype: int64"
      ]
     },
     "execution_count": 19,
     "metadata": {},
     "output_type": "execute_result"
    }
   ],
   "source": [
    "df.loc[df.index.isin(['Subway', 'Dunkin\\'', 'Baskin-Robbins', 'Tim Hortons']), 'franchised']"
   ]
  },
  {
   "cell_type": "markdown",
   "id": "2a036946",
   "metadata": {},
   "source": [
    "Rename the 2021 units column to store_count, 2020 unit change column to store_count_change, us sustemwide sales to sales_in_millions and average sales per unit to store_sales_thousands"
   ]
  },
  {
   "cell_type": "code",
   "execution_count": 20,
   "id": "b6dafec3",
   "metadata": {},
   "outputs": [],
   "source": [
    "# Maybe also change the mil and store sales at this time?\n",
    "df.rename(columns={\n",
    "    'Total_Change_in_Units_from_2020':'store_count_change',\n",
    "    '2021_Total_Units':'store_count',\n",
    "    'U.S._Systemwide_Sales_(Millions_-_U.S_Dollars)':'sales_in_millions',\n",
    "    'Average_Sales_per_Unit_(Thousands_-_U.S_Dollars)':'store_sales_thousands'\n",
    "}, inplace=True)"
   ]
  },
  {
   "cell_type": "markdown",
   "id": "0300cc7f",
   "metadata": {},
   "source": [
    "Create a column that has bool that reflects positive changes in store counts as True and negative as False"
   ]
  },
  {
   "cell_type": "code",
   "execution_count": 21,
   "id": "82285255",
   "metadata": {},
   "outputs": [],
   "source": [
    "df['positive_store_count']=(df.store_count > 0)"
   ]
  },
  {
   "cell_type": "markdown",
   "id": "14cd8a2b",
   "metadata": {},
   "source": [
    "Get both the first and last chains?"
   ]
  },
  {
   "cell_type": "code",
   "execution_count": 22,
   "id": "6e2b0390",
   "metadata": {},
   "outputs": [
    {
     "data": {
      "text/html": [
       "<div>\n",
       "<style scoped>\n",
       "    .dataframe tbody tr th:only-of-type {\n",
       "        vertical-align: middle;\n",
       "    }\n",
       "\n",
       "    .dataframe tbody tr th {\n",
       "        vertical-align: top;\n",
       "    }\n",
       "\n",
       "    .dataframe thead th {\n",
       "        text-align: right;\n",
       "    }\n",
       "</style>\n",
       "<table border=\"1\" class=\"dataframe\">\n",
       "  <thead>\n",
       "    <tr style=\"text-align: right;\">\n",
       "      <th></th>\n",
       "      <th>sales_in_millions</th>\n",
       "      <th>store_sales_thousands</th>\n",
       "      <th>franchised</th>\n",
       "      <th>company_stores</th>\n",
       "      <th>store_count</th>\n",
       "      <th>store_count_change</th>\n",
       "      <th>positive_store_count</th>\n",
       "    </tr>\n",
       "    <tr>\n",
       "      <th>chain</th>\n",
       "      <th></th>\n",
       "      <th></th>\n",
       "      <th></th>\n",
       "      <th></th>\n",
       "      <th></th>\n",
       "      <th></th>\n",
       "      <th></th>\n",
       "    </tr>\n",
       "  </thead>\n",
       "  <tbody>\n",
       "    <tr>\n",
       "      <th>Arby’s</th>\n",
       "      <td>4462</td>\n",
       "      <td>1309</td>\n",
       "      <td>2293</td>\n",
       "      <td>1116</td>\n",
       "      <td>3409</td>\n",
       "      <td>40</td>\n",
       "      <td>True</td>\n",
       "    </tr>\n",
       "    <tr>\n",
       "      <th>Zaxby’s</th>\n",
       "      <td>2233</td>\n",
       "      <td>2484</td>\n",
       "      <td>761</td>\n",
       "      <td>147</td>\n",
       "      <td>908</td>\n",
       "      <td>3</td>\n",
       "      <td>True</td>\n",
       "    </tr>\n",
       "  </tbody>\n",
       "</table>\n",
       "</div>"
      ],
      "text/plain": [
       "         sales_in_millions  store_sales_thousands  franchised  company_stores  \\\n",
       "chain                                                                           \n",
       "Arby’s                4462                   1309        2293            1116   \n",
       "Zaxby’s               2233                   2484         761             147   \n",
       "\n",
       "         store_count  store_count_change  positive_store_count  \n",
       "chain                                                           \n",
       "Arby’s          3409                  40                  True  \n",
       "Zaxby’s          908                   3                  True  "
      ]
     },
     "execution_count": 22,
     "metadata": {},
     "output_type": "execute_result"
    }
   ],
   "source": [
    "df.iloc[[0, -1]]"
   ]
  },
  {
   "cell_type": "markdown",
   "id": "ccc9bf49",
   "metadata": {},
   "source": [
    "Drop the Total Changes column and store this as a new df"
   ]
  },
  {
   "cell_type": "code",
   "execution_count": 23,
   "id": "024e44cf",
   "metadata": {},
   "outputs": [],
   "source": [
    "drop_change=df.drop('store_count_change', axis=1)"
   ]
  },
  {
   "cell_type": "markdown",
   "id": "cd612a3d",
   "metadata": {},
   "source": [
    "Create a new column called positive growth where chains that opened stores have a 1 and chains that don't have a 0"
   ]
  },
  {
   "cell_type": "code",
   "execution_count": 24,
   "id": "580084dd",
   "metadata": {},
   "outputs": [],
   "source": [
    "df['positive_growth']=df.positive_store_count.astype(int)"
   ]
  },
  {
   "cell_type": "markdown",
   "id": "621c86dd",
   "metadata": {},
   "source": [
    "Convert systemwide sales to thousands and store the value as a new column then drop the old column"
   ]
  },
  {
   "cell_type": "code",
   "execution_count": 25,
   "id": "f8f8ded9",
   "metadata": {},
   "outputs": [],
   "source": [
    "df['sales_in_thousands'] = df.sales_in_millions * 1000"
   ]
  },
  {
   "cell_type": "code",
   "execution_count": 26,
   "id": "a2dd6f33",
   "metadata": {},
   "outputs": [],
   "source": [
    "df=df.drop('sales_in_millions', axis=1)"
   ]
  },
  {
   "cell_type": "markdown",
   "id": "5ef88ead",
   "metadata": {},
   "source": [
    "Sort chains by sales per store descending and name ascending"
   ]
  },
  {
   "cell_type": "code",
   "execution_count": 27,
   "id": "c43d737c",
   "metadata": {},
   "outputs": [
    {
     "data": {
      "text/html": [
       "<div>\n",
       "<style scoped>\n",
       "    .dataframe tbody tr th:only-of-type {\n",
       "        vertical-align: middle;\n",
       "    }\n",
       "\n",
       "    .dataframe tbody tr th {\n",
       "        vertical-align: top;\n",
       "    }\n",
       "\n",
       "    .dataframe thead th {\n",
       "        text-align: right;\n",
       "    }\n",
       "</style>\n",
       "<table border=\"1\" class=\"dataframe\">\n",
       "  <thead>\n",
       "    <tr style=\"text-align: right;\">\n",
       "      <th></th>\n",
       "      <th>store_sales_thousands</th>\n",
       "      <th>franchised</th>\n",
       "      <th>company_stores</th>\n",
       "      <th>store_count</th>\n",
       "      <th>store_count_change</th>\n",
       "      <th>positive_store_count</th>\n",
       "      <th>positive_growth</th>\n",
       "      <th>sales_in_thousands</th>\n",
       "    </tr>\n",
       "    <tr>\n",
       "      <th>chain</th>\n",
       "      <th></th>\n",
       "      <th></th>\n",
       "      <th></th>\n",
       "      <th></th>\n",
       "      <th></th>\n",
       "      <th></th>\n",
       "      <th></th>\n",
       "      <th></th>\n",
       "    </tr>\n",
       "  </thead>\n",
       "  <tbody>\n",
       "    <tr>\n",
       "      <th>Chick-fil-A</th>\n",
       "      <td>6100</td>\n",
       "      <td>2650</td>\n",
       "      <td>82</td>\n",
       "      <td>2732</td>\n",
       "      <td>155</td>\n",
       "      <td>True</td>\n",
       "      <td>1</td>\n",
       "      <td>16700000</td>\n",
       "    </tr>\n",
       "    <tr>\n",
       "      <th>Raising Cane’s</th>\n",
       "      <td>4893</td>\n",
       "      <td>23</td>\n",
       "      <td>544</td>\n",
       "      <td>567</td>\n",
       "      <td>58</td>\n",
       "      <td>True</td>\n",
       "      <td>1</td>\n",
       "      <td>2377000</td>\n",
       "    </tr>\n",
       "    <tr>\n",
       "      <th>Krispy Kreme</th>\n",
       "      <td>4000</td>\n",
       "      <td>51</td>\n",
       "      <td>307</td>\n",
       "      <td>358</td>\n",
       "      <td>6</td>\n",
       "      <td>True</td>\n",
       "      <td>1</td>\n",
       "      <td>996000</td>\n",
       "    </tr>\n",
       "    <tr>\n",
       "      <th>Shake Shack</th>\n",
       "      <td>3679</td>\n",
       "      <td>25</td>\n",
       "      <td>218</td>\n",
       "      <td>243</td>\n",
       "      <td>38</td>\n",
       "      <td>True</td>\n",
       "      <td>1</td>\n",
       "      <td>777000</td>\n",
       "    </tr>\n",
       "    <tr>\n",
       "      <th>Whataburger</th>\n",
       "      <td>3640</td>\n",
       "      <td>131</td>\n",
       "      <td>742</td>\n",
       "      <td>873</td>\n",
       "      <td>29</td>\n",
       "      <td>True</td>\n",
       "      <td>1</td>\n",
       "      <td>3089000</td>\n",
       "    </tr>\n",
       "  </tbody>\n",
       "</table>\n",
       "</div>"
      ],
      "text/plain": [
       "                store_sales_thousands  franchised  company_stores  \\\n",
       "chain                                                               \n",
       "Chick-fil-A                      6100        2650              82   \n",
       "Raising Cane’s                   4893          23             544   \n",
       "Krispy Kreme                     4000          51             307   \n",
       "Shake Shack                      3679          25             218   \n",
       "Whataburger                      3640         131             742   \n",
       "\n",
       "                store_count  store_count_change  positive_store_count  \\\n",
       "chain                                                                   \n",
       "Chick-fil-A            2732                 155                  True   \n",
       "Raising Cane’s          567                  58                  True   \n",
       "Krispy Kreme            358                   6                  True   \n",
       "Shake Shack             243                  38                  True   \n",
       "Whataburger             873                  29                  True   \n",
       "\n",
       "                positive_growth  sales_in_thousands  \n",
       "chain                                                \n",
       "Chick-fil-A                   1            16700000  \n",
       "Raising Cane’s                1             2377000  \n",
       "Krispy Kreme                  1              996000  \n",
       "Shake Shack                   1              777000  \n",
       "Whataburger                   1             3089000  "
      ]
     },
     "execution_count": 27,
     "metadata": {},
     "output_type": "execute_result"
    }
   ],
   "source": [
    "df.sort_values(by=['store_sales_thousands', 'chain'], ascending=[False, True]).head()"
   ]
  },
  {
   "cell_type": "markdown",
   "id": "cd594d29",
   "metadata": {},
   "source": [
    "Create a series that truncates the store count. Round store count to 5000 and 500 respectively for companies with more and less than those values"
   ]
  },
  {
   "cell_type": "code",
   "execution_count": 28,
   "id": "87614642",
   "metadata": {},
   "outputs": [
    {
     "data": {
      "text/plain": [
       "chain\n",
       "El Pollo Loco                              500\n",
       "Papa Johns                                3164\n",
       "QDOBA                                      739\n",
       "Freddy’s Frozen Custard & Steakburgers     500\n",
       "Tropical Smoothie Cafe                    1039\n",
       "Hardee’s                                  1734\n",
       "Jack in the Box                           2218\n",
       "Wendy's                                   5000\n",
       "Carl’s Jr.                                1058\n",
       "Pizza Hut                                 5000\n",
       "Name: store_count, dtype: int64"
      ]
     },
     "execution_count": 28,
     "metadata": {},
     "output_type": "execute_result"
    }
   ],
   "source": [
    "df.store_count.clip(lower=500, upper=5000).sample(10)"
   ]
  },
  {
   "cell_type": "markdown",
   "id": "fb3d6f7a",
   "metadata": {},
   "source": [
    "Get all the companies with sales above the mean sales"
   ]
  },
  {
   "cell_type": "code",
   "execution_count": 29,
   "id": "5c467927",
   "metadata": {},
   "outputs": [
    {
     "data": {
      "text/html": [
       "<div>\n",
       "<style scoped>\n",
       "    .dataframe tbody tr th:only-of-type {\n",
       "        vertical-align: middle;\n",
       "    }\n",
       "\n",
       "    .dataframe tbody tr th {\n",
       "        vertical-align: top;\n",
       "    }\n",
       "\n",
       "    .dataframe thead th {\n",
       "        text-align: right;\n",
       "    }\n",
       "</style>\n",
       "<table border=\"1\" class=\"dataframe\">\n",
       "  <thead>\n",
       "    <tr style=\"text-align: right;\">\n",
       "      <th></th>\n",
       "      <th>store_sales_thousands</th>\n",
       "      <th>franchised</th>\n",
       "      <th>company_stores</th>\n",
       "      <th>store_count</th>\n",
       "      <th>store_count_change</th>\n",
       "      <th>positive_store_count</th>\n",
       "      <th>positive_growth</th>\n",
       "      <th>sales_in_thousands</th>\n",
       "    </tr>\n",
       "    <tr>\n",
       "      <th>chain</th>\n",
       "      <th></th>\n",
       "      <th></th>\n",
       "      <th></th>\n",
       "      <th></th>\n",
       "      <th></th>\n",
       "      <th></th>\n",
       "      <th></th>\n",
       "      <th></th>\n",
       "    </tr>\n",
       "  </thead>\n",
       "  <tbody>\n",
       "    <tr>\n",
       "      <th>Arby’s</th>\n",
       "      <td>1309</td>\n",
       "      <td>2293</td>\n",
       "      <td>1116</td>\n",
       "      <td>3409</td>\n",
       "      <td>40</td>\n",
       "      <td>True</td>\n",
       "      <td>1</td>\n",
       "      <td>4462000</td>\n",
       "    </tr>\n",
       "    <tr>\n",
       "      <th>Baskin-Robbins</th>\n",
       "      <td>296</td>\n",
       "      <td>2317</td>\n",
       "      <td>0</td>\n",
       "      <td>2317</td>\n",
       "      <td>102</td>\n",
       "      <td>True</td>\n",
       "      <td>1</td>\n",
       "      <td>686000</td>\n",
       "    </tr>\n",
       "    <tr>\n",
       "      <th>Bojangles</th>\n",
       "      <td>1924</td>\n",
       "      <td>496</td>\n",
       "      <td>277</td>\n",
       "      <td>773</td>\n",
       "      <td>15</td>\n",
       "      <td>True</td>\n",
       "      <td>1</td>\n",
       "      <td>1485000</td>\n",
       "    </tr>\n",
       "    <tr>\n",
       "      <th>Carl’s Jr.</th>\n",
       "      <td>1400</td>\n",
       "      <td>1011</td>\n",
       "      <td>47</td>\n",
       "      <td>1058</td>\n",
       "      <td>-21</td>\n",
       "      <td>True</td>\n",
       "      <td>1</td>\n",
       "      <td>1560000</td>\n",
       "    </tr>\n",
       "    <tr>\n",
       "      <th>Checkers/Rally’s</th>\n",
       "      <td>1145</td>\n",
       "      <td>568</td>\n",
       "      <td>266</td>\n",
       "      <td>834</td>\n",
       "      <td>-13</td>\n",
       "      <td>True</td>\n",
       "      <td>1</td>\n",
       "      <td>931000</td>\n",
       "    </tr>\n",
       "  </tbody>\n",
       "</table>\n",
       "</div>"
      ],
      "text/plain": [
       "                  store_sales_thousands  franchised  company_stores  \\\n",
       "chain                                                                 \n",
       "Arby’s                             1309        2293            1116   \n",
       "Baskin-Robbins                      296        2317               0   \n",
       "Bojangles                          1924         496             277   \n",
       "Carl’s Jr.                         1400        1011              47   \n",
       "Checkers/Rally’s                   1145         568             266   \n",
       "\n",
       "                  store_count  store_count_change  positive_store_count  \\\n",
       "chain                                                                     \n",
       "Arby’s                   3409                  40                  True   \n",
       "Baskin-Robbins           2317                 102                  True   \n",
       "Bojangles                 773                  15                  True   \n",
       "Carl’s Jr.               1058                 -21                  True   \n",
       "Checkers/Rally’s          834                 -13                  True   \n",
       "\n",
       "                  positive_growth  sales_in_thousands  \n",
       "chain                                                  \n",
       "Arby’s                          1             4462000  \n",
       "Baskin-Robbins                  1              686000  \n",
       "Bojangles                       1             1485000  \n",
       "Carl’s Jr.                      1             1560000  \n",
       "Checkers/Rally’s                1              931000  "
      ]
     },
     "execution_count": 29,
     "metadata": {},
     "output_type": "execute_result"
    }
   ],
   "source": [
    "df.loc[df.sales_in_thousands.mean() > df.sales_in_thousands].head()"
   ]
  },
  {
   "cell_type": "markdown",
   "id": "ba52709b",
   "metadata": {},
   "source": [
    "Create a list of chains that have over 80% franchised and over 80% company owned then sort by Revenue"
   ]
  },
  {
   "cell_type": "code",
   "execution_count": 30,
   "id": "e9083d8d",
   "metadata": {},
   "outputs": [
    {
     "data": {
      "text/html": [
       "<div>\n",
       "<style scoped>\n",
       "    .dataframe tbody tr th:only-of-type {\n",
       "        vertical-align: middle;\n",
       "    }\n",
       "\n",
       "    .dataframe tbody tr th {\n",
       "        vertical-align: top;\n",
       "    }\n",
       "\n",
       "    .dataframe thead th {\n",
       "        text-align: right;\n",
       "    }\n",
       "</style>\n",
       "<table border=\"1\" class=\"dataframe\">\n",
       "  <thead>\n",
       "    <tr style=\"text-align: right;\">\n",
       "      <th></th>\n",
       "      <th>store_sales_thousands</th>\n",
       "      <th>franchised</th>\n",
       "      <th>company_stores</th>\n",
       "      <th>store_count</th>\n",
       "      <th>store_count_change</th>\n",
       "      <th>positive_store_count</th>\n",
       "      <th>positive_growth</th>\n",
       "      <th>sales_in_thousands</th>\n",
       "    </tr>\n",
       "    <tr>\n",
       "      <th>chain</th>\n",
       "      <th></th>\n",
       "      <th></th>\n",
       "      <th></th>\n",
       "      <th></th>\n",
       "      <th></th>\n",
       "      <th></th>\n",
       "      <th></th>\n",
       "      <th></th>\n",
       "    </tr>\n",
       "  </thead>\n",
       "  <tbody>\n",
       "    <tr>\n",
       "      <th>Starbucks</th>\n",
       "      <td>1200</td>\n",
       "      <td>6497</td>\n",
       "      <td>8953</td>\n",
       "      <td>15450</td>\n",
       "      <td>113</td>\n",
       "      <td>True</td>\n",
       "      <td>1</td>\n",
       "      <td>24300000</td>\n",
       "    </tr>\n",
       "    <tr>\n",
       "      <th>Panera Bread</th>\n",
       "      <td>2700</td>\n",
       "      <td>1130</td>\n",
       "      <td>950</td>\n",
       "      <td>2080</td>\n",
       "      <td>-25</td>\n",
       "      <td>True</td>\n",
       "      <td>1</td>\n",
       "      <td>5650000</td>\n",
       "    </tr>\n",
       "    <tr>\n",
       "      <th>Arby’s</th>\n",
       "      <td>1309</td>\n",
       "      <td>2293</td>\n",
       "      <td>1116</td>\n",
       "      <td>3409</td>\n",
       "      <td>40</td>\n",
       "      <td>True</td>\n",
       "      <td>1</td>\n",
       "      <td>4462000</td>\n",
       "    </tr>\n",
       "    <tr>\n",
       "      <th>Five Guys</th>\n",
       "      <td>3172</td>\n",
       "      <td>911</td>\n",
       "      <td>479</td>\n",
       "      <td>1390</td>\n",
       "      <td>8</td>\n",
       "      <td>True</td>\n",
       "      <td>1</td>\n",
       "      <td>2093000</td>\n",
       "    </tr>\n",
       "    <tr>\n",
       "      <th>Bojangles</th>\n",
       "      <td>1924</td>\n",
       "      <td>496</td>\n",
       "      <td>277</td>\n",
       "      <td>773</td>\n",
       "      <td>15</td>\n",
       "      <td>True</td>\n",
       "      <td>1</td>\n",
       "      <td>1485000</td>\n",
       "    </tr>\n",
       "    <tr>\n",
       "      <th>El Pollo Loco</th>\n",
       "      <td>2000</td>\n",
       "      <td>292</td>\n",
       "      <td>189</td>\n",
       "      <td>481</td>\n",
       "      <td>1</td>\n",
       "      <td>True</td>\n",
       "      <td>1</td>\n",
       "      <td>973000</td>\n",
       "    </tr>\n",
       "    <tr>\n",
       "      <th>Checkers/Rally’s</th>\n",
       "      <td>1145</td>\n",
       "      <td>568</td>\n",
       "      <td>266</td>\n",
       "      <td>834</td>\n",
       "      <td>-13</td>\n",
       "      <td>True</td>\n",
       "      <td>1</td>\n",
       "      <td>931000</td>\n",
       "    </tr>\n",
       "    <tr>\n",
       "      <th>Del Taco</th>\n",
       "      <td>1551</td>\n",
       "      <td>306</td>\n",
       "      <td>294</td>\n",
       "      <td>600</td>\n",
       "      <td>4</td>\n",
       "      <td>True</td>\n",
       "      <td>1</td>\n",
       "      <td>931000</td>\n",
       "    </tr>\n",
       "    <tr>\n",
       "      <th>QDOBA</th>\n",
       "      <td>1006</td>\n",
       "      <td>406</td>\n",
       "      <td>333</td>\n",
       "      <td>739</td>\n",
       "      <td>2</td>\n",
       "      <td>True</td>\n",
       "      <td>1</td>\n",
       "      <td>835000</td>\n",
       "    </tr>\n",
       "  </tbody>\n",
       "</table>\n",
       "</div>"
      ],
      "text/plain": [
       "                  store_sales_thousands  franchised  company_stores  \\\n",
       "chain                                                                 \n",
       "Starbucks                          1200        6497            8953   \n",
       "Panera Bread                       2700        1130             950   \n",
       "Arby’s                             1309        2293            1116   \n",
       "Five Guys                          3172         911             479   \n",
       "Bojangles                          1924         496             277   \n",
       "El Pollo Loco                      2000         292             189   \n",
       "Checkers/Rally’s                   1145         568             266   \n",
       "Del Taco                           1551         306             294   \n",
       "QDOBA                              1006         406             333   \n",
       "\n",
       "                  store_count  store_count_change  positive_store_count  \\\n",
       "chain                                                                     \n",
       "Starbucks               15450                 113                  True   \n",
       "Panera Bread             2080                 -25                  True   \n",
       "Arby’s                   3409                  40                  True   \n",
       "Five Guys                1390                   8                  True   \n",
       "Bojangles                 773                  15                  True   \n",
       "El Pollo Loco             481                   1                  True   \n",
       "Checkers/Rally’s          834                 -13                  True   \n",
       "Del Taco                  600                   4                  True   \n",
       "QDOBA                     739                   2                  True   \n",
       "\n",
       "                  positive_growth  sales_in_thousands  \n",
       "chain                                                  \n",
       "Starbucks                       1            24300000  \n",
       "Panera Bread                    1             5650000  \n",
       "Arby’s                          1             4462000  \n",
       "Five Guys                       1             2093000  \n",
       "Bojangles                       1             1485000  \n",
       "El Pollo Loco                   1              973000  \n",
       "Checkers/Rally’s                1              931000  \n",
       "Del Taco                        1              931000  \n",
       "QDOBA                           1              835000  "
      ]
     },
     "execution_count": 30,
     "metadata": {},
     "output_type": "execute_result"
    }
   ],
   "source": [
    "df.loc[(.8 > (df.franchised / df.store_count)) & (.8 > (df.company_stores / df.store_count))].sort_values(by='sales_in_thousands', ascending=False)"
   ]
  },
  {
   "cell_type": "markdown",
   "id": "5e1093cc",
   "metadata": {},
   "source": [
    "Display the chains with more than 3000 (thousands) in sales and a store count of at least 500"
   ]
  },
  {
   "cell_type": "code",
   "execution_count": 31,
   "id": "e86df990",
   "metadata": {},
   "outputs": [
    {
     "data": {
      "text/html": [
       "<div>\n",
       "<style scoped>\n",
       "    .dataframe tbody tr th:only-of-type {\n",
       "        vertical-align: middle;\n",
       "    }\n",
       "\n",
       "    .dataframe tbody tr th {\n",
       "        vertical-align: top;\n",
       "    }\n",
       "\n",
       "    .dataframe thead th {\n",
       "        text-align: right;\n",
       "    }\n",
       "</style>\n",
       "<table border=\"1\" class=\"dataframe\">\n",
       "  <thead>\n",
       "    <tr style=\"text-align: right;\">\n",
       "      <th></th>\n",
       "      <th>store_sales_thousands</th>\n",
       "      <th>franchised</th>\n",
       "      <th>company_stores</th>\n",
       "      <th>store_count</th>\n",
       "      <th>store_count_change</th>\n",
       "      <th>positive_store_count</th>\n",
       "      <th>positive_growth</th>\n",
       "      <th>sales_in_thousands</th>\n",
       "    </tr>\n",
       "    <tr>\n",
       "      <th>chain</th>\n",
       "      <th></th>\n",
       "      <th></th>\n",
       "      <th></th>\n",
       "      <th></th>\n",
       "      <th></th>\n",
       "      <th></th>\n",
       "      <th></th>\n",
       "      <th></th>\n",
       "    </tr>\n",
       "  </thead>\n",
       "  <tbody>\n",
       "    <tr>\n",
       "      <th>Chick-fil-A</th>\n",
       "      <td>6100</td>\n",
       "      <td>2650</td>\n",
       "      <td>82</td>\n",
       "      <td>2732</td>\n",
       "      <td>155</td>\n",
       "      <td>True</td>\n",
       "      <td>1</td>\n",
       "      <td>16700000</td>\n",
       "    </tr>\n",
       "    <tr>\n",
       "      <th>Culver’s</th>\n",
       "      <td>3099</td>\n",
       "      <td>831</td>\n",
       "      <td>6</td>\n",
       "      <td>837</td>\n",
       "      <td>55</td>\n",
       "      <td>True</td>\n",
       "      <td>1</td>\n",
       "      <td>2489000</td>\n",
       "    </tr>\n",
       "    <tr>\n",
       "      <th>Five Guys</th>\n",
       "      <td>3172</td>\n",
       "      <td>911</td>\n",
       "      <td>479</td>\n",
       "      <td>1390</td>\n",
       "      <td>8</td>\n",
       "      <td>True</td>\n",
       "      <td>1</td>\n",
       "      <td>2093000</td>\n",
       "    </tr>\n",
       "    <tr>\n",
       "      <th>McDonald’s</th>\n",
       "      <td>3420</td>\n",
       "      <td>12775</td>\n",
       "      <td>663</td>\n",
       "      <td>13438</td>\n",
       "      <td>244</td>\n",
       "      <td>True</td>\n",
       "      <td>1</td>\n",
       "      <td>45960000</td>\n",
       "    </tr>\n",
       "    <tr>\n",
       "      <th>Raising Cane’s</th>\n",
       "      <td>4893</td>\n",
       "      <td>23</td>\n",
       "      <td>544</td>\n",
       "      <td>567</td>\n",
       "      <td>58</td>\n",
       "      <td>True</td>\n",
       "      <td>1</td>\n",
       "      <td>2377000</td>\n",
       "    </tr>\n",
       "    <tr>\n",
       "      <th>Whataburger</th>\n",
       "      <td>3640</td>\n",
       "      <td>131</td>\n",
       "      <td>742</td>\n",
       "      <td>873</td>\n",
       "      <td>29</td>\n",
       "      <td>True</td>\n",
       "      <td>1</td>\n",
       "      <td>3089000</td>\n",
       "    </tr>\n",
       "  </tbody>\n",
       "</table>\n",
       "</div>"
      ],
      "text/plain": [
       "                store_sales_thousands  franchised  company_stores  \\\n",
       "chain                                                               \n",
       "Chick-fil-A                      6100        2650              82   \n",
       "Culver’s                         3099         831               6   \n",
       "Five Guys                        3172         911             479   \n",
       "McDonald’s                       3420       12775             663   \n",
       "Raising Cane’s                   4893          23             544   \n",
       "Whataburger                      3640         131             742   \n",
       "\n",
       "                store_count  store_count_change  positive_store_count  \\\n",
       "chain                                                                   \n",
       "Chick-fil-A            2732                 155                  True   \n",
       "Culver’s                837                  55                  True   \n",
       "Five Guys              1390                   8                  True   \n",
       "McDonald’s            13438                 244                  True   \n",
       "Raising Cane’s          567                  58                  True   \n",
       "Whataburger             873                  29                  True   \n",
       "\n",
       "                positive_growth  sales_in_thousands  \n",
       "chain                                                \n",
       "Chick-fil-A                   1            16700000  \n",
       "Culver’s                      1             2489000  \n",
       "Five Guys                     1             2093000  \n",
       "McDonald’s                    1            45960000  \n",
       "Raising Cane’s                1             2377000  \n",
       "Whataburger                   1             3089000  "
      ]
     },
     "execution_count": 31,
     "metadata": {},
     "output_type": "execute_result"
    }
   ],
   "source": [
    "df[((df.store_sales_thousands > 3000) & (df.store_count > 500))]"
   ]
  },
  {
   "cell_type": "markdown",
   "id": "953f37c7",
   "metadata": {},
   "source": [
    "Find the companies that are in the 80% for sales and 80% for store counts"
   ]
  },
  {
   "cell_type": "code",
   "execution_count": 32,
   "id": "9d0b3ac9",
   "metadata": {},
   "outputs": [
    {
     "data": {
      "text/html": [
       "<div>\n",
       "<style scoped>\n",
       "    .dataframe tbody tr th:only-of-type {\n",
       "        vertical-align: middle;\n",
       "    }\n",
       "\n",
       "    .dataframe tbody tr th {\n",
       "        vertical-align: top;\n",
       "    }\n",
       "\n",
       "    .dataframe thead th {\n",
       "        text-align: right;\n",
       "    }\n",
       "</style>\n",
       "<table border=\"1\" class=\"dataframe\">\n",
       "  <thead>\n",
       "    <tr style=\"text-align: right;\">\n",
       "      <th></th>\n",
       "      <th>store_sales_thousands</th>\n",
       "      <th>franchised</th>\n",
       "      <th>company_stores</th>\n",
       "      <th>store_count</th>\n",
       "      <th>store_count_change</th>\n",
       "      <th>positive_store_count</th>\n",
       "      <th>positive_growth</th>\n",
       "      <th>sales_in_thousands</th>\n",
       "    </tr>\n",
       "    <tr>\n",
       "      <th>chain</th>\n",
       "      <th></th>\n",
       "      <th></th>\n",
       "      <th></th>\n",
       "      <th></th>\n",
       "      <th></th>\n",
       "      <th></th>\n",
       "      <th></th>\n",
       "      <th></th>\n",
       "    </tr>\n",
       "  </thead>\n",
       "  <tbody>\n",
       "    <tr>\n",
       "      <th>Burger King</th>\n",
       "      <td>1470</td>\n",
       "      <td>7054</td>\n",
       "      <td>51</td>\n",
       "      <td>7105</td>\n",
       "      <td>24</td>\n",
       "      <td>True</td>\n",
       "      <td>1</td>\n",
       "      <td>10033000</td>\n",
       "    </tr>\n",
       "    <tr>\n",
       "      <th>Domino's</th>\n",
       "      <td>1317</td>\n",
       "      <td>6185</td>\n",
       "      <td>375</td>\n",
       "      <td>6560</td>\n",
       "      <td>205</td>\n",
       "      <td>True</td>\n",
       "      <td>1</td>\n",
       "      <td>8641000</td>\n",
       "    </tr>\n",
       "    <tr>\n",
       "      <th>Dunkin'</th>\n",
       "      <td>1127</td>\n",
       "      <td>9244</td>\n",
       "      <td>0</td>\n",
       "      <td>9244</td>\n",
       "      <td>161</td>\n",
       "      <td>True</td>\n",
       "      <td>1</td>\n",
       "      <td>10416000</td>\n",
       "    </tr>\n",
       "    <tr>\n",
       "      <th>McDonald’s</th>\n",
       "      <td>3420</td>\n",
       "      <td>12775</td>\n",
       "      <td>663</td>\n",
       "      <td>13438</td>\n",
       "      <td>244</td>\n",
       "      <td>True</td>\n",
       "      <td>1</td>\n",
       "      <td>45960000</td>\n",
       "    </tr>\n",
       "    <tr>\n",
       "      <th>Starbucks</th>\n",
       "      <td>1200</td>\n",
       "      <td>6497</td>\n",
       "      <td>8953</td>\n",
       "      <td>15450</td>\n",
       "      <td>113</td>\n",
       "      <td>True</td>\n",
       "      <td>1</td>\n",
       "      <td>24300000</td>\n",
       "    </tr>\n",
       "    <tr>\n",
       "      <th>Subway</th>\n",
       "      <td>438</td>\n",
       "      <td>21147</td>\n",
       "      <td>0</td>\n",
       "      <td>21147</td>\n",
       "      <td>-1043</td>\n",
       "      <td>True</td>\n",
       "      <td>1</td>\n",
       "      <td>9350000</td>\n",
       "    </tr>\n",
       "    <tr>\n",
       "      <th>Taco Bell</th>\n",
       "      <td>1823</td>\n",
       "      <td>6540</td>\n",
       "      <td>462</td>\n",
       "      <td>7002</td>\n",
       "      <td>203</td>\n",
       "      <td>True</td>\n",
       "      <td>1</td>\n",
       "      <td>12600000</td>\n",
       "    </tr>\n",
       "    <tr>\n",
       "      <th>Wendy's</th>\n",
       "      <td>1895</td>\n",
       "      <td>5535</td>\n",
       "      <td>403</td>\n",
       "      <td>5938</td>\n",
       "      <td>57</td>\n",
       "      <td>True</td>\n",
       "      <td>1</td>\n",
       "      <td>11111000</td>\n",
       "    </tr>\n",
       "  </tbody>\n",
       "</table>\n",
       "</div>"
      ],
      "text/plain": [
       "             store_sales_thousands  franchised  company_stores  store_count  \\\n",
       "chain                                                                         \n",
       "Burger King                   1470        7054              51         7105   \n",
       "Domino's                      1317        6185             375         6560   \n",
       "Dunkin'                       1127        9244               0         9244   \n",
       "McDonald’s                    3420       12775             663        13438   \n",
       "Starbucks                     1200        6497            8953        15450   \n",
       "Subway                         438       21147               0        21147   \n",
       "Taco Bell                     1823        6540             462         7002   \n",
       "Wendy's                       1895        5535             403         5938   \n",
       "\n",
       "             store_count_change  positive_store_count  positive_growth  \\\n",
       "chain                                                                    \n",
       "Burger King                  24                  True                1   \n",
       "Domino's                    205                  True                1   \n",
       "Dunkin'                     161                  True                1   \n",
       "McDonald’s                  244                  True                1   \n",
       "Starbucks                   113                  True                1   \n",
       "Subway                    -1043                  True                1   \n",
       "Taco Bell                   203                  True                1   \n",
       "Wendy's                      57                  True                1   \n",
       "\n",
       "             sales_in_thousands  \n",
       "chain                            \n",
       "Burger King            10033000  \n",
       "Domino's                8641000  \n",
       "Dunkin'                10416000  \n",
       "McDonald’s             45960000  \n",
       "Starbucks              24300000  \n",
       "Subway                  9350000  \n",
       "Taco Bell              12600000  \n",
       "Wendy's                11111000  "
      ]
     },
     "execution_count": 32,
     "metadata": {},
     "output_type": "execute_result"
    }
   ],
   "source": [
    "df[((df.sales_in_thousands > df.sales_in_thousands.quantile(.8)) &\n",
    " (df.store_count > df.store_count.quantile(.8)))]"
   ]
  },
  {
   "cell_type": "code",
   "execution_count": 33,
   "id": "affe3337",
   "metadata": {},
   "outputs": [],
   "source": [
    "# df['artist_count']=(df['artists'].str.count(',').fillna(-1).astype(int) + 1)"
   ]
  },
  {
   "cell_type": "code",
   "execution_count": null,
   "id": "4bad8b92",
   "metadata": {},
   "outputs": [],
   "source": [
    "# df.dropna().drop([...]).rename([...]).sort_values().head() CHAINING EXAMPLE\n",
    "# df.drop(df.loc[df[\"Revenue\"] < 80_000].index).sort_values(by='Revenue')\n",
    "# df.drop(df.loc[df.Revenue < df.Revenue.mean()].index)\n",
    "# df_usa_only = df.drop(df.loc[(~df['Is American?'])].index) is the same as df.loc[df['Is America']]\n",
    "# removing columns by dropping them and then also renaming columns are things worth looking into\n",
    "\n",
    "# datetime accessor with at .dt.year .dt.month\n",
    "# df[\"Birthday\"] = df['Birth Date'].dt.strftime(\"%m-%d\")\n"
   ]
  },
  {
   "cell_type": "markdown",
   "id": "dbc00e38",
   "metadata": {},
   "source": [
    "Replace Multiples"
   ]
  },
  {
   "cell_type": "code",
   "execution_count": 35,
   "id": "483de355",
   "metadata": {},
   "outputs": [],
   "source": [
    "# FIND A WAY TO TEST REPLACE, MULTIPLES\n",
    "# df.key.replace({\n",
    "#     0:'C', 1:'C#', 2:'D', 3:'D#', 4:'E', 5:'F', 6:'F#', 7:'G',\n",
    "#     8:'G#', 9:'A', 10:'A#', 11:'B'\n",
    "# }, inplace=True\n",
    "# )"
   ]
  },
  {
   "cell_type": "markdown",
   "id": "19687a10",
   "metadata": {},
   "source": [
    "## Questions created by ChatGPT from easy to difficult\n",
    "Following is a list of 30 questions produced by ChatGPT to practice my understanding of Pandas"
   ]
  },
  {
   "cell_type": "markdown",
   "id": "a697ed09",
   "metadata": {},
   "source": [
    "1.\tGet the Series of fast-food chain names."
   ]
  },
  {
   "cell_type": "code",
   "execution_count": 36,
   "id": "c9b50968",
   "metadata": {},
   "outputs": [
    {
     "data": {
      "text/plain": [
       "0                                     Arby’s\n",
       "1                             Baskin-Robbins\n",
       "2                                  Bojangles\n",
       "3                                Burger King\n",
       "4                                 Carl’s Jr.\n",
       "5                           Checkers/Rally’s\n",
       "6                                Chick-fil-A\n",
       "7                                   Chipotle\n",
       "8                           Church’s Chicken\n",
       "9                                   Culver’s\n",
       "10                               Dairy Queen\n",
       "11                                  Del Taco\n",
       "12                                  Domino's\n",
       "13                                   Dunkin'\n",
       "14                             El Pollo Loco\n",
       "15                            Firehouse Subs\n",
       "16                                 Five Guys\n",
       "17    Freddy’s Frozen Custard & Steakburgers\n",
       "18                                  Hardee’s\n",
       "19                           In-N-Out Burger\n",
       "20                           Jack in the Box\n",
       "21                             Jersey Mike’s\n",
       "22                              Jimmy John’s\n",
       "23                                       KFC\n",
       "24                              Krispy Kreme\n",
       "25                            Little Caesars\n",
       "26                             Marco’s Pizza\n",
       "27                          McAlister’s Deli\n",
       "28                                McDonald’s\n",
       "29                     Moe’s Southwest Grill\n",
       "30                             Panda Express\n",
       "31                              Panera Bread\n",
       "32                                Papa Johns\n",
       "33                             Papa Murphy’s\n",
       "34                                 Pizza Hut\n",
       "35                 Popeyes Louisiana Kitchen\n",
       "36                                     QDOBA\n",
       "37                            Raising Cane’s\n",
       "38                               Shake Shack\n",
       "39                            Sonic Drive-In\n",
       "40                                 Starbucks\n",
       "41                                    Subway\n",
       "42                                 Taco Bell\n",
       "43                               Tim Hortons\n",
       "44                    Tropical Smoothie Cafe\n",
       "45                                   Wendy's\n",
       "46                               Whataburger\n",
       "47                              White Castle\n",
       "48                                  Wingstop\n",
       "49                                   Zaxby’s\n",
       "Name: chain, dtype: object"
      ]
     },
     "execution_count": 36,
     "metadata": {},
     "output_type": "execute_result"
    }
   ],
   "source": [
    "pd.Series(df.index)"
   ]
  },
  {
   "cell_type": "markdown",
   "id": "7470462b",
   "metadata": {},
   "source": [
    "2.\tCount the number of null values in each column."
   ]
  },
  {
   "cell_type": "code",
   "execution_count": 37,
   "id": "7e84e0c9",
   "metadata": {},
   "outputs": [
    {
     "data": {
      "text/plain": [
       "store_sales_thousands    0\n",
       "franchised               0\n",
       "company_stores           0\n",
       "store_count              0\n",
       "store_count_change       0\n",
       "positive_store_count     0\n",
       "positive_growth          0\n",
       "sales_in_thousands       0\n",
       "dtype: int64"
      ]
     },
     "execution_count": 37,
     "metadata": {},
     "output_type": "execute_result"
    }
   ],
   "source": [
    "df.isnull().sum()"
   ]
  },
  {
   "cell_type": "code",
   "execution_count": 38,
   "id": "451281a3",
   "metadata": {},
   "outputs": [
    {
     "data": {
      "text/plain": [
       "np.int64(0)"
      ]
     },
     "execution_count": 38,
     "metadata": {},
     "output_type": "execute_result"
    }
   ],
   "source": [
    "# Sum of all nulled values\n",
    "df.isnull().sum().sum()"
   ]
  },
  {
   "cell_type": "markdown",
   "id": "17aa5013",
   "metadata": {},
   "source": [
    "3.\tGet the Series of total U.S. sales."
   ]
  },
  {
   "cell_type": "code",
   "execution_count": 39,
   "id": "c97a4e38",
   "metadata": {},
   "outputs": [],
   "source": [
    "total_sales=df.sales_in_thousands"
   ]
  },
  {
   "cell_type": "code",
   "execution_count": 40,
   "id": "54141744",
   "metadata": {},
   "outputs": [
    {
     "data": {
      "text/plain": [
       "count    5.000000e+01\n",
       "mean     4.965060e+06\n",
       "std      7.531439e+06\n",
       "min      6.150000e+05\n",
       "25%      9.352500e+05\n",
       "50%      2.289500e+06\n",
       "75%      5.400000e+06\n",
       "max      4.596000e+07\n",
       "Name: sales_in_thousands, dtype: float64"
      ]
     },
     "execution_count": 40,
     "metadata": {},
     "output_type": "execute_result"
    }
   ],
   "source": [
    "total_sales.describe()"
   ]
  },
  {
   "cell_type": "markdown",
   "id": "30adb34d",
   "metadata": {},
   "source": [
    "4.\tFind the maximum sales value."
   ]
  },
  {
   "cell_type": "code",
   "execution_count": 41,
   "id": "e9d0631e",
   "metadata": {},
   "outputs": [
    {
     "data": {
      "text/plain": [
       "np.int64(45960000)"
      ]
     },
     "execution_count": 41,
     "metadata": {},
     "output_type": "execute_result"
    }
   ],
   "source": [
    "total_sales.max()"
   ]
  },
  {
   "cell_type": "markdown",
   "id": "4d53fc8e",
   "metadata": {},
   "source": [
    "5.\tFind the chain with the minimum number of store counts."
   ]
  },
  {
   "cell_type": "code",
   "execution_count": 42,
   "id": "297cfa7c",
   "metadata": {},
   "outputs": [
    {
     "data": {
      "text/plain": [
       "np.int64(243)"
      ]
     },
     "execution_count": 42,
     "metadata": {},
     "output_type": "execute_result"
    }
   ],
   "source": [
    "df.store_count.min()"
   ]
  },
  {
   "cell_type": "markdown",
   "id": "cccc913d",
   "metadata": {},
   "source": [
    "6.\tGet a Series showing whether each chain is American."
   ]
  },
  {
   "cell_type": "code",
   "execution_count": null,
   "id": "610cee08",
   "metadata": {},
   "outputs": [],
   "source": []
  },
  {
   "cell_type": "markdown",
   "id": "9c57512b",
   "metadata": {},
   "source": [
    "7.\tGet a boolean Series with sales greater than five billion?"
   ]
  },
  {
   "cell_type": "code",
   "execution_count": 43,
   "id": "9ef3938a",
   "metadata": {},
   "outputs": [],
   "source": [
    "over_5_b_sales=df[df.sales_in_thousands > 5000000]"
   ]
  },
  {
   "cell_type": "markdown",
   "id": "425c3d88",
   "metadata": {},
   "source": [
    "8.\tCount how many companies sell over 5 billion."
   ]
  },
  {
   "cell_type": "code",
   "execution_count": 44,
   "id": "716f0649",
   "metadata": {},
   "outputs": [
    {
     "data": {
      "text/plain": [
       "(14, 8)"
      ]
     },
     "execution_count": 44,
     "metadata": {},
     "output_type": "execute_result"
    }
   ],
   "source": [
    "over_5_b_sales.shape"
   ]
  },
  {
   "cell_type": "markdown",
   "id": "56887b46",
   "metadata": {},
   "source": [
    "9.\tDrop the five franchises with the lowest overall sales"
   ]
  },
  {
   "cell_type": "code",
   "execution_count": 45,
   "id": "a0f6f625",
   "metadata": {},
   "outputs": [],
   "source": [
    "lowest_franchises=df.sort_values(by='sales_in_thousands').head().index"
   ]
  },
  {
   "cell_type": "code",
   "execution_count": 46,
   "id": "074d920b",
   "metadata": {},
   "outputs": [],
   "source": [
    "df.drop(lowest_franchises, inplace=True)"
   ]
  },
  {
   "cell_type": "markdown",
   "id": "b3fe6d34",
   "metadata": {},
   "source": [
    "10.\tFind the average number of stores."
   ]
  },
  {
   "cell_type": "code",
   "execution_count": 47,
   "id": "aba415f5",
   "metadata": {},
   "outputs": [
    {
     "data": {
      "text/plain": [
       "np.float64(3421.9555555555557)"
      ]
     },
     "execution_count": 47,
     "metadata": {},
     "output_type": "execute_result"
    }
   ],
   "source": [
    "df.store_count.mean()"
   ]
  },
  {
   "cell_type": "code",
   "execution_count": 48,
   "id": "923fa7cc",
   "metadata": {},
   "outputs": [
    {
     "data": {
      "text/plain": [
       "count       45.000000\n",
       "mean      3421.955556\n",
       "std       4268.291365\n",
       "min        243.000000\n",
       "25%        873.000000\n",
       "50%       2080.000000\n",
       "75%       3953.000000\n",
       "max      21147.000000\n",
       "Name: store_count, dtype: float64"
      ]
     },
     "execution_count": 48,
     "metadata": {},
     "output_type": "execute_result"
    }
   ],
   "source": [
    "df.store_count.describe()"
   ]
  },
  {
   "cell_type": "markdown",
   "id": "c3dfb517",
   "metadata": {},
   "source": [
    "11.\tGet all chain names with sales over $5B (as Series)."
   ]
  },
  {
   "cell_type": "code",
   "execution_count": 49,
   "id": "fb79d348",
   "metadata": {},
   "outputs": [
    {
     "data": {
      "text/plain": [
       "Index(['store_sales_thousands', 'franchised', 'company_stores', 'store_count',\n",
       "       'store_count_change', 'positive_store_count', 'positive_growth',\n",
       "       'sales_in_thousands'],\n",
       "      dtype='object')"
      ]
     },
     "execution_count": 49,
     "metadata": {},
     "output_type": "execute_result"
    }
   ],
   "source": [
    "df.columns"
   ]
  },
  {
   "cell_type": "markdown",
   "id": "c59cc989",
   "metadata": {},
   "source": [
    "12.\tSort the Series of total stores and franchises in descending and ascending orders respectively."
   ]
  },
  {
   "cell_type": "code",
   "execution_count": 50,
   "id": "106c2a38",
   "metadata": {},
   "outputs": [
    {
     "data": {
      "text/html": [
       "<div>\n",
       "<style scoped>\n",
       "    .dataframe tbody tr th:only-of-type {\n",
       "        vertical-align: middle;\n",
       "    }\n",
       "\n",
       "    .dataframe tbody tr th {\n",
       "        vertical-align: top;\n",
       "    }\n",
       "\n",
       "    .dataframe thead th {\n",
       "        text-align: right;\n",
       "    }\n",
       "</style>\n",
       "<table border=\"1\" class=\"dataframe\">\n",
       "  <thead>\n",
       "    <tr style=\"text-align: right;\">\n",
       "      <th></th>\n",
       "      <th>store_sales_thousands</th>\n",
       "      <th>franchised</th>\n",
       "      <th>company_stores</th>\n",
       "      <th>store_count</th>\n",
       "      <th>store_count_change</th>\n",
       "      <th>positive_store_count</th>\n",
       "      <th>positive_growth</th>\n",
       "      <th>sales_in_thousands</th>\n",
       "    </tr>\n",
       "    <tr>\n",
       "      <th>chain</th>\n",
       "      <th></th>\n",
       "      <th></th>\n",
       "      <th></th>\n",
       "      <th></th>\n",
       "      <th></th>\n",
       "      <th></th>\n",
       "      <th></th>\n",
       "      <th></th>\n",
       "    </tr>\n",
       "  </thead>\n",
       "  <tbody>\n",
       "    <tr>\n",
       "      <th>Shake Shack</th>\n",
       "      <td>3679</td>\n",
       "      <td>25</td>\n",
       "      <td>218</td>\n",
       "      <td>243</td>\n",
       "      <td>38</td>\n",
       "      <td>True</td>\n",
       "      <td>1</td>\n",
       "      <td>777000</td>\n",
       "    </tr>\n",
       "    <tr>\n",
       "      <th>Krispy Kreme</th>\n",
       "      <td>4000</td>\n",
       "      <td>51</td>\n",
       "      <td>307</td>\n",
       "      <td>358</td>\n",
       "      <td>6</td>\n",
       "      <td>True</td>\n",
       "      <td>1</td>\n",
       "      <td>996000</td>\n",
       "    </tr>\n",
       "    <tr>\n",
       "      <th>In-N-Out Burger</th>\n",
       "      <td>3200</td>\n",
       "      <td>0</td>\n",
       "      <td>370</td>\n",
       "      <td>370</td>\n",
       "      <td>5</td>\n",
       "      <td>True</td>\n",
       "      <td>1</td>\n",
       "      <td>1175000</td>\n",
       "    </tr>\n",
       "    <tr>\n",
       "      <th>El Pollo Loco</th>\n",
       "      <td>2000</td>\n",
       "      <td>292</td>\n",
       "      <td>189</td>\n",
       "      <td>481</td>\n",
       "      <td>1</td>\n",
       "      <td>True</td>\n",
       "      <td>1</td>\n",
       "      <td>973000</td>\n",
       "    </tr>\n",
       "    <tr>\n",
       "      <th>McAlister’s Deli</th>\n",
       "      <td>1866</td>\n",
       "      <td>472</td>\n",
       "      <td>33</td>\n",
       "      <td>505</td>\n",
       "      <td>24</td>\n",
       "      <td>True</td>\n",
       "      <td>1</td>\n",
       "      <td>869000</td>\n",
       "    </tr>\n",
       "  </tbody>\n",
       "</table>\n",
       "</div>"
      ],
      "text/plain": [
       "                  store_sales_thousands  franchised  company_stores  \\\n",
       "chain                                                                 \n",
       "Shake Shack                        3679          25             218   \n",
       "Krispy Kreme                       4000          51             307   \n",
       "In-N-Out Burger                    3200           0             370   \n",
       "El Pollo Loco                      2000         292             189   \n",
       "McAlister’s Deli                   1866         472              33   \n",
       "\n",
       "                  store_count  store_count_change  positive_store_count  \\\n",
       "chain                                                                     \n",
       "Shake Shack               243                  38                  True   \n",
       "Krispy Kreme              358                   6                  True   \n",
       "In-N-Out Burger           370                   5                  True   \n",
       "El Pollo Loco             481                   1                  True   \n",
       "McAlister’s Deli          505                  24                  True   \n",
       "\n",
       "                  positive_growth  sales_in_thousands  \n",
       "chain                                                  \n",
       "Shake Shack                     1              777000  \n",
       "Krispy Kreme                    1              996000  \n",
       "In-N-Out Burger                 1             1175000  \n",
       "El Pollo Loco                   1              973000  \n",
       "McAlister’s Deli                1              869000  "
      ]
     },
     "execution_count": 50,
     "metadata": {},
     "output_type": "execute_result"
    }
   ],
   "source": [
    "df.sort_values(by=['store_count','franchised'],\n",
    "               ascending=[True, True]).head()"
   ]
  },
  {
   "cell_type": "markdown",
   "id": "baafc30e",
   "metadata": {},
   "source": [
    "13.\tCreate a Series of lowercase chain names."
   ]
  },
  {
   "cell_type": "code",
   "execution_count": 51,
   "id": "85abe711",
   "metadata": {},
   "outputs": [
    {
     "data": {
      "text/plain": [
       "Index(['arby’s', 'bojangles', 'burger king', 'carl’s jr.', 'checkers/rally’s',\n",
       "       'chick-fil-a', 'chipotle', 'church’s chicken', 'culver’s',\n",
       "       'dairy queen', 'del taco', 'domino's', 'dunkin'', 'el pollo loco',\n",
       "       'firehouse subs', 'five guys', 'hardee’s', 'in-n-out burger',\n",
       "       'jack in the box', 'jersey mike’s', 'jimmy john’s', 'kfc',\n",
       "       'krispy kreme', 'little caesars', 'marco’s pizza', 'mcalister’s deli',\n",
       "       'mcdonald’s', 'panda express', 'panera bread', 'papa johns',\n",
       "       'papa murphy’s', 'pizza hut', 'popeyes louisiana kitchen', 'qdoba',\n",
       "       'raising cane’s', 'shake shack', 'sonic drive-in', 'starbucks',\n",
       "       'subway', 'taco bell', 'tropical smoothie cafe', 'wendy's',\n",
       "       'whataburger', 'wingstop', 'zaxby’s'],\n",
       "      dtype='object', name='chain')"
      ]
     },
     "execution_count": 51,
     "metadata": {},
     "output_type": "execute_result"
    }
   ],
   "source": [
    "df.index.str.lower()"
   ]
  },
  {
   "cell_type": "markdown",
   "id": "c7004315",
   "metadata": {},
   "source": [
    "14.\tGet chains that are not American."
   ]
  },
  {
   "cell_type": "code",
   "execution_count": null,
   "id": "90841b53",
   "metadata": {},
   "outputs": [],
   "source": []
  },
  {
   "cell_type": "markdown",
   "id": "22aeeb33",
   "metadata": {},
   "source": [
    "15.\tCreate a Series showing sales per unit."
   ]
  },
  {
   "cell_type": "code",
   "execution_count": 52,
   "id": "7db82e62",
   "metadata": {},
   "outputs": [
    {
     "data": {
      "text/plain": [
       "chain\n",
       "Arby’s              1309\n",
       "Bojangles           1924\n",
       "Burger King         1470\n",
       "Carl’s Jr.          1400\n",
       "Checkers/Rally’s    1145\n",
       "Name: store_sales_thousands, dtype: int64"
      ]
     },
     "execution_count": 52,
     "metadata": {},
     "output_type": "execute_result"
    }
   ],
   "source": [
    "df.store_sales_thousands.head(5)"
   ]
  },
  {
   "cell_type": "markdown",
   "id": "6955b837",
   "metadata": {},
   "source": [
    "16.\tCheck which chains have \"Pizza\" in their name."
   ]
  },
  {
   "cell_type": "code",
   "execution_count": 53,
   "id": "d505885b",
   "metadata": {},
   "outputs": [
    {
     "data": {
      "text/html": [
       "<div>\n",
       "<style scoped>\n",
       "    .dataframe tbody tr th:only-of-type {\n",
       "        vertical-align: middle;\n",
       "    }\n",
       "\n",
       "    .dataframe tbody tr th {\n",
       "        vertical-align: top;\n",
       "    }\n",
       "\n",
       "    .dataframe thead th {\n",
       "        text-align: right;\n",
       "    }\n",
       "</style>\n",
       "<table border=\"1\" class=\"dataframe\">\n",
       "  <thead>\n",
       "    <tr style=\"text-align: right;\">\n",
       "      <th></th>\n",
       "      <th>store_sales_thousands</th>\n",
       "      <th>franchised</th>\n",
       "      <th>company_stores</th>\n",
       "      <th>store_count</th>\n",
       "      <th>store_count_change</th>\n",
       "      <th>positive_store_count</th>\n",
       "      <th>positive_growth</th>\n",
       "      <th>sales_in_thousands</th>\n",
       "    </tr>\n",
       "    <tr>\n",
       "      <th>chain</th>\n",
       "      <th></th>\n",
       "      <th></th>\n",
       "      <th></th>\n",
       "      <th></th>\n",
       "      <th></th>\n",
       "      <th></th>\n",
       "      <th></th>\n",
       "      <th></th>\n",
       "    </tr>\n",
       "  </thead>\n",
       "  <tbody>\n",
       "    <tr>\n",
       "      <th>Marco’s Pizza</th>\n",
       "      <td>934</td>\n",
       "      <td>957</td>\n",
       "      <td>45</td>\n",
       "      <td>1002</td>\n",
       "      <td>48</td>\n",
       "      <td>True</td>\n",
       "      <td>1</td>\n",
       "      <td>899000</td>\n",
       "    </tr>\n",
       "    <tr>\n",
       "      <th>Pizza Hut</th>\n",
       "      <td>1022</td>\n",
       "      <td>6526</td>\n",
       "      <td>22</td>\n",
       "      <td>6548</td>\n",
       "      <td>-13</td>\n",
       "      <td>True</td>\n",
       "      <td>1</td>\n",
       "      <td>5500000</td>\n",
       "    </tr>\n",
       "  </tbody>\n",
       "</table>\n",
       "</div>"
      ],
      "text/plain": [
       "               store_sales_thousands  franchised  company_stores  store_count  \\\n",
       "chain                                                                           \n",
       "Marco’s Pizza                    934         957              45         1002   \n",
       "Pizza Hut                       1022        6526              22         6548   \n",
       "\n",
       "               store_count_change  positive_store_count  positive_growth  \\\n",
       "chain                                                                      \n",
       "Marco’s Pizza                  48                  True                1   \n",
       "Pizza Hut                     -13                  True                1   \n",
       "\n",
       "               sales_in_thousands  \n",
       "chain                              \n",
       "Marco’s Pizza              899000  \n",
       "Pizza Hut                 5500000  "
      ]
     },
     "execution_count": 53,
     "metadata": {},
     "output_type": "execute_result"
    }
   ],
   "source": [
    "df[df.index.str.contains('Pizza', case=False)]"
   ]
  },
  {
   "cell_type": "markdown",
   "id": "698a8652",
   "metadata": {},
   "source": [
    "17.\tGet the 5 smallest chains by number of stores."
   ]
  },
  {
   "cell_type": "code",
   "execution_count": 54,
   "id": "381e4566",
   "metadata": {},
   "outputs": [
    {
     "data": {
      "text/html": [
       "<div>\n",
       "<style scoped>\n",
       "    .dataframe tbody tr th:only-of-type {\n",
       "        vertical-align: middle;\n",
       "    }\n",
       "\n",
       "    .dataframe tbody tr th {\n",
       "        vertical-align: top;\n",
       "    }\n",
       "\n",
       "    .dataframe thead th {\n",
       "        text-align: right;\n",
       "    }\n",
       "</style>\n",
       "<table border=\"1\" class=\"dataframe\">\n",
       "  <thead>\n",
       "    <tr style=\"text-align: right;\">\n",
       "      <th></th>\n",
       "      <th>store_sales_thousands</th>\n",
       "      <th>franchised</th>\n",
       "      <th>company_stores</th>\n",
       "      <th>store_count</th>\n",
       "      <th>store_count_change</th>\n",
       "      <th>positive_store_count</th>\n",
       "      <th>positive_growth</th>\n",
       "      <th>sales_in_thousands</th>\n",
       "    </tr>\n",
       "    <tr>\n",
       "      <th>chain</th>\n",
       "      <th></th>\n",
       "      <th></th>\n",
       "      <th></th>\n",
       "      <th></th>\n",
       "      <th></th>\n",
       "      <th></th>\n",
       "      <th></th>\n",
       "      <th></th>\n",
       "    </tr>\n",
       "  </thead>\n",
       "  <tbody>\n",
       "    <tr>\n",
       "      <th>Shake Shack</th>\n",
       "      <td>3679</td>\n",
       "      <td>25</td>\n",
       "      <td>218</td>\n",
       "      <td>243</td>\n",
       "      <td>38</td>\n",
       "      <td>True</td>\n",
       "      <td>1</td>\n",
       "      <td>777000</td>\n",
       "    </tr>\n",
       "    <tr>\n",
       "      <th>Krispy Kreme</th>\n",
       "      <td>4000</td>\n",
       "      <td>51</td>\n",
       "      <td>307</td>\n",
       "      <td>358</td>\n",
       "      <td>6</td>\n",
       "      <td>True</td>\n",
       "      <td>1</td>\n",
       "      <td>996000</td>\n",
       "    </tr>\n",
       "    <tr>\n",
       "      <th>In-N-Out Burger</th>\n",
       "      <td>3200</td>\n",
       "      <td>0</td>\n",
       "      <td>370</td>\n",
       "      <td>370</td>\n",
       "      <td>5</td>\n",
       "      <td>True</td>\n",
       "      <td>1</td>\n",
       "      <td>1175000</td>\n",
       "    </tr>\n",
       "    <tr>\n",
       "      <th>El Pollo Loco</th>\n",
       "      <td>2000</td>\n",
       "      <td>292</td>\n",
       "      <td>189</td>\n",
       "      <td>481</td>\n",
       "      <td>1</td>\n",
       "      <td>True</td>\n",
       "      <td>1</td>\n",
       "      <td>973000</td>\n",
       "    </tr>\n",
       "    <tr>\n",
       "      <th>McAlister’s Deli</th>\n",
       "      <td>1866</td>\n",
       "      <td>472</td>\n",
       "      <td>33</td>\n",
       "      <td>505</td>\n",
       "      <td>24</td>\n",
       "      <td>True</td>\n",
       "      <td>1</td>\n",
       "      <td>869000</td>\n",
       "    </tr>\n",
       "  </tbody>\n",
       "</table>\n",
       "</div>"
      ],
      "text/plain": [
       "                  store_sales_thousands  franchised  company_stores  \\\n",
       "chain                                                                 \n",
       "Shake Shack                        3679          25             218   \n",
       "Krispy Kreme                       4000          51             307   \n",
       "In-N-Out Burger                    3200           0             370   \n",
       "El Pollo Loco                      2000         292             189   \n",
       "McAlister’s Deli                   1866         472              33   \n",
       "\n",
       "                  store_count  store_count_change  positive_store_count  \\\n",
       "chain                                                                     \n",
       "Shake Shack               243                  38                  True   \n",
       "Krispy Kreme              358                   6                  True   \n",
       "In-N-Out Burger           370                   5                  True   \n",
       "El Pollo Loco             481                   1                  True   \n",
       "McAlister’s Deli          505                  24                  True   \n",
       "\n",
       "                  positive_growth  sales_in_thousands  \n",
       "chain                                                  \n",
       "Shake Shack                     1              777000  \n",
       "Krispy Kreme                    1              996000  \n",
       "In-N-Out Burger                 1             1175000  \n",
       "El Pollo Loco                   1              973000  \n",
       "McAlister’s Deli                1              869000  "
      ]
     },
     "execution_count": 54,
     "metadata": {},
     "output_type": "execute_result"
    }
   ],
   "source": [
    "df.sort_values(by='store_count').head()"
   ]
  },
  {
   "cell_type": "markdown",
   "id": "5fe0b017",
   "metadata": {},
   "source": [
    "18.\tRename the column \"U.S. Systemwide Sales (Millions)\" to lowercase using .rename()."
   ]
  },
  {
   "cell_type": "code",
   "execution_count": null,
   "id": "9f98b4ed",
   "metadata": {},
   "outputs": [],
   "source": []
  },
  {
   "cell_type": "markdown",
   "id": "b112b7e7",
   "metadata": {},
   "source": [
    "19.\tFind the chain with the second highest sales."
   ]
  },
  {
   "cell_type": "code",
   "execution_count": 55,
   "id": "baf88429",
   "metadata": {},
   "outputs": [
    {
     "data": {
      "text/html": [
       "<div>\n",
       "<style scoped>\n",
       "    .dataframe tbody tr th:only-of-type {\n",
       "        vertical-align: middle;\n",
       "    }\n",
       "\n",
       "    .dataframe tbody tr th {\n",
       "        vertical-align: top;\n",
       "    }\n",
       "\n",
       "    .dataframe thead th {\n",
       "        text-align: right;\n",
       "    }\n",
       "</style>\n",
       "<table border=\"1\" class=\"dataframe\">\n",
       "  <thead>\n",
       "    <tr style=\"text-align: right;\">\n",
       "      <th></th>\n",
       "      <th>store_sales_thousands</th>\n",
       "      <th>franchised</th>\n",
       "      <th>company_stores</th>\n",
       "      <th>store_count</th>\n",
       "      <th>store_count_change</th>\n",
       "      <th>positive_store_count</th>\n",
       "      <th>positive_growth</th>\n",
       "      <th>sales_in_thousands</th>\n",
       "    </tr>\n",
       "    <tr>\n",
       "      <th>chain</th>\n",
       "      <th></th>\n",
       "      <th></th>\n",
       "      <th></th>\n",
       "      <th></th>\n",
       "      <th></th>\n",
       "      <th></th>\n",
       "      <th></th>\n",
       "      <th></th>\n",
       "    </tr>\n",
       "  </thead>\n",
       "  <tbody>\n",
       "    <tr>\n",
       "      <th>McDonald’s</th>\n",
       "      <td>3420</td>\n",
       "      <td>12775</td>\n",
       "      <td>663</td>\n",
       "      <td>13438</td>\n",
       "      <td>244</td>\n",
       "      <td>True</td>\n",
       "      <td>1</td>\n",
       "      <td>45960000</td>\n",
       "    </tr>\n",
       "    <tr>\n",
       "      <th>Starbucks</th>\n",
       "      <td>1200</td>\n",
       "      <td>6497</td>\n",
       "      <td>8953</td>\n",
       "      <td>15450</td>\n",
       "      <td>113</td>\n",
       "      <td>True</td>\n",
       "      <td>1</td>\n",
       "      <td>24300000</td>\n",
       "    </tr>\n",
       "    <tr>\n",
       "      <th>Chick-fil-A</th>\n",
       "      <td>6100</td>\n",
       "      <td>2650</td>\n",
       "      <td>82</td>\n",
       "      <td>2732</td>\n",
       "      <td>155</td>\n",
       "      <td>True</td>\n",
       "      <td>1</td>\n",
       "      <td>16700000</td>\n",
       "    </tr>\n",
       "  </tbody>\n",
       "</table>\n",
       "</div>"
      ],
      "text/plain": [
       "             store_sales_thousands  franchised  company_stores  store_count  \\\n",
       "chain                                                                         \n",
       "McDonald’s                    3420       12775             663        13438   \n",
       "Starbucks                     1200        6497            8953        15450   \n",
       "Chick-fil-A                   6100        2650              82         2732   \n",
       "\n",
       "             store_count_change  positive_store_count  positive_growth  \\\n",
       "chain                                                                    \n",
       "McDonald’s                  244                  True                1   \n",
       "Starbucks                   113                  True                1   \n",
       "Chick-fil-A                 155                  True                1   \n",
       "\n",
       "             sales_in_thousands  \n",
       "chain                            \n",
       "McDonald’s             45960000  \n",
       "Starbucks              24300000  \n",
       "Chick-fil-A            16700000  "
      ]
     },
     "execution_count": 55,
     "metadata": {},
     "output_type": "execute_result"
    }
   ],
   "source": [
    "df.sort_values(by='sales_in_thousands', ascending=False).head(3)"
   ]
  },
  {
   "cell_type": "code",
   "execution_count": 56,
   "id": "29ddfc8c",
   "metadata": {},
   "outputs": [
    {
     "data": {
      "text/plain": [
       "store_sales_thousands        1200\n",
       "franchised                   6497\n",
       "company_stores               8953\n",
       "store_count                 15450\n",
       "store_count_change            113\n",
       "positive_store_count         True\n",
       "positive_growth                 1\n",
       "sales_in_thousands       24300000\n",
       "Name: Starbucks, dtype: object"
      ]
     },
     "execution_count": 56,
     "metadata": {},
     "output_type": "execute_result"
    }
   ],
   "source": [
    "# A great way to do this that I hadn't learned yet. Try to apply it\n",
    "df.nlargest(2, 'sales_in_thousands').iloc[1]"
   ]
  },
  {
   "cell_type": "markdown",
   "id": "adaadf34",
   "metadata": {},
   "source": [
    "20.\tCreate a Series: is chain name longer than 10 characters?"
   ]
  },
  {
   "cell_type": "code",
   "execution_count": 57,
   "id": "966a8a57",
   "metadata": {},
   "outputs": [
    {
     "data": {
      "text/plain": [
       "0    False\n",
       "1    False\n",
       "2     True\n",
       "3    False\n",
       "4     True\n",
       "dtype: bool"
      ]
     },
     "execution_count": 57,
     "metadata": {},
     "output_type": "execute_result"
    }
   ],
   "source": [
    "pd.Series(df.index.str.len() > 10).head()"
   ]
  },
  {
   "cell_type": "markdown",
   "id": "f3473aa9",
   "metadata": {},
   "source": [
    "21.\tCreate a Series showing sales rank (1 = highest) and convert the result to integers.\n"
   ]
  },
  {
   "cell_type": "code",
   "execution_count": 66,
   "id": "3751681e",
   "metadata": {},
   "outputs": [],
   "source": [
    "rank_sales=df.sales_in_thousands.rank(ascending=False).astype(int)"
   ]
  },
  {
   "cell_type": "code",
   "execution_count": 67,
   "id": "2c646b3a",
   "metadata": {},
   "outputs": [
    {
     "data": {
      "text/plain": [
       "'McDonald’s'"
      ]
     },
     "execution_count": 67,
     "metadata": {},
     "output_type": "execute_result"
    }
   ],
   "source": [
    "rank_sales.idxmin()"
   ]
  },
  {
   "cell_type": "markdown",
   "id": "b00680a0",
   "metadata": {},
   "source": [
    "22.\tGet the average sales for chains with between 1000 and 3000 stores"
   ]
  },
  {
   "cell_type": "code",
   "execution_count": 72,
   "id": "b3cd9e9b",
   "metadata": {},
   "outputs": [
    {
     "data": {
      "text/plain": [
       "np.float64(1873.625)"
      ]
     },
     "execution_count": 72,
     "metadata": {},
     "output_type": "execute_result"
    }
   ],
   "source": [
    "df.loc[df.store_count.between(1000, 3000), 'store_count'].mean()"
   ]
  },
  {
   "cell_type": "markdown",
   "id": "b1c0f4ff",
   "metadata": {},
   "source": [
    "23.\tCreate a Series of chain names sorted by store sales."
   ]
  },
  {
   "cell_type": "code",
   "execution_count": 76,
   "id": "5fc17646",
   "metadata": {},
   "outputs": [
    {
     "data": {
      "text/html": [
       "<div>\n",
       "<style scoped>\n",
       "    .dataframe tbody tr th:only-of-type {\n",
       "        vertical-align: middle;\n",
       "    }\n",
       "\n",
       "    .dataframe tbody tr th {\n",
       "        vertical-align: top;\n",
       "    }\n",
       "\n",
       "    .dataframe thead th {\n",
       "        text-align: right;\n",
       "    }\n",
       "</style>\n",
       "<table border=\"1\" class=\"dataframe\">\n",
       "  <thead>\n",
       "    <tr style=\"text-align: right;\">\n",
       "      <th></th>\n",
       "      <th>store_sales_thousands</th>\n",
       "      <th>franchised</th>\n",
       "      <th>company_stores</th>\n",
       "      <th>store_count</th>\n",
       "      <th>store_count_change</th>\n",
       "      <th>positive_store_count</th>\n",
       "      <th>positive_growth</th>\n",
       "      <th>sales_in_thousands</th>\n",
       "    </tr>\n",
       "    <tr>\n",
       "      <th>chain</th>\n",
       "      <th></th>\n",
       "      <th></th>\n",
       "      <th></th>\n",
       "      <th></th>\n",
       "      <th></th>\n",
       "      <th></th>\n",
       "      <th></th>\n",
       "      <th></th>\n",
       "    </tr>\n",
       "  </thead>\n",
       "  <tbody>\n",
       "    <tr>\n",
       "      <th>Subway</th>\n",
       "      <td>438</td>\n",
       "      <td>21147</td>\n",
       "      <td>0</td>\n",
       "      <td>21147</td>\n",
       "      <td>-1043</td>\n",
       "      <td>True</td>\n",
       "      <td>1</td>\n",
       "      <td>9350000</td>\n",
       "    </tr>\n",
       "    <tr>\n",
       "      <th>Papa Murphy’s</th>\n",
       "      <td>643</td>\n",
       "      <td>1213</td>\n",
       "      <td>27</td>\n",
       "      <td>1240</td>\n",
       "      <td>-53</td>\n",
       "      <td>True</td>\n",
       "      <td>1</td>\n",
       "      <td>809000</td>\n",
       "    </tr>\n",
       "    <tr>\n",
       "      <th>Jimmy John’s</th>\n",
       "      <td>866</td>\n",
       "      <td>2616</td>\n",
       "      <td>41</td>\n",
       "      <td>2657</td>\n",
       "      <td>48</td>\n",
       "      <td>True</td>\n",
       "      <td>1</td>\n",
       "      <td>2301000</td>\n",
       "    </tr>\n",
       "    <tr>\n",
       "      <th>Church’s Chicken</th>\n",
       "      <td>870</td>\n",
       "      <td>731</td>\n",
       "      <td>161</td>\n",
       "      <td>892</td>\n",
       "      <td>-13</td>\n",
       "      <td>True</td>\n",
       "      <td>1</td>\n",
       "      <td>776000</td>\n",
       "    </tr>\n",
       "    <tr>\n",
       "      <th>Firehouse Subs</th>\n",
       "      <td>909</td>\n",
       "      <td>1101</td>\n",
       "      <td>39</td>\n",
       "      <td>1140</td>\n",
       "      <td>9</td>\n",
       "      <td>True</td>\n",
       "      <td>1</td>\n",
       "      <td>1044000</td>\n",
       "    </tr>\n",
       "  </tbody>\n",
       "</table>\n",
       "</div>"
      ],
      "text/plain": [
       "                  store_sales_thousands  franchised  company_stores  \\\n",
       "chain                                                                 \n",
       "Subway                              438       21147               0   \n",
       "Papa Murphy’s                       643        1213              27   \n",
       "Jimmy John’s                        866        2616              41   \n",
       "Church’s Chicken                    870         731             161   \n",
       "Firehouse Subs                      909        1101              39   \n",
       "\n",
       "                  store_count  store_count_change  positive_store_count  \\\n",
       "chain                                                                     \n",
       "Subway                  21147               -1043                  True   \n",
       "Papa Murphy’s            1240                 -53                  True   \n",
       "Jimmy John’s             2657                  48                  True   \n",
       "Church’s Chicken          892                 -13                  True   \n",
       "Firehouse Subs           1140                   9                  True   \n",
       "\n",
       "                  positive_growth  sales_in_thousands  \n",
       "chain                                                  \n",
       "Subway                          1             9350000  \n",
       "Papa Murphy’s                   1              809000  \n",
       "Jimmy John’s                    1             2301000  \n",
       "Church’s Chicken                1              776000  \n",
       "Firehouse Subs                  1             1044000  "
      ]
     },
     "execution_count": 76,
     "metadata": {},
     "output_type": "execute_result"
    }
   ],
   "source": [
    "df.sort_values(by='store_sales_thousands').head()"
   ]
  },
  {
   "cell_type": "markdown",
   "id": "980863d9",
   "metadata": {},
   "source": [
    "24.\tCount how many chains contain \"Burger\" or \"Chicken\" in the name.\n"
   ]
  },
  {
   "cell_type": "code",
   "execution_count": 78,
   "id": "7f600419",
   "metadata": {},
   "outputs": [
    {
     "data": {
      "text/plain": [
       "np.int64(4)"
      ]
     },
     "execution_count": 78,
     "metadata": {},
     "output_type": "execute_result"
    }
   ],
   "source": [
    "df.index.str.contains('Burger|Chicken', case=False).sum()"
   ]
  },
  {
   "cell_type": "markdown",
   "id": "5fb2d20d",
   "metadata": {},
   "source": [
    "25.\tNormalize the sales column (0–1 range)."
   ]
  },
  {
   "cell_type": "code",
   "execution_count": null,
   "id": "9721ef0d",
   "metadata": {},
   "outputs": [],
   "source": [
    "# Normalizing "
   ]
  },
  {
   "cell_type": "markdown",
   "id": "4cb78c0b",
   "metadata": {},
   "source": [
    "26.\tCreate a Series flagging \"giants\" (sales > 5000 & total units > 10000)."
   ]
  },
  {
   "cell_type": "code",
   "execution_count": 84,
   "id": "dc60ee31",
   "metadata": {},
   "outputs": [
    {
     "data": {
      "text/html": [
       "<div>\n",
       "<style scoped>\n",
       "    .dataframe tbody tr th:only-of-type {\n",
       "        vertical-align: middle;\n",
       "    }\n",
       "\n",
       "    .dataframe tbody tr th {\n",
       "        vertical-align: top;\n",
       "    }\n",
       "\n",
       "    .dataframe thead th {\n",
       "        text-align: right;\n",
       "    }\n",
       "</style>\n",
       "<table border=\"1\" class=\"dataframe\">\n",
       "  <thead>\n",
       "    <tr style=\"text-align: right;\">\n",
       "      <th></th>\n",
       "      <th>store_sales_thousands</th>\n",
       "      <th>franchised</th>\n",
       "      <th>company_stores</th>\n",
       "      <th>store_count</th>\n",
       "      <th>store_count_change</th>\n",
       "      <th>positive_store_count</th>\n",
       "      <th>positive_growth</th>\n",
       "      <th>sales_in_thousands</th>\n",
       "    </tr>\n",
       "    <tr>\n",
       "      <th>chain</th>\n",
       "      <th></th>\n",
       "      <th></th>\n",
       "      <th></th>\n",
       "      <th></th>\n",
       "      <th></th>\n",
       "      <th></th>\n",
       "      <th></th>\n",
       "      <th></th>\n",
       "    </tr>\n",
       "  </thead>\n",
       "  <tbody>\n",
       "    <tr>\n",
       "      <th>McDonald’s</th>\n",
       "      <td>3420</td>\n",
       "      <td>12775</td>\n",
       "      <td>663</td>\n",
       "      <td>13438</td>\n",
       "      <td>244</td>\n",
       "      <td>True</td>\n",
       "      <td>1</td>\n",
       "      <td>45960000</td>\n",
       "    </tr>\n",
       "    <tr>\n",
       "      <th>Starbucks</th>\n",
       "      <td>1200</td>\n",
       "      <td>6497</td>\n",
       "      <td>8953</td>\n",
       "      <td>15450</td>\n",
       "      <td>113</td>\n",
       "      <td>True</td>\n",
       "      <td>1</td>\n",
       "      <td>24300000</td>\n",
       "    </tr>\n",
       "    <tr>\n",
       "      <th>Subway</th>\n",
       "      <td>438</td>\n",
       "      <td>21147</td>\n",
       "      <td>0</td>\n",
       "      <td>21147</td>\n",
       "      <td>-1043</td>\n",
       "      <td>True</td>\n",
       "      <td>1</td>\n",
       "      <td>9350000</td>\n",
       "    </tr>\n",
       "  </tbody>\n",
       "</table>\n",
       "</div>"
      ],
      "text/plain": [
       "            store_sales_thousands  franchised  company_stores  store_count  \\\n",
       "chain                                                                        \n",
       "McDonald’s                   3420       12775             663        13438   \n",
       "Starbucks                    1200        6497            8953        15450   \n",
       "Subway                        438       21147               0        21147   \n",
       "\n",
       "            store_count_change  positive_store_count  positive_growth  \\\n",
       "chain                                                                   \n",
       "McDonald’s                 244                  True                1   \n",
       "Starbucks                  113                  True                1   \n",
       "Subway                   -1043                  True                1   \n",
       "\n",
       "            sales_in_thousands  \n",
       "chain                           \n",
       "McDonald’s            45960000  \n",
       "Starbucks             24300000  \n",
       "Subway                 9350000  "
      ]
     },
     "execution_count": 84,
     "metadata": {},
     "output_type": "execute_result"
    }
   ],
   "source": [
    "df[\n",
    "    (df.sales_in_thousands > 5000) &\n",
    "    (df.store_count > 10000)\n",
    "]"
   ]
  },
  {
   "cell_type": "markdown",
   "id": "dc38eb97",
   "metadata": {},
   "source": [
    "27.\tCreate a Series of first letters of chain names."
   ]
  },
  {
   "cell_type": "code",
   "execution_count": 85,
   "id": "b528560d",
   "metadata": {},
   "outputs": [
    {
     "data": {
      "text/plain": [
       "Index(['A', 'B', 'B', 'C', 'C', 'C', 'C', 'C', 'C', 'D', 'D', 'D', 'D', 'E',\n",
       "       'F', 'F', 'H', 'I', 'J', 'J', 'J', 'K', 'K', 'L', 'M', 'M', 'M', 'P',\n",
       "       'P', 'P', 'P', 'P', 'P', 'Q', 'R', 'S', 'S', 'S', 'S', 'T', 'T', 'W',\n",
       "       'W', 'W', 'Z'],\n",
       "      dtype='object', name='chain')"
      ]
     },
     "execution_count": 85,
     "metadata": {},
     "output_type": "execute_result"
    }
   ],
   "source": [
    "df.index.str[0]"
   ]
  },
  {
   "cell_type": "markdown",
   "id": "d1568c1b",
   "metadata": {},
   "source": [
    "28.\tReplace all spaces in chain names with underscores."
   ]
  },
  {
   "cell_type": "code",
   "execution_count": 86,
   "id": "d54e420c",
   "metadata": {},
   "outputs": [
    {
     "data": {
      "text/plain": [
       "Index(['Arby’s', 'Bojangles', 'Burger_King', 'Carl’s_Jr.', 'Checkers/Rally’s',\n",
       "       'Chick-fil-A', 'Chipotle', 'Church’s_Chicken', 'Culver’s',\n",
       "       'Dairy_Queen', 'Del_Taco', 'Domino's', 'Dunkin'', 'El_Pollo_Loco',\n",
       "       'Firehouse_Subs', 'Five_Guys', 'Hardee’s', 'In-N-Out_Burger',\n",
       "       'Jack_in_the_Box', 'Jersey_Mike’s', 'Jimmy_John’s', 'KFC',\n",
       "       'Krispy_Kreme', 'Little_Caesars', 'Marco’s_Pizza', 'McAlister’s_Deli',\n",
       "       'McDonald’s', 'Panda_Express', 'Panera_Bread', 'Papa_Johns',\n",
       "       'Papa_Murphy’s', 'Pizza_Hut', 'Popeyes_Louisiana_Kitchen', 'QDOBA',\n",
       "       'Raising_Cane’s', 'Shake_Shack', 'Sonic_Drive-In', 'Starbucks',\n",
       "       'Subway', 'Taco_Bell', 'Tropical_Smoothie_Cafe', 'Wendy's',\n",
       "       'Whataburger', 'Wingstop', 'Zaxby’s'],\n",
       "      dtype='object', name='chain')"
      ]
     },
     "execution_count": 86,
     "metadata": {},
     "output_type": "execute_result"
    }
   ],
   "source": [
    "df.index.str.replace(' ', '_')"
   ]
  },
  {
   "cell_type": "markdown",
   "id": "10956641",
   "metadata": {},
   "source": [
    "29.\tBucket sales into categories: Low (<1000), Medium (1000–5000), High (>5000)"
   ]
  },
  {
   "cell_type": "code",
   "execution_count": null,
   "id": "d08cbff0",
   "metadata": {},
   "outputs": [],
   "source": []
  },
  {
   "cell_type": "markdown",
   "id": "01e3dec3",
   "metadata": {},
   "source": [
    "30.\tGet a Series of boolean values: does chain name start with \"M\"?"
   ]
  },
  {
   "cell_type": "code",
   "execution_count": 88,
   "id": "205e0b3c",
   "metadata": {},
   "outputs": [
    {
     "data": {
      "text/plain": [
       "array([False, False, False, False, False, False, False, False, False,\n",
       "       False, False, False, False, False, False, False, False, False,\n",
       "       False, False, False, False, False, False,  True,  True,  True,\n",
       "       False, False, False, False, False, False, False, False, False,\n",
       "       False, False, False, False, False, False, False, False, False])"
      ]
     },
     "execution_count": 88,
     "metadata": {},
     "output_type": "execute_result"
    }
   ],
   "source": [
    "df.index.str.startswith('M')"
   ]
  }
 ],
 "metadata": {
  "kernelspec": {
   "display_name": "pandas_practice",
   "language": "python",
   "name": "python3"
  },
  "language_info": {
   "codemirror_mode": {
    "name": "ipython",
    "version": 3
   },
   "file_extension": ".py",
   "mimetype": "text/x-python",
   "name": "python",
   "nbconvert_exporter": "python",
   "pygments_lexer": "ipython3",
   "version": "3.10.18"
  }
 },
 "nbformat": 4,
 "nbformat_minor": 5
}
