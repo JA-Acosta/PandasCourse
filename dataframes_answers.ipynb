{
 "cells": [
  {
   "cell_type": "markdown",
   "id": "553aa6ce",
   "metadata": {},
   "source": [
    "# Pandas Dataframes Notes and Answers to Questions\n",
    "Author: JAAR\n",
    "Date: 07/22/2025"
   ]
  },
  {
   "cell_type": "code",
   "execution_count": null,
   "id": "c414946b",
   "metadata": {},
   "outputs": [],
   "source": [
    "# Pandas df are a scalable and expeditious way to access and display data in python much like spreadsheets in excel\n",
    "# the data is tabular and 2d with index and columns"
   ]
  },
  {
   "cell_type": "code",
   "execution_count": 1,
   "id": "eb2dc265",
   "metadata": {},
   "outputs": [],
   "source": [
    "# imports required\n",
    "import pandas as pd"
   ]
  },
  {
   "cell_type": "code",
   "execution_count": 2,
   "id": "565c03b7",
   "metadata": {},
   "outputs": [],
   "source": [
    "# Creating a dataframe takes data (and if available) index\n",
    "# got nunique(), isnull(), isnull().sum()"
   ]
  },
  {
   "cell_type": "code",
   "execution_count": null,
   "id": "554fde76",
   "metadata": {},
   "outputs": [],
   "source": [
    "# column selection is a way of getting 1 col in a df. A col is always a series. df['colName']\n",
    "\n",
    "# b) Select One Column and Apply Methods DataFrame's also allow the user to apply methods on columns, these functions include sum(), mean(), min(), max(), median() and more.\n",
    "\n",
    "# On strings min and max return lexicographical mins\n",
    "\n",
    "# df[['Revenue', 'Employees']].mean() we can apply methods to df created and it is applied to each series\n",
    "\n",
    "#like series, df are immutable\n",
    "\n",
    "#df['# of Locations (U.S.)'] = df['# of Locations (U.S.)'].str.replace(',', '').astype(int)\n",
    "\n",
    "# there's sort_values() and sort_values(by=) which is used for df.\n"
   ]
  }
 ],
 "metadata": {
  "kernelspec": {
   "display_name": "pandas_practice",
   "language": "python",
   "name": "python3"
  },
  "language_info": {
   "codemirror_mode": {
    "name": "ipython",
    "version": 3
   },
   "file_extension": ".py",
   "mimetype": "text/x-python",
   "name": "python",
   "nbconvert_exporter": "python",
   "pygments_lexer": "ipython3",
   "version": "3.10.18"
  }
 },
 "nbformat": 4,
 "nbformat_minor": 5
}
