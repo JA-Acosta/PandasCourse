{
 "cells": [
  {
   "cell_type": "markdown",
   "id": "4839963c",
   "metadata": {},
   "source": [
    "# Pandas Practice with Fast Food Data\n",
    "Author: JAAR\n",
    "\n",
    "Date: 07/22/2025"
   ]
  },
  {
   "cell_type": "code",
   "execution_count": 3,
   "id": "edc878a4",
   "metadata": {},
   "outputs": [],
   "source": [
    "# imports\n",
    "import pandas as pd"
   ]
  },
  {
   "cell_type": "code",
   "execution_count": 1,
   "id": "b1faa000",
   "metadata": {},
   "outputs": [],
   "source": [
    "# Load the fast food data\n"
   ]
  },
  {
   "cell_type": "markdown",
   "id": "e86f1aef",
   "metadata": {},
   "source": [
    "Get the shape and basic information for the dataset"
   ]
  },
  {
   "cell_type": "code",
   "execution_count": null,
   "id": "7e360466",
   "metadata": {},
   "outputs": [
    {
     "data": {
      "text/plain": [
       "(50, 7)"
      ]
     },
     "execution_count": 5,
     "metadata": {},
     "output_type": "execute_result"
    }
   ],
   "source": []
  },
  {
   "cell_type": "code",
   "execution_count": null,
   "id": "da9baa2a",
   "metadata": {},
   "outputs": [
    {
     "name": "stdout",
     "output_type": "stream",
     "text": [
      "<class 'pandas.core.frame.DataFrame'>\n",
      "RangeIndex: 50 entries, 0 to 49\n",
      "Data columns (total 7 columns):\n",
      " #   Column                                            Non-Null Count  Dtype \n",
      "---  ------                                            --------------  ----- \n",
      " 0   Fast-Food Chains                                  50 non-null     object\n",
      " 1   U.S. Systemwide Sales (Millions - U.S Dollars)    50 non-null     int64 \n",
      " 2   Average Sales per Unit (Thousands - U.S Dollars)  50 non-null     int64 \n",
      " 3   Franchised Stores                                 50 non-null     int64 \n",
      " 4   Company Stores                                    50 non-null     int64 \n",
      " 5   2021 Total Units                                  50 non-null     int64 \n",
      " 6   Total Change in Units from 2020                   50 non-null     int64 \n",
      "dtypes: int64(6), object(1)\n",
      "memory usage: 2.9+ KB\n"
     ]
    }
   ],
   "source": []
  },
  {
   "cell_type": "markdown",
   "id": "5764896c",
   "metadata": {},
   "source": [
    "What are the data types?"
   ]
  },
  {
   "cell_type": "code",
   "execution_count": null,
   "id": "d9189458",
   "metadata": {},
   "outputs": [
    {
     "data": {
      "text/plain": [
       "Fast-Food Chains                                    object\n",
       "U.S. Systemwide Sales (Millions - U.S Dollars)       int64\n",
       "Average Sales per Unit (Thousands - U.S Dollars)     int64\n",
       "Franchised Stores                                    int64\n",
       "Company Stores                                       int64\n",
       "2021 Total Units                                     int64\n",
       "Total Change in Units from 2020                      int64\n",
       "dtype: object"
      ]
     },
     "execution_count": 7,
     "metadata": {},
     "output_type": "execute_result"
    }
   ],
   "source": []
  },
  {
   "cell_type": "markdown",
   "id": "9ae09e01",
   "metadata": {},
   "source": [
    "Are there any null values?"
   ]
  },
  {
   "cell_type": "code",
   "execution_count": null,
   "id": "d943d3c9",
   "metadata": {},
   "outputs": [
    {
     "data": {
      "text/plain": [
       "np.int64(0)"
      ]
     },
     "execution_count": 8,
     "metadata": {},
     "output_type": "execute_result"
    }
   ],
   "source": []
  },
  {
   "cell_type": "markdown",
   "id": "5925ce90",
   "metadata": {},
   "source": [
    "Replace all of the columns spaces with underscores"
   ]
  },
  {
   "cell_type": "code",
   "execution_count": null,
   "id": "e91a0fd8",
   "metadata": {},
   "outputs": [],
   "source": []
  },
  {
   "cell_type": "markdown",
   "id": "8ab9daee",
   "metadata": {},
   "source": [
    "For the series containing the fast food chains, change it to just chain"
   ]
  },
  {
   "cell_type": "code",
   "execution_count": null,
   "id": "98fb23b1",
   "metadata": {},
   "outputs": [],
   "source": []
  },
  {
   "cell_type": "markdown",
   "id": "02daa086",
   "metadata": {},
   "source": [
    "Get a sample of five entries"
   ]
  },
  {
   "cell_type": "code",
   "execution_count": null,
   "id": "8b6cf013",
   "metadata": {},
   "outputs": [
    {
     "data": {
      "text/html": [
       "<div>\n",
       "<style scoped>\n",
       "    .dataframe tbody tr th:only-of-type {\n",
       "        vertical-align: middle;\n",
       "    }\n",
       "\n",
       "    .dataframe tbody tr th {\n",
       "        vertical-align: top;\n",
       "    }\n",
       "\n",
       "    .dataframe thead th {\n",
       "        text-align: right;\n",
       "    }\n",
       "</style>\n",
       "<table border=\"1\" class=\"dataframe\">\n",
       "  <thead>\n",
       "    <tr style=\"text-align: right;\">\n",
       "      <th></th>\n",
       "      <th>chain</th>\n",
       "      <th>U.S._Systemwide_Sales_(Millions_-_U.S_Dollars)</th>\n",
       "      <th>Average_Sales_per_Unit_(Thousands_-_U.S_Dollars)</th>\n",
       "      <th>Franchised_Stores</th>\n",
       "      <th>Company_Stores</th>\n",
       "      <th>2021_Total_Units</th>\n",
       "      <th>Total_Change_in_Units_from_2020</th>\n",
       "    </tr>\n",
       "  </thead>\n",
       "  <tbody>\n",
       "    <tr>\n",
       "      <th>37</th>\n",
       "      <td>Raising Cane’s</td>\n",
       "      <td>2377</td>\n",
       "      <td>4893</td>\n",
       "      <td>23</td>\n",
       "      <td>544</td>\n",
       "      <td>567</td>\n",
       "      <td>58</td>\n",
       "    </tr>\n",
       "    <tr>\n",
       "      <th>23</th>\n",
       "      <td>KFC</td>\n",
       "      <td>5100</td>\n",
       "      <td>1408</td>\n",
       "      <td>3906</td>\n",
       "      <td>47</td>\n",
       "      <td>3953</td>\n",
       "      <td>10</td>\n",
       "    </tr>\n",
       "    <tr>\n",
       "      <th>36</th>\n",
       "      <td>QDOBA</td>\n",
       "      <td>835</td>\n",
       "      <td>1006</td>\n",
       "      <td>406</td>\n",
       "      <td>333</td>\n",
       "      <td>739</td>\n",
       "      <td>2</td>\n",
       "    </tr>\n",
       "    <tr>\n",
       "      <th>17</th>\n",
       "      <td>Freddy’s Frozen Custard &amp; Steakburgers</td>\n",
       "      <td>759</td>\n",
       "      <td>1842</td>\n",
       "      <td>391</td>\n",
       "      <td>29</td>\n",
       "      <td>420</td>\n",
       "      <td>32</td>\n",
       "    </tr>\n",
       "    <tr>\n",
       "      <th>5</th>\n",
       "      <td>Checkers/Rally’s</td>\n",
       "      <td>931</td>\n",
       "      <td>1145</td>\n",
       "      <td>568</td>\n",
       "      <td>266</td>\n",
       "      <td>834</td>\n",
       "      <td>-13</td>\n",
       "    </tr>\n",
       "  </tbody>\n",
       "</table>\n",
       "</div>"
      ],
      "text/plain": [
       "                                     chain  \\\n",
       "37                          Raising Cane’s   \n",
       "23                                     KFC   \n",
       "36                                   QDOBA   \n",
       "17  Freddy’s Frozen Custard & Steakburgers   \n",
       "5                         Checkers/Rally’s   \n",
       "\n",
       "    U.S._Systemwide_Sales_(Millions_-_U.S_Dollars)  \\\n",
       "37                                            2377   \n",
       "23                                            5100   \n",
       "36                                             835   \n",
       "17                                             759   \n",
       "5                                              931   \n",
       "\n",
       "    Average_Sales_per_Unit_(Thousands_-_U.S_Dollars)  Franchised_Stores  \\\n",
       "37                                              4893                 23   \n",
       "23                                              1408               3906   \n",
       "36                                              1006                406   \n",
       "17                                              1842                391   \n",
       "5                                               1145                568   \n",
       "\n",
       "    Company_Stores  2021_Total_Units  Total_Change_in_Units_from_2020  \n",
       "37             544               567                               58  \n",
       "23              47              3953                               10  \n",
       "36             333               739                                2  \n",
       "17              29               420                               32  \n",
       "5              266               834                              -13  "
      ]
     },
     "execution_count": 12,
     "metadata": {},
     "output_type": "execute_result"
    }
   ],
   "source": []
  },
  {
   "cell_type": "markdown",
   "id": "80eed0ff",
   "metadata": {},
   "source": [
    "Rename 'Franchised Stores' as'stores_franchised' and 'Company Stores' as 'company_stores'"
   ]
  },
  {
   "cell_type": "code",
   "execution_count": null,
   "id": "a1ecd627",
   "metadata": {},
   "outputs": [],
   "source": []
  },
  {
   "cell_type": "markdown",
   "id": "1b93975a",
   "metadata": {},
   "source": [
    "Order the companies by number of franchises descending and ascending by names"
   ]
  },
  {
   "cell_type": "code",
   "execution_count": null,
   "id": "8d5ef0c8",
   "metadata": {},
   "outputs": [
    {
     "data": {
      "text/html": [
       "<div>\n",
       "<style scoped>\n",
       "    .dataframe tbody tr th:only-of-type {\n",
       "        vertical-align: middle;\n",
       "    }\n",
       "\n",
       "    .dataframe tbody tr th {\n",
       "        vertical-align: top;\n",
       "    }\n",
       "\n",
       "    .dataframe thead th {\n",
       "        text-align: right;\n",
       "    }\n",
       "</style>\n",
       "<table border=\"1\" class=\"dataframe\">\n",
       "  <thead>\n",
       "    <tr style=\"text-align: right;\">\n",
       "      <th></th>\n",
       "      <th>U.S._Systemwide_Sales_(Millions_-_U.S_Dollars)</th>\n",
       "      <th>Average_Sales_per_Unit_(Thousands_-_U.S_Dollars)</th>\n",
       "      <th>franchised</th>\n",
       "      <th>company_stores</th>\n",
       "      <th>2021_Total_Units</th>\n",
       "      <th>Total_Change_in_Units_from_2020</th>\n",
       "    </tr>\n",
       "    <tr>\n",
       "      <th>chain</th>\n",
       "      <th></th>\n",
       "      <th></th>\n",
       "      <th></th>\n",
       "      <th></th>\n",
       "      <th></th>\n",
       "      <th></th>\n",
       "    </tr>\n",
       "  </thead>\n",
       "  <tbody>\n",
       "    <tr>\n",
       "      <th>Subway</th>\n",
       "      <td>9350</td>\n",
       "      <td>438</td>\n",
       "      <td>21147</td>\n",
       "      <td>0</td>\n",
       "      <td>21147</td>\n",
       "      <td>-1043</td>\n",
       "    </tr>\n",
       "    <tr>\n",
       "      <th>McDonald’s</th>\n",
       "      <td>45960</td>\n",
       "      <td>3420</td>\n",
       "      <td>12775</td>\n",
       "      <td>663</td>\n",
       "      <td>13438</td>\n",
       "      <td>244</td>\n",
       "    </tr>\n",
       "    <tr>\n",
       "      <th>Dunkin'</th>\n",
       "      <td>10416</td>\n",
       "      <td>1127</td>\n",
       "      <td>9244</td>\n",
       "      <td>0</td>\n",
       "      <td>9244</td>\n",
       "      <td>161</td>\n",
       "    </tr>\n",
       "    <tr>\n",
       "      <th>Burger King</th>\n",
       "      <td>10033</td>\n",
       "      <td>1470</td>\n",
       "      <td>7054</td>\n",
       "      <td>51</td>\n",
       "      <td>7105</td>\n",
       "      <td>24</td>\n",
       "    </tr>\n",
       "    <tr>\n",
       "      <th>Taco Bell</th>\n",
       "      <td>12600</td>\n",
       "      <td>1823</td>\n",
       "      <td>6540</td>\n",
       "      <td>462</td>\n",
       "      <td>7002</td>\n",
       "      <td>203</td>\n",
       "    </tr>\n",
       "  </tbody>\n",
       "</table>\n",
       "</div>"
      ],
      "text/plain": [
       "             U.S._Systemwide_Sales_(Millions_-_U.S_Dollars)  \\\n",
       "chain                                                         \n",
       "Subway                                                 9350   \n",
       "McDonald’s                                            45960   \n",
       "Dunkin'                                               10416   \n",
       "Burger King                                           10033   \n",
       "Taco Bell                                             12600   \n",
       "\n",
       "             Average_Sales_per_Unit_(Thousands_-_U.S_Dollars)  franchised  \\\n",
       "chain                                                                       \n",
       "Subway                                                    438       21147   \n",
       "McDonald’s                                               3420       12775   \n",
       "Dunkin'                                                  1127        9244   \n",
       "Burger King                                              1470        7054   \n",
       "Taco Bell                                                1823        6540   \n",
       "\n",
       "             company_stores  2021_Total_Units  Total_Change_in_Units_from_2020  \n",
       "chain                                                                           \n",
       "Subway                    0             21147                            -1043  \n",
       "McDonald’s              663             13438                              244  \n",
       "Dunkin'                   0              9244                              161  \n",
       "Burger King              51              7105                               24  \n",
       "Taco Bell               462              7002                              203  "
      ]
     },
     "execution_count": 24,
     "metadata": {},
     "output_type": "execute_result"
    }
   ],
   "source": []
  },
  {
   "cell_type": "markdown",
   "id": "965bdc35",
   "metadata": {},
   "source": [
    "Retrieve the first three columns"
   ]
  },
  {
   "cell_type": "code",
   "execution_count": null,
   "id": "634af637",
   "metadata": {},
   "outputs": [
    {
     "data": {
      "text/html": [
       "<div>\n",
       "<style scoped>\n",
       "    .dataframe tbody tr th:only-of-type {\n",
       "        vertical-align: middle;\n",
       "    }\n",
       "\n",
       "    .dataframe tbody tr th {\n",
       "        vertical-align: top;\n",
       "    }\n",
       "\n",
       "    .dataframe thead th {\n",
       "        text-align: right;\n",
       "    }\n",
       "</style>\n",
       "<table border=\"1\" class=\"dataframe\">\n",
       "  <thead>\n",
       "    <tr style=\"text-align: right;\">\n",
       "      <th></th>\n",
       "      <th>U.S._Systemwide_Sales_(Millions_-_U.S_Dollars)</th>\n",
       "      <th>Average_Sales_per_Unit_(Thousands_-_U.S_Dollars)</th>\n",
       "      <th>franchised</th>\n",
       "    </tr>\n",
       "    <tr>\n",
       "      <th>chain</th>\n",
       "      <th></th>\n",
       "      <th></th>\n",
       "      <th></th>\n",
       "    </tr>\n",
       "  </thead>\n",
       "  <tbody>\n",
       "    <tr>\n",
       "      <th>Arby’s</th>\n",
       "      <td>4462</td>\n",
       "      <td>1309</td>\n",
       "      <td>2293</td>\n",
       "    </tr>\n",
       "    <tr>\n",
       "      <th>Baskin-Robbins</th>\n",
       "      <td>686</td>\n",
       "      <td>296</td>\n",
       "      <td>2317</td>\n",
       "    </tr>\n",
       "    <tr>\n",
       "      <th>Bojangles</th>\n",
       "      <td>1485</td>\n",
       "      <td>1924</td>\n",
       "      <td>496</td>\n",
       "    </tr>\n",
       "    <tr>\n",
       "      <th>Burger King</th>\n",
       "      <td>10033</td>\n",
       "      <td>1470</td>\n",
       "      <td>7054</td>\n",
       "    </tr>\n",
       "    <tr>\n",
       "      <th>Carl’s Jr.</th>\n",
       "      <td>1560</td>\n",
       "      <td>1400</td>\n",
       "      <td>1011</td>\n",
       "    </tr>\n",
       "  </tbody>\n",
       "</table>\n",
       "</div>"
      ],
      "text/plain": [
       "                U.S._Systemwide_Sales_(Millions_-_U.S_Dollars)  \\\n",
       "chain                                                            \n",
       "Arby’s                                                    4462   \n",
       "Baskin-Robbins                                             686   \n",
       "Bojangles                                                 1485   \n",
       "Burger King                                              10033   \n",
       "Carl’s Jr.                                                1560   \n",
       "\n",
       "                Average_Sales_per_Unit_(Thousands_-_U.S_Dollars)  franchised  \n",
       "chain                                                                         \n",
       "Arby’s                                                      1309        2293  \n",
       "Baskin-Robbins                                               296        2317  \n",
       "Bojangles                                                   1924         496  \n",
       "Burger King                                                 1470        7054  \n",
       "Carl’s Jr.                                                  1400        1011  "
      ]
     },
     "execution_count": 25,
     "metadata": {},
     "output_type": "execute_result"
    }
   ],
   "source": []
  },
  {
   "cell_type": "markdown",
   "id": "7e951487",
   "metadata": {},
   "source": [
    "Get every other row"
   ]
  },
  {
   "cell_type": "code",
   "execution_count": null,
   "id": "f162e90b",
   "metadata": {},
   "outputs": [
    {
     "data": {
      "text/html": [
       "<div>\n",
       "<style scoped>\n",
       "    .dataframe tbody tr th:only-of-type {\n",
       "        vertical-align: middle;\n",
       "    }\n",
       "\n",
       "    .dataframe tbody tr th {\n",
       "        vertical-align: top;\n",
       "    }\n",
       "\n",
       "    .dataframe thead th {\n",
       "        text-align: right;\n",
       "    }\n",
       "</style>\n",
       "<table border=\"1\" class=\"dataframe\">\n",
       "  <thead>\n",
       "    <tr style=\"text-align: right;\">\n",
       "      <th></th>\n",
       "      <th>U.S._Systemwide_Sales_(Millions_-_U.S_Dollars)</th>\n",
       "      <th>Average_Sales_per_Unit_(Thousands_-_U.S_Dollars)</th>\n",
       "      <th>franchised</th>\n",
       "      <th>company_stores</th>\n",
       "      <th>2021_Total_Units</th>\n",
       "      <th>Total_Change_in_Units_from_2020</th>\n",
       "    </tr>\n",
       "    <tr>\n",
       "      <th>chain</th>\n",
       "      <th></th>\n",
       "      <th></th>\n",
       "      <th></th>\n",
       "      <th></th>\n",
       "      <th></th>\n",
       "      <th></th>\n",
       "    </tr>\n",
       "  </thead>\n",
       "  <tbody>\n",
       "    <tr>\n",
       "      <th>Arby’s</th>\n",
       "      <td>4462</td>\n",
       "      <td>1309</td>\n",
       "      <td>2293</td>\n",
       "      <td>1116</td>\n",
       "      <td>3409</td>\n",
       "      <td>40</td>\n",
       "    </tr>\n",
       "    <tr>\n",
       "      <th>Bojangles</th>\n",
       "      <td>1485</td>\n",
       "      <td>1924</td>\n",
       "      <td>496</td>\n",
       "      <td>277</td>\n",
       "      <td>773</td>\n",
       "      <td>15</td>\n",
       "    </tr>\n",
       "    <tr>\n",
       "      <th>Carl’s Jr.</th>\n",
       "      <td>1560</td>\n",
       "      <td>1400</td>\n",
       "      <td>1011</td>\n",
       "      <td>47</td>\n",
       "      <td>1058</td>\n",
       "      <td>-21</td>\n",
       "    </tr>\n",
       "    <tr>\n",
       "      <th>Chick-fil-A</th>\n",
       "      <td>16700</td>\n",
       "      <td>6100</td>\n",
       "      <td>2650</td>\n",
       "      <td>82</td>\n",
       "      <td>2732</td>\n",
       "      <td>155</td>\n",
       "    </tr>\n",
       "    <tr>\n",
       "      <th>Church’s Chicken</th>\n",
       "      <td>776</td>\n",
       "      <td>870</td>\n",
       "      <td>731</td>\n",
       "      <td>161</td>\n",
       "      <td>892</td>\n",
       "      <td>-13</td>\n",
       "    </tr>\n",
       "  </tbody>\n",
       "</table>\n",
       "</div>"
      ],
      "text/plain": [
       "                  U.S._Systemwide_Sales_(Millions_-_U.S_Dollars)  \\\n",
       "chain                                                              \n",
       "Arby’s                                                      4462   \n",
       "Bojangles                                                   1485   \n",
       "Carl’s Jr.                                                  1560   \n",
       "Chick-fil-A                                                16700   \n",
       "Church’s Chicken                                             776   \n",
       "\n",
       "                  Average_Sales_per_Unit_(Thousands_-_U.S_Dollars)  \\\n",
       "chain                                                                \n",
       "Arby’s                                                        1309   \n",
       "Bojangles                                                     1924   \n",
       "Carl’s Jr.                                                    1400   \n",
       "Chick-fil-A                                                   6100   \n",
       "Church’s Chicken                                               870   \n",
       "\n",
       "                  franchised  company_stores  2021_Total_Units  \\\n",
       "chain                                                            \n",
       "Arby’s                  2293            1116              3409   \n",
       "Bojangles                496             277               773   \n",
       "Carl’s Jr.              1011              47              1058   \n",
       "Chick-fil-A             2650              82              2732   \n",
       "Church’s Chicken         731             161               892   \n",
       "\n",
       "                  Total_Change_in_Units_from_2020  \n",
       "chain                                              \n",
       "Arby’s                                         40  \n",
       "Bojangles                                      15  \n",
       "Carl’s Jr.                                    -21  \n",
       "Chick-fil-A                                   155  \n",
       "Church’s Chicken                              -13  "
      ]
     },
     "execution_count": 26,
     "metadata": {},
     "output_type": "execute_result"
    }
   ],
   "source": []
  },
  {
   "cell_type": "markdown",
   "id": "7b77584a",
   "metadata": {},
   "source": [
    "What companies have 2616, 831, and 2293 stores franchised?"
   ]
  },
  {
   "cell_type": "code",
   "execution_count": null,
   "id": "e5844783",
   "metadata": {},
   "outputs": [
    {
     "data": {
      "text/html": [
       "<div>\n",
       "<style scoped>\n",
       "    .dataframe tbody tr th:only-of-type {\n",
       "        vertical-align: middle;\n",
       "    }\n",
       "\n",
       "    .dataframe tbody tr th {\n",
       "        vertical-align: top;\n",
       "    }\n",
       "\n",
       "    .dataframe thead th {\n",
       "        text-align: right;\n",
       "    }\n",
       "</style>\n",
       "<table border=\"1\" class=\"dataframe\">\n",
       "  <thead>\n",
       "    <tr style=\"text-align: right;\">\n",
       "      <th></th>\n",
       "      <th>U.S._Systemwide_Sales_(Millions_-_U.S_Dollars)</th>\n",
       "      <th>Average_Sales_per_Unit_(Thousands_-_U.S_Dollars)</th>\n",
       "      <th>franchised</th>\n",
       "      <th>company_stores</th>\n",
       "      <th>2021_Total_Units</th>\n",
       "      <th>Total_Change_in_Units_from_2020</th>\n",
       "    </tr>\n",
       "    <tr>\n",
       "      <th>chain</th>\n",
       "      <th></th>\n",
       "      <th></th>\n",
       "      <th></th>\n",
       "      <th></th>\n",
       "      <th></th>\n",
       "      <th></th>\n",
       "    </tr>\n",
       "  </thead>\n",
       "  <tbody>\n",
       "    <tr>\n",
       "      <th>Arby’s</th>\n",
       "      <td>4462</td>\n",
       "      <td>1309</td>\n",
       "      <td>2293</td>\n",
       "      <td>1116</td>\n",
       "      <td>3409</td>\n",
       "      <td>40</td>\n",
       "    </tr>\n",
       "    <tr>\n",
       "      <th>Culver’s</th>\n",
       "      <td>2489</td>\n",
       "      <td>3099</td>\n",
       "      <td>831</td>\n",
       "      <td>6</td>\n",
       "      <td>837</td>\n",
       "      <td>55</td>\n",
       "    </tr>\n",
       "    <tr>\n",
       "      <th>Jimmy John’s</th>\n",
       "      <td>2301</td>\n",
       "      <td>866</td>\n",
       "      <td>2616</td>\n",
       "      <td>41</td>\n",
       "      <td>2657</td>\n",
       "      <td>48</td>\n",
       "    </tr>\n",
       "  </tbody>\n",
       "</table>\n",
       "</div>"
      ],
      "text/plain": [
       "              U.S._Systemwide_Sales_(Millions_-_U.S_Dollars)  \\\n",
       "chain                                                          \n",
       "Arby’s                                                  4462   \n",
       "Culver’s                                                2489   \n",
       "Jimmy John’s                                            2301   \n",
       "\n",
       "              Average_Sales_per_Unit_(Thousands_-_U.S_Dollars)  franchised  \\\n",
       "chain                                                                        \n",
       "Arby’s                                                    1309        2293   \n",
       "Culver’s                                                  3099         831   \n",
       "Jimmy John’s                                               866        2616   \n",
       "\n",
       "              company_stores  2021_Total_Units  \\\n",
       "chain                                            \n",
       "Arby’s                  1116              3409   \n",
       "Culver’s                   6               837   \n",
       "Jimmy John’s              41              2657   \n",
       "\n",
       "              Total_Change_in_Units_from_2020  \n",
       "chain                                          \n",
       "Arby’s                                     40  \n",
       "Culver’s                                   55  \n",
       "Jimmy John’s                               48  "
      ]
     },
     "execution_count": 27,
     "metadata": {},
     "output_type": "execute_result"
    }
   ],
   "source": []
  },
  {
   "cell_type": "markdown",
   "id": "420ee3df",
   "metadata": {},
   "source": [
    "Assign the chain column as the index column"
   ]
  },
  {
   "cell_type": "code",
   "execution_count": null,
   "id": "ca5b7840",
   "metadata": {},
   "outputs": [],
   "source": []
  },
  {
   "cell_type": "markdown",
   "id": "191fb529",
   "metadata": {},
   "source": [
    "Which company has the most franchised stores?"
   ]
  },
  {
   "cell_type": "code",
   "execution_count": null,
   "id": "73059363",
   "metadata": {},
   "outputs": [
    {
     "data": {
      "text/plain": [
       "'Subway'"
      ]
     },
     "execution_count": 29,
     "metadata": {},
     "output_type": "execute_result"
    }
   ],
   "source": []
  },
  {
   "cell_type": "markdown",
   "id": "1428c272",
   "metadata": {},
   "source": [
    "Which company has the highest percentage of franchised stores?"
   ]
  },
  {
   "cell_type": "code",
   "execution_count": null,
   "id": "59c3fd43",
   "metadata": {},
   "outputs": [
    {
     "data": {
      "text/plain": [
       "chain\n",
       "Baskin-Robbins    1.000000\n",
       "Dunkin'           1.000000\n",
       "Subway            1.000000\n",
       "Tim Hortons       1.000000\n",
       "Dairy Queen       0.999539\n",
       "dtype: float64"
      ]
     },
     "execution_count": 30,
     "metadata": {},
     "output_type": "execute_result"
    }
   ],
   "source": []
  },
  {
   "cell_type": "markdown",
   "id": "686897f5",
   "metadata": {},
   "source": [
    "Of the companies with 100% franchising, which has the most stores?"
   ]
  },
  {
   "cell_type": "code",
   "execution_count": null,
   "id": "1910a970",
   "metadata": {},
   "outputs": [
    {
     "data": {
      "text/plain": [
       "chain\n",
       "Baskin-Robbins     2317\n",
       "Dunkin'            9244\n",
       "Subway            21147\n",
       "Tim Hortons         637\n",
       "Name: franchised, dtype: int64"
      ]
     },
     "execution_count": 31,
     "metadata": {},
     "output_type": "execute_result"
    }
   ],
   "source": []
  },
  {
   "cell_type": "markdown",
   "id": "2a036946",
   "metadata": {},
   "source": [
    "Rename the 2021 units column to store_count, 2020 unit change column to store_count_change, us sustemwide sales to sales_in_millions and average sales per unit to store_sales_thousands"
   ]
  },
  {
   "cell_type": "code",
   "execution_count": null,
   "id": "b6dafec3",
   "metadata": {},
   "outputs": [],
   "source": []
  },
  {
   "cell_type": "markdown",
   "id": "0300cc7f",
   "metadata": {},
   "source": [
    "Create a column that has bool that reflects positive changes in store counts as True and negative as False"
   ]
  },
  {
   "cell_type": "code",
   "execution_count": null,
   "id": "82285255",
   "metadata": {},
   "outputs": [],
   "source": []
  },
  {
   "cell_type": "markdown",
   "id": "14cd8a2b",
   "metadata": {},
   "source": [
    "Get both the first and last chains?"
   ]
  },
  {
   "cell_type": "code",
   "execution_count": null,
   "id": "6e2b0390",
   "metadata": {},
   "outputs": [
    {
     "data": {
      "text/html": [
       "<div>\n",
       "<style scoped>\n",
       "    .dataframe tbody tr th:only-of-type {\n",
       "        vertical-align: middle;\n",
       "    }\n",
       "\n",
       "    .dataframe tbody tr th {\n",
       "        vertical-align: top;\n",
       "    }\n",
       "\n",
       "    .dataframe thead th {\n",
       "        text-align: right;\n",
       "    }\n",
       "</style>\n",
       "<table border=\"1\" class=\"dataframe\">\n",
       "  <thead>\n",
       "    <tr style=\"text-align: right;\">\n",
       "      <th></th>\n",
       "      <th>U.S._Systemwide_Sales_(Millions_-_U.S_Dollars)</th>\n",
       "      <th>Average_Sales_per_Unit_(Thousands_-_U.S_Dollars)</th>\n",
       "      <th>franchised</th>\n",
       "      <th>company_stores</th>\n",
       "      <th>store_count</th>\n",
       "      <th>store_count_change</th>\n",
       "      <th>positive_store_count</th>\n",
       "    </tr>\n",
       "    <tr>\n",
       "      <th>chain</th>\n",
       "      <th></th>\n",
       "      <th></th>\n",
       "      <th></th>\n",
       "      <th></th>\n",
       "      <th></th>\n",
       "      <th></th>\n",
       "      <th></th>\n",
       "    </tr>\n",
       "  </thead>\n",
       "  <tbody>\n",
       "    <tr>\n",
       "      <th>Arby’s</th>\n",
       "      <td>4462</td>\n",
       "      <td>1309</td>\n",
       "      <td>2293</td>\n",
       "      <td>1116</td>\n",
       "      <td>3409</td>\n",
       "      <td>40</td>\n",
       "      <td>True</td>\n",
       "    </tr>\n",
       "    <tr>\n",
       "      <th>Zaxby’s</th>\n",
       "      <td>2233</td>\n",
       "      <td>2484</td>\n",
       "      <td>761</td>\n",
       "      <td>147</td>\n",
       "      <td>908</td>\n",
       "      <td>3</td>\n",
       "      <td>True</td>\n",
       "    </tr>\n",
       "  </tbody>\n",
       "</table>\n",
       "</div>"
      ],
      "text/plain": [
       "         U.S._Systemwide_Sales_(Millions_-_U.S_Dollars)  \\\n",
       "chain                                                     \n",
       "Arby’s                                             4462   \n",
       "Zaxby’s                                            2233   \n",
       "\n",
       "         Average_Sales_per_Unit_(Thousands_-_U.S_Dollars)  franchised  \\\n",
       "chain                                                                   \n",
       "Arby’s                                               1309        2293   \n",
       "Zaxby’s                                              2484         761   \n",
       "\n",
       "         company_stores  store_count  store_count_change  positive_store_count  \n",
       "chain                                                                           \n",
       "Arby’s             1116         3409                  40                  True  \n",
       "Zaxby’s             147          908                   3                  True  "
      ]
     },
     "execution_count": 37,
     "metadata": {},
     "output_type": "execute_result"
    }
   ],
   "source": []
  },
  {
   "cell_type": "markdown",
   "id": "ccc9bf49",
   "metadata": {},
   "source": [
    "Drop the Total Changes column and store this as a new df"
   ]
  },
  {
   "cell_type": "code",
   "execution_count": null,
   "id": "024e44cf",
   "metadata": {},
   "outputs": [],
   "source": []
  },
  {
   "cell_type": "markdown",
   "id": "cd612a3d",
   "metadata": {},
   "source": [
    "Create a new column called positive growth where chains that opened stores have a 1 and chains that don't have a 0"
   ]
  },
  {
   "cell_type": "code",
   "execution_count": null,
   "id": "580084dd",
   "metadata": {},
   "outputs": [],
   "source": []
  },
  {
   "cell_type": "markdown",
   "id": "621c86dd",
   "metadata": {},
   "source": [
    "Convert systemwide sales to thousands and store the value as a new column then drop the old column"
   ]
  },
  {
   "cell_type": "code",
   "execution_count": null,
   "id": "f8f8ded9",
   "metadata": {},
   "outputs": [],
   "source": []
  },
  {
   "cell_type": "code",
   "execution_count": null,
   "id": "a2dd6f33",
   "metadata": {},
   "outputs": [],
   "source": []
  },
  {
   "cell_type": "markdown",
   "id": "5ef88ead",
   "metadata": {},
   "source": [
    "Sort chains by sales per store descending and name ascending"
   ]
  },
  {
   "cell_type": "code",
   "execution_count": null,
   "id": "c43d737c",
   "metadata": {},
   "outputs": [
    {
     "data": {
      "text/html": [
       "<div>\n",
       "<style scoped>\n",
       "    .dataframe tbody tr th:only-of-type {\n",
       "        vertical-align: middle;\n",
       "    }\n",
       "\n",
       "    .dataframe tbody tr th {\n",
       "        vertical-align: top;\n",
       "    }\n",
       "\n",
       "    .dataframe thead th {\n",
       "        text-align: right;\n",
       "    }\n",
       "</style>\n",
       "<table border=\"1\" class=\"dataframe\">\n",
       "  <thead>\n",
       "    <tr style=\"text-align: right;\">\n",
       "      <th></th>\n",
       "      <th>store_sales_thousands</th>\n",
       "      <th>franchised</th>\n",
       "      <th>company_stores</th>\n",
       "      <th>store_count</th>\n",
       "      <th>store_count_change</th>\n",
       "      <th>positive_store_count</th>\n",
       "      <th>positive_growth</th>\n",
       "      <th>sales_in_thousands</th>\n",
       "    </tr>\n",
       "    <tr>\n",
       "      <th>chain</th>\n",
       "      <th></th>\n",
       "      <th></th>\n",
       "      <th></th>\n",
       "      <th></th>\n",
       "      <th></th>\n",
       "      <th></th>\n",
       "      <th></th>\n",
       "      <th></th>\n",
       "    </tr>\n",
       "  </thead>\n",
       "  <tbody>\n",
       "    <tr>\n",
       "      <th>Chick-fil-A</th>\n",
       "      <td>6100</td>\n",
       "      <td>2650</td>\n",
       "      <td>82</td>\n",
       "      <td>2732</td>\n",
       "      <td>155</td>\n",
       "      <td>True</td>\n",
       "      <td>1</td>\n",
       "      <td>16700000</td>\n",
       "    </tr>\n",
       "    <tr>\n",
       "      <th>Raising Cane’s</th>\n",
       "      <td>4893</td>\n",
       "      <td>23</td>\n",
       "      <td>544</td>\n",
       "      <td>567</td>\n",
       "      <td>58</td>\n",
       "      <td>True</td>\n",
       "      <td>1</td>\n",
       "      <td>2377000</td>\n",
       "    </tr>\n",
       "    <tr>\n",
       "      <th>Krispy Kreme</th>\n",
       "      <td>4000</td>\n",
       "      <td>51</td>\n",
       "      <td>307</td>\n",
       "      <td>358</td>\n",
       "      <td>6</td>\n",
       "      <td>True</td>\n",
       "      <td>1</td>\n",
       "      <td>996000</td>\n",
       "    </tr>\n",
       "    <tr>\n",
       "      <th>Shake Shack</th>\n",
       "      <td>3679</td>\n",
       "      <td>25</td>\n",
       "      <td>218</td>\n",
       "      <td>243</td>\n",
       "      <td>38</td>\n",
       "      <td>True</td>\n",
       "      <td>1</td>\n",
       "      <td>777000</td>\n",
       "    </tr>\n",
       "    <tr>\n",
       "      <th>Whataburger</th>\n",
       "      <td>3640</td>\n",
       "      <td>131</td>\n",
       "      <td>742</td>\n",
       "      <td>873</td>\n",
       "      <td>29</td>\n",
       "      <td>True</td>\n",
       "      <td>1</td>\n",
       "      <td>3089000</td>\n",
       "    </tr>\n",
       "  </tbody>\n",
       "</table>\n",
       "</div>"
      ],
      "text/plain": [
       "                store_sales_thousands  franchised  company_stores  \\\n",
       "chain                                                               \n",
       "Chick-fil-A                      6100        2650              82   \n",
       "Raising Cane’s                   4893          23             544   \n",
       "Krispy Kreme                     4000          51             307   \n",
       "Shake Shack                      3679          25             218   \n",
       "Whataburger                      3640         131             742   \n",
       "\n",
       "                store_count  store_count_change  positive_store_count  \\\n",
       "chain                                                                   \n",
       "Chick-fil-A            2732                 155                  True   \n",
       "Raising Cane’s          567                  58                  True   \n",
       "Krispy Kreme            358                   6                  True   \n",
       "Shake Shack             243                  38                  True   \n",
       "Whataburger             873                  29                  True   \n",
       "\n",
       "                positive_growth  sales_in_thousands  \n",
       "chain                                                \n",
       "Chick-fil-A                   1            16700000  \n",
       "Raising Cane’s                1             2377000  \n",
       "Krispy Kreme                  1              996000  \n",
       "Shake Shack                   1              777000  \n",
       "Whataburger                   1             3089000  "
      ]
     },
     "execution_count": 51,
     "metadata": {},
     "output_type": "execute_result"
    }
   ],
   "source": []
  },
  {
   "cell_type": "markdown",
   "id": "cd594d29",
   "metadata": {},
   "source": [
    "Create a series that truncates the store count. Round store count to 5000 and 500 respectively for companies with more and less than those values"
   ]
  },
  {
   "cell_type": "code",
   "execution_count": null,
   "id": "87614642",
   "metadata": {},
   "outputs": [
    {
     "data": {
      "text/plain": [
       "chain\n",
       "Sonic Drive-In           3552\n",
       "Wingstop                 1534\n",
       "Burger King              5000\n",
       "Bojangles                 773\n",
       "Little Caesars           4181\n",
       "Dairy Queen              4339\n",
       "Moe’s Southwest Grill     659\n",
       "Marco’s Pizza            1002\n",
       "Shake Shack               500\n",
       "Carl’s Jr.               1058\n",
       "Name: store_count, dtype: int64"
      ]
     },
     "execution_count": 62,
     "metadata": {},
     "output_type": "execute_result"
    }
   ],
   "source": []
  },
  {
   "cell_type": "markdown",
   "id": "fb3d6f7a",
   "metadata": {},
   "source": [
    "Get all the companies with sales above the mean sales"
   ]
  },
  {
   "cell_type": "code",
   "execution_count": null,
   "id": "5c467927",
   "metadata": {},
   "outputs": [
    {
     "data": {
      "text/html": [
       "<div>\n",
       "<style scoped>\n",
       "    .dataframe tbody tr th:only-of-type {\n",
       "        vertical-align: middle;\n",
       "    }\n",
       "\n",
       "    .dataframe tbody tr th {\n",
       "        vertical-align: top;\n",
       "    }\n",
       "\n",
       "    .dataframe thead th {\n",
       "        text-align: right;\n",
       "    }\n",
       "</style>\n",
       "<table border=\"1\" class=\"dataframe\">\n",
       "  <thead>\n",
       "    <tr style=\"text-align: right;\">\n",
       "      <th></th>\n",
       "      <th>store_sales_thousands</th>\n",
       "      <th>franchised</th>\n",
       "      <th>company_stores</th>\n",
       "      <th>store_count</th>\n",
       "      <th>store_count_change</th>\n",
       "      <th>positive_store_count</th>\n",
       "      <th>positive_growth</th>\n",
       "      <th>sales_in_thousands</th>\n",
       "    </tr>\n",
       "    <tr>\n",
       "      <th>chain</th>\n",
       "      <th></th>\n",
       "      <th></th>\n",
       "      <th></th>\n",
       "      <th></th>\n",
       "      <th></th>\n",
       "      <th></th>\n",
       "      <th></th>\n",
       "      <th></th>\n",
       "    </tr>\n",
       "  </thead>\n",
       "  <tbody>\n",
       "    <tr>\n",
       "      <th>Arby’s</th>\n",
       "      <td>1309</td>\n",
       "      <td>2293</td>\n",
       "      <td>1116</td>\n",
       "      <td>3409</td>\n",
       "      <td>40</td>\n",
       "      <td>True</td>\n",
       "      <td>1</td>\n",
       "      <td>4462000</td>\n",
       "    </tr>\n",
       "    <tr>\n",
       "      <th>Baskin-Robbins</th>\n",
       "      <td>296</td>\n",
       "      <td>2317</td>\n",
       "      <td>0</td>\n",
       "      <td>2317</td>\n",
       "      <td>102</td>\n",
       "      <td>True</td>\n",
       "      <td>1</td>\n",
       "      <td>686000</td>\n",
       "    </tr>\n",
       "    <tr>\n",
       "      <th>Bojangles</th>\n",
       "      <td>1924</td>\n",
       "      <td>496</td>\n",
       "      <td>277</td>\n",
       "      <td>773</td>\n",
       "      <td>15</td>\n",
       "      <td>True</td>\n",
       "      <td>1</td>\n",
       "      <td>1485000</td>\n",
       "    </tr>\n",
       "    <tr>\n",
       "      <th>Carl’s Jr.</th>\n",
       "      <td>1400</td>\n",
       "      <td>1011</td>\n",
       "      <td>47</td>\n",
       "      <td>1058</td>\n",
       "      <td>-21</td>\n",
       "      <td>True</td>\n",
       "      <td>1</td>\n",
       "      <td>1560000</td>\n",
       "    </tr>\n",
       "    <tr>\n",
       "      <th>Checkers/Rally’s</th>\n",
       "      <td>1145</td>\n",
       "      <td>568</td>\n",
       "      <td>266</td>\n",
       "      <td>834</td>\n",
       "      <td>-13</td>\n",
       "      <td>True</td>\n",
       "      <td>1</td>\n",
       "      <td>931000</td>\n",
       "    </tr>\n",
       "  </tbody>\n",
       "</table>\n",
       "</div>"
      ],
      "text/plain": [
       "                  store_sales_thousands  franchised  company_stores  \\\n",
       "chain                                                                 \n",
       "Arby’s                             1309        2293            1116   \n",
       "Baskin-Robbins                      296        2317               0   \n",
       "Bojangles                          1924         496             277   \n",
       "Carl’s Jr.                         1400        1011              47   \n",
       "Checkers/Rally’s                   1145         568             266   \n",
       "\n",
       "                  store_count  store_count_change  positive_store_count  \\\n",
       "chain                                                                     \n",
       "Arby’s                   3409                  40                  True   \n",
       "Baskin-Robbins           2317                 102                  True   \n",
       "Bojangles                 773                  15                  True   \n",
       "Carl’s Jr.               1058                 -21                  True   \n",
       "Checkers/Rally’s          834                 -13                  True   \n",
       "\n",
       "                  positive_growth  sales_in_thousands  \n",
       "chain                                                  \n",
       "Arby’s                          1             4462000  \n",
       "Baskin-Robbins                  1              686000  \n",
       "Bojangles                       1             1485000  \n",
       "Carl’s Jr.                      1             1560000  \n",
       "Checkers/Rally’s                1              931000  "
      ]
     },
     "execution_count": 65,
     "metadata": {},
     "output_type": "execute_result"
    }
   ],
   "source": []
  },
  {
   "cell_type": "markdown",
   "id": "ba52709b",
   "metadata": {},
   "source": [
    "Create a list of chains that have over 80% franchised and over 80% company owned then sort by Revenue"
   ]
  },
  {
   "cell_type": "code",
   "execution_count": null,
   "id": "e9083d8d",
   "metadata": {},
   "outputs": [
    {
     "data": {
      "text/html": [
       "<div>\n",
       "<style scoped>\n",
       "    .dataframe tbody tr th:only-of-type {\n",
       "        vertical-align: middle;\n",
       "    }\n",
       "\n",
       "    .dataframe tbody tr th {\n",
       "        vertical-align: top;\n",
       "    }\n",
       "\n",
       "    .dataframe thead th {\n",
       "        text-align: right;\n",
       "    }\n",
       "</style>\n",
       "<table border=\"1\" class=\"dataframe\">\n",
       "  <thead>\n",
       "    <tr style=\"text-align: right;\">\n",
       "      <th></th>\n",
       "      <th>store_sales_thousands</th>\n",
       "      <th>franchised</th>\n",
       "      <th>company_stores</th>\n",
       "      <th>store_count</th>\n",
       "      <th>store_count_change</th>\n",
       "      <th>positive_store_count</th>\n",
       "      <th>positive_growth</th>\n",
       "      <th>sales_in_thousands</th>\n",
       "    </tr>\n",
       "    <tr>\n",
       "      <th>chain</th>\n",
       "      <th></th>\n",
       "      <th></th>\n",
       "      <th></th>\n",
       "      <th></th>\n",
       "      <th></th>\n",
       "      <th></th>\n",
       "      <th></th>\n",
       "      <th></th>\n",
       "    </tr>\n",
       "  </thead>\n",
       "  <tbody>\n",
       "    <tr>\n",
       "      <th>Starbucks</th>\n",
       "      <td>1200</td>\n",
       "      <td>6497</td>\n",
       "      <td>8953</td>\n",
       "      <td>15450</td>\n",
       "      <td>113</td>\n",
       "      <td>True</td>\n",
       "      <td>1</td>\n",
       "      <td>24300000</td>\n",
       "    </tr>\n",
       "    <tr>\n",
       "      <th>Panera Bread</th>\n",
       "      <td>2700</td>\n",
       "      <td>1130</td>\n",
       "      <td>950</td>\n",
       "      <td>2080</td>\n",
       "      <td>-25</td>\n",
       "      <td>True</td>\n",
       "      <td>1</td>\n",
       "      <td>5650000</td>\n",
       "    </tr>\n",
       "    <tr>\n",
       "      <th>Arby’s</th>\n",
       "      <td>1309</td>\n",
       "      <td>2293</td>\n",
       "      <td>1116</td>\n",
       "      <td>3409</td>\n",
       "      <td>40</td>\n",
       "      <td>True</td>\n",
       "      <td>1</td>\n",
       "      <td>4462000</td>\n",
       "    </tr>\n",
       "    <tr>\n",
       "      <th>Five Guys</th>\n",
       "      <td>3172</td>\n",
       "      <td>911</td>\n",
       "      <td>479</td>\n",
       "      <td>1390</td>\n",
       "      <td>8</td>\n",
       "      <td>True</td>\n",
       "      <td>1</td>\n",
       "      <td>2093000</td>\n",
       "    </tr>\n",
       "    <tr>\n",
       "      <th>Bojangles</th>\n",
       "      <td>1924</td>\n",
       "      <td>496</td>\n",
       "      <td>277</td>\n",
       "      <td>773</td>\n",
       "      <td>15</td>\n",
       "      <td>True</td>\n",
       "      <td>1</td>\n",
       "      <td>1485000</td>\n",
       "    </tr>\n",
       "    <tr>\n",
       "      <th>El Pollo Loco</th>\n",
       "      <td>2000</td>\n",
       "      <td>292</td>\n",
       "      <td>189</td>\n",
       "      <td>481</td>\n",
       "      <td>1</td>\n",
       "      <td>True</td>\n",
       "      <td>1</td>\n",
       "      <td>973000</td>\n",
       "    </tr>\n",
       "    <tr>\n",
       "      <th>Checkers/Rally’s</th>\n",
       "      <td>1145</td>\n",
       "      <td>568</td>\n",
       "      <td>266</td>\n",
       "      <td>834</td>\n",
       "      <td>-13</td>\n",
       "      <td>True</td>\n",
       "      <td>1</td>\n",
       "      <td>931000</td>\n",
       "    </tr>\n",
       "    <tr>\n",
       "      <th>Del Taco</th>\n",
       "      <td>1551</td>\n",
       "      <td>306</td>\n",
       "      <td>294</td>\n",
       "      <td>600</td>\n",
       "      <td>4</td>\n",
       "      <td>True</td>\n",
       "      <td>1</td>\n",
       "      <td>931000</td>\n",
       "    </tr>\n",
       "    <tr>\n",
       "      <th>QDOBA</th>\n",
       "      <td>1006</td>\n",
       "      <td>406</td>\n",
       "      <td>333</td>\n",
       "      <td>739</td>\n",
       "      <td>2</td>\n",
       "      <td>True</td>\n",
       "      <td>1</td>\n",
       "      <td>835000</td>\n",
       "    </tr>\n",
       "  </tbody>\n",
       "</table>\n",
       "</div>"
      ],
      "text/plain": [
       "                  store_sales_thousands  franchised  company_stores  \\\n",
       "chain                                                                 \n",
       "Starbucks                          1200        6497            8953   \n",
       "Panera Bread                       2700        1130             950   \n",
       "Arby’s                             1309        2293            1116   \n",
       "Five Guys                          3172         911             479   \n",
       "Bojangles                          1924         496             277   \n",
       "El Pollo Loco                      2000         292             189   \n",
       "Checkers/Rally’s                   1145         568             266   \n",
       "Del Taco                           1551         306             294   \n",
       "QDOBA                              1006         406             333   \n",
       "\n",
       "                  store_count  store_count_change  positive_store_count  \\\n",
       "chain                                                                     \n",
       "Starbucks               15450                 113                  True   \n",
       "Panera Bread             2080                 -25                  True   \n",
       "Arby’s                   3409                  40                  True   \n",
       "Five Guys                1390                   8                  True   \n",
       "Bojangles                 773                  15                  True   \n",
       "El Pollo Loco             481                   1                  True   \n",
       "Checkers/Rally’s          834                 -13                  True   \n",
       "Del Taco                  600                   4                  True   \n",
       "QDOBA                     739                   2                  True   \n",
       "\n",
       "                  positive_growth  sales_in_thousands  \n",
       "chain                                                  \n",
       "Starbucks                       1            24300000  \n",
       "Panera Bread                    1             5650000  \n",
       "Arby’s                          1             4462000  \n",
       "Five Guys                       1             2093000  \n",
       "Bojangles                       1             1485000  \n",
       "El Pollo Loco                   1              973000  \n",
       "Checkers/Rally’s                1              931000  \n",
       "Del Taco                        1              931000  \n",
       "QDOBA                           1              835000  "
      ]
     },
     "execution_count": 70,
     "metadata": {},
     "output_type": "execute_result"
    }
   ],
   "source": []
  },
  {
   "cell_type": "code",
   "execution_count": null,
   "id": "6d993456",
   "metadata": {},
   "outputs": [],
   "source": []
  },
  {
   "cell_type": "markdown",
   "id": "f8411de1",
   "metadata": {},
   "source": [
    "Have a few like this to really get it down"
   ]
  },
  {
   "cell_type": "code",
   "execution_count": null,
   "id": "c583dcbc",
   "metadata": {},
   "outputs": [],
   "source": [
    "# Try your code here\n",
    "a_s=(df.Genre=='Action')|(df.Genre=='Sports')\n",
    "ps2_action_sports_df = df[(a_s)&(df.Platform=='PS2')&(df.Global_Sales.between(5.0, 30.0))]"
   ]
  },
  {
   "cell_type": "code",
   "execution_count": null,
   "id": "7fac1227",
   "metadata": {},
   "outputs": [],
   "source": [
    "# df['artist_count']=(df['artists'].str.count(',').fillna(-1).astype(int) + 1)"
   ]
  },
  {
   "cell_type": "code",
   "execution_count": null,
   "id": "65da3364",
   "metadata": {},
   "outputs": [],
   "source": [
    "# df.dropna().drop([...]).rename([...]).sort_values().head() CHAINING EXAMPLE\n",
    "# df.drop(df.loc[df[\"Revenue\"] < 80_000].index).sort_values(by='Revenue')\n",
    "# df.drop(df.loc[df.Revenue < df.Revenue.mean()].index)\n",
    "# df_usa_only = df.drop(df.loc[(~df['Is American?'])].index) is the same as df.loc[df['Is America']]\n",
    "# removing columns by dropping them and then also renaming columns are things worth looking into\n",
    "\n",
    "# datetime accessor with at .dt.year .dt.month\n"
   ]
  },
  {
   "cell_type": "code",
   "execution_count": null,
   "id": "727ff9b2",
   "metadata": {},
   "outputs": [],
   "source": [
    "# Find a way to mirror this?\n",
    "\n",
    "# df_usa_software_high_efficiency = df.loc[\n",
    "#     (df.Sector == 'Software Services') &\n",
    "#     (df['Revenue per Employee'].mean() < df['Revenue per Employee']) &\n",
    "#     (df.Country == 'USA')\n",
    "# ]\n",
    "\n",
    "\n",
    "# df.query(\"Sector == 'Consumer Electronics' and not (Country == 'USA')\")\n",
    "\n",
    "# df['artist_count']=(df['artists'].str.count(',').fillna(-1).astype(int) + 1)"
   ]
  },
  {
   "cell_type": "code",
   "execution_count": null,
   "id": "4bad8b92",
   "metadata": {},
   "outputs": [],
   "source": [
    "# df.dropna().drop([...]).rename([...]).sort_values().head() CHAINING EXAMPLE\n",
    "# df.drop(df.loc[df[\"Revenue\"] < 80_000].index).sort_values(by='Revenue')\n",
    "# df.drop(df.loc[df.Revenue < df.Revenue.mean()].index)\n",
    "# df_usa_only = df.drop(df.loc[(~df['Is American?'])].index) is the same as df.loc[df['Is America']]\n",
    "# removing columns by dropping them and then also renaming columns are things worth looking into\n",
    "\n",
    "# datetime accessor with at .dt.year .dt.month\n",
    "# round(((df['Episode_Length(In min)'] >= 30).sum() / len(df) * 100), 2)"
   ]
  },
  {
   "cell_type": "markdown",
   "id": "19687a10",
   "metadata": {},
   "source": [
    "## Questions created by ChatGPT from easy to difficult\n",
    "Following is a list of 30 questions produced by ChatGPT to practice my understanding of Pandas"
   ]
  },
  {
   "cell_type": "code",
   "execution_count": null,
   "id": "a697ed09",
   "metadata": {},
   "outputs": [],
   "source": [
    "1.\tGet the Series of fast-food chain names."
   ]
  },
  {
   "cell_type": "code",
   "execution_count": null,
   "id": "c9b50968",
   "metadata": {},
   "outputs": [],
   "source": []
  },
  {
   "cell_type": "markdown",
   "id": "7470462b",
   "metadata": {},
   "source": [
    "2.\tCount the number of null values in each column."
   ]
  },
  {
   "cell_type": "code",
   "execution_count": null,
   "id": "7e84e0c9",
   "metadata": {},
   "outputs": [],
   "source": []
  },
  {
   "cell_type": "markdown",
   "id": "17aa5013",
   "metadata": {},
   "source": [
    "3.\tGet the Series of total U.S. sales."
   ]
  },
  {
   "cell_type": "code",
   "execution_count": null,
   "id": "c97a4e38",
   "metadata": {},
   "outputs": [],
   "source": []
  },
  {
   "cell_type": "markdown",
   "id": "30adb34d",
   "metadata": {},
   "source": [
    "4.\tFind the maximum sales value."
   ]
  },
  {
   "cell_type": "code",
   "execution_count": null,
   "id": "e9d0631e",
   "metadata": {},
   "outputs": [],
   "source": []
  },
  {
   "cell_type": "code",
   "execution_count": null,
   "id": "4d53fc8e",
   "metadata": {},
   "outputs": [],
   "source": [
    "5.\tFind the chain with the minimum number of units.\n",
    "6.\tGet a Series showing whether each chain is American.\n",
    "7.\tCount how many are American.\n",
    "8.\tCount how many are not American.\n",
    "9.\tGet a boolean Series: Is sales > 5000 million?\n",
    "10.\tFind the average number of total units.\n",
    "11.\tGet all chain names with sales over $5B (as Series).\n",
    "12.\tSort the Series of total units in descending order.\n",
    "13.\tCreate a Series of lowercase chain names.\n",
    "14.\tGet chains that are not American.\n",
    "15.\tCreate a Series showing sales per unit.\n",
    "16.\tCheck which chains have \"Pizza\" in their name.\n",
    "17.\tGet the 5 smallest chains by unit count.\n",
    "18.\tRename the column \"U.S. Systemwide Sales (Millions)\" to lowercase using .rename().\n",
    "19.\tFind the chain with the second highest sales.\n",
    "20.\tCreate a Series: is chain name longer than 10 characters?\n",
    "21.\tCreate a Series showing sales rank (1 = highest).\n",
    "22.\tGet the average sales for non-American chains.\n",
    "23.\tCreate a Series of chain names sorted by sales per unit.\n",
    "24.\tCount how many chains contain \"Burger\" or \"Chicken\" in the name.\n",
    "25.\tNormalize the sales column (0–1 range).\n",
    "26.\tCreate a Series flagging \"Global Giants\" (sales > 5000 & total units > 10000).\n",
    "27.\tCreate a Series of first letters of chain names.\n",
    "28.\tReplace all spaces in chain names with underscores.\n",
    "29.\tBucket sales into categories: Low (<1000), Medium (1000–5000), High (>5000)\n",
    "30.\tGet a Series of boolean values: does chain name start with \"M\"?"
   ]
  },
  {
   "cell_type": "code",
   "execution_count": null,
   "id": "26a28f8c",
   "metadata": {},
   "outputs": [],
   "source": []
  },
  {
   "cell_type": "code",
   "execution_count": null,
   "id": "cccc913d",
   "metadata": {},
   "outputs": [],
   "source": []
  },
  {
   "cell_type": "code",
   "execution_count": null,
   "id": "610cee08",
   "metadata": {},
   "outputs": [],
   "source": []
  },
  {
   "cell_type": "code",
   "execution_count": null,
   "id": "9ab086e0",
   "metadata": {},
   "outputs": [],
   "source": []
  },
  {
   "cell_type": "code",
   "execution_count": null,
   "id": "be0d3f1e",
   "metadata": {},
   "outputs": [],
   "source": []
  },
  {
   "cell_type": "code",
   "execution_count": null,
   "id": "3c2a0b1a",
   "metadata": {},
   "outputs": [],
   "source": []
  },
  {
   "cell_type": "code",
   "execution_count": null,
   "id": "157d68af",
   "metadata": {},
   "outputs": [],
   "source": []
  },
  {
   "cell_type": "code",
   "execution_count": null,
   "id": "9c57512b",
   "metadata": {},
   "outputs": [],
   "source": []
  },
  {
   "cell_type": "code",
   "execution_count": null,
   "id": "06334d26",
   "metadata": {},
   "outputs": [],
   "source": []
  }
 ],
 "metadata": {
  "kernelspec": {
   "display_name": "pandas_practice",
   "language": "python",
   "name": "python3"
  },
  "language_info": {
   "codemirror_mode": {
    "name": "ipython",
    "version": 3
   },
   "file_extension": ".py",
   "mimetype": "text/x-python",
   "name": "python",
   "nbconvert_exporter": "python",
   "pygments_lexer": "ipython3",
   "version": "3.10.18"
  }
 },
 "nbformat": 4,
 "nbformat_minor": 5
}
